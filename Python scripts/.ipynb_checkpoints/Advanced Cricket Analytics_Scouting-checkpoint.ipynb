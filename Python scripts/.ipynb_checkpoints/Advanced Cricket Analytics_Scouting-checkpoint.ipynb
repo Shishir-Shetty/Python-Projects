{
 "cells": [
  {
   "cell_type": "markdown",
   "metadata": {},
   "source": [
    "## Problem Statement:\n",
    "\n",
    "### Auction: Players who can fulfil the role of pinch hitter in powerplay for SRH?\n",
    "\n",
    "- Player analysis\n",
    "- Team analysis\n",
    "- Batsmen evaluation (ranking) for that particular role"
   ]
  },
  {
   "cell_type": "markdown",
   "metadata": {},
   "source": [
    "### Keywords: Pinch hitter, Powerplay, SRH\n",
    "- Quantifying these words:\n",
    "    - Pinch Hitter = High SR, Low balls_per_boundary, Decent Runs, Decent Balls Faced\n",
    "    - Powerplay = 1-6 overs\n",
    "    - SRH = Analysis By Team"
   ]
  },
  {
   "cell_type": "code",
   "execution_count": 2,
   "metadata": {
    "collapsed": false
   },
   "outputs": [],
   "source": [
    "%matplotlib inline\n",
    "import pandas as pd\n",
    "import numpy as np\n",
    "import math\n",
    "import matplotlib.pyplot as plt\n",
    "\n",
    "import warnings\n",
    "warnings.filterwarnings('ignore')\n",
    "\n",
    "pd.set_option('display.max_rows', None)\n",
    "pd.set_option('display.max_columns', None)  \n",
    "pd.set_option('display.expand_frame_repr', False)\n",
    "pd.set_option('max_colwidth', -1)"
   ]
  },
  {
   "cell_type": "code",
   "execution_count": 3,
   "metadata": {
    "collapsed": true
   },
   "outputs": [],
   "source": [
    "deliveries = pd.read_csv(\"C:\\\\Users\\\\SHETTS60\\\\Documents\\\\Python scripts\\\\Cricket analytics Materials\\MSD Analysis\\\\deliveries.csv\")\n",
    "matches = pd.read_csv(\"C:\\\\Users\\\\SHETTS60\\\\Documents\\\\Python scripts\\\\Cricket analytics Materials\\\\MSD Analysis\\\\matches.csv\")"
   ]
  },
  {
   "cell_type": "code",
   "execution_count": 4,
   "metadata": {
    "collapsed": true
   },
   "outputs": [],
   "source": [
    "#Writing function for balls per dismissal since dismissal can be 0 hence if we divide the balls/Dismissals it will give infinity\n",
    "\n",
    "def balls_per_dismissal(balls, dismissals):\n",
    "    if dismissals > 0:\n",
    "        return balls/dismissals\n",
    "    else:\n",
    "        return balls/1 \n",
    "    \n",
    "def balls_per_boundary(balls, boundaries):\n",
    "    if boundaries > 0:\n",
    "        return balls/boundaries\n",
    "    else:\n",
    "        return balls/1 \n",
    "    \n",
    "#combining all into one Function\n",
    "\n",
    "def playerStatistics(df):\n",
    "    \n",
    "    \n",
    "    df['isDot'] = df['batsman_runs'].apply(lambda x:1 if x==0 else 0)\n",
    "    df['isOne'] = df['batsman_runs'].apply(lambda x:1 if x==1 else 0)\n",
    "    df['isTwo'] = df['batsman_runs'].apply(lambda x:1 if x==2 else 0)\n",
    "    df['isThree'] = df['batsman_runs'].apply(lambda x:1 if x==3 else 0)\n",
    "    df['isFour'] = df['batsman_runs'].apply(lambda x:1 if x==4 else 0)\n",
    "    df['isSix'] = df['batsman_runs'].apply(lambda x:1 if x==6 else 0)\n",
    "    \n",
    "    runs = pd.DataFrame(df.groupby(['batsman'])['batsman_runs'].sum()).rename(columns ={\"batsman_runs\":\"runs\"}).reset_index()\n",
    "    balls = pd.DataFrame(df.groupby(['batsman'])['match_id'].count()).rename(columns ={\"match_id\":\"balls\"}).reset_index()\n",
    "    innings = pd.DataFrame(df.groupby(['batsman'])['match_id'].apply(lambda x: len(list(np.unique(x))))).rename(columns ={\"match_id\":\"innings\"}).reset_index()\n",
    "    dismissed = pd.DataFrame(df.groupby(['batsman'])['player_dismissed'].count()).rename(columns ={\"player_dismissed\":\"dismissals\"}).reset_index()\n",
    "    \n",
    "    dots = pd.DataFrame(df.groupby(['batsman'])['isTwo'].sum()).rename(columns ={\"isTwo\":\"dots\"}).reset_index()\n",
    "    ones = pd.DataFrame(df.groupby(['batsman'])['isOne'].sum()).rename(columns ={\"isOne\":\"ones\"}).reset_index()\n",
    "    twos = pd.DataFrame(df.groupby(['batsman'])['isTwo'].sum()).rename(columns ={\"isTwo\":\"twos\"}).reset_index()\n",
    "    threes = pd.DataFrame(df.groupby(['batsman'])['isThree'].sum()).rename(columns ={\"isThree\":\"threes\"}).reset_index()\n",
    "    fours = pd.DataFrame(df.groupby(['batsman'])['isFour'].sum()).rename(columns ={\"isFour\":\"fours\"}).reset_index()\n",
    "    sixes = pd.DataFrame(df.groupby(['batsman'])['isSix'].sum()).rename(columns ={\"isSix\":\"sixes\"}).reset_index()\n",
    "    \n",
    "    df = pd.merge(innings,runs, on ='batsman').merge(balls, on ='batsman').merge(dismissed,on ='batsman').merge(dots,on ='batsman').merge(ones,on ='batsman').merge(twos,on ='batsman').merge(threes,on ='batsman').merge(fours,on ='batsman').merge(sixes,on ='batsman')\n",
    "   \n",
    "    df['RPI'] = df.apply(lambda x:(x['runs']/x['innings']), axis=1)\n",
    "    \n",
    "    #Strike rate\n",
    "    df['SR'] = df.apply(lambda x:(100 * x['runs']/x['balls']), axis=1)\n",
    "    #balls per dismissals\n",
    "    df['BPD'] = df.apply(lambda x:balls_per_dismissal(x['balls'],x['dismissals']), axis=1)\n",
    "    #balls Per boundary\n",
    "    df['BPB'] = df.apply(lambda x: balls_per_boundary(x['balls'], (x['fours'] + x['sixes'])), axis = 1)\n",
    "    return df"
   ]
  },
  {
   "cell_type": "code",
   "execution_count": 5,
   "metadata": {
    "collapsed": true
   },
   "outputs": [],
   "source": [
    "df = playerStatistics(deliveries)"
   ]
  },
  {
   "cell_type": "code",
   "execution_count": 6,
   "metadata": {
    "collapsed": false
   },
   "outputs": [
    {
     "data": {
      "text/html": [
       "<div>\n",
       "<table border=\"1\" class=\"dataframe\">\n",
       "  <thead>\n",
       "    <tr style=\"text-align: right;\">\n",
       "      <th></th>\n",
       "      <th>batsman</th>\n",
       "      <th>innings</th>\n",
       "      <th>runs</th>\n",
       "      <th>balls</th>\n",
       "      <th>dismissals</th>\n",
       "      <th>dots</th>\n",
       "      <th>ones</th>\n",
       "      <th>twos</th>\n",
       "      <th>threes</th>\n",
       "      <th>fours</th>\n",
       "      <th>sixes</th>\n",
       "      <th>RPI</th>\n",
       "      <th>SR</th>\n",
       "      <th>BPD</th>\n",
       "      <th>BPB</th>\n",
       "    </tr>\n",
       "  </thead>\n",
       "  <tbody>\n",
       "    <tr>\n",
       "      <th>0</th>\n",
       "      <td>A Ashish Reddy</td>\n",
       "      <td>23</td>\n",
       "      <td>280</td>\n",
       "      <td>196</td>\n",
       "      <td>15</td>\n",
       "      <td>20</td>\n",
       "      <td>83</td>\n",
       "      <td>20</td>\n",
       "      <td>1</td>\n",
       "      <td>16</td>\n",
       "      <td>15</td>\n",
       "      <td>12.173913</td>\n",
       "      <td>142.857143</td>\n",
       "      <td>13.066667</td>\n",
       "      <td>6.322581</td>\n",
       "    </tr>\n",
       "    <tr>\n",
       "      <th>1</th>\n",
       "      <td>A Chandila</td>\n",
       "      <td>2</td>\n",
       "      <td>4</td>\n",
       "      <td>7</td>\n",
       "      <td>1</td>\n",
       "      <td>0</td>\n",
       "      <td>4</td>\n",
       "      <td>0</td>\n",
       "      <td>0</td>\n",
       "      <td>0</td>\n",
       "      <td>0</td>\n",
       "      <td>2.000000</td>\n",
       "      <td>57.142857</td>\n",
       "      <td>7.000000</td>\n",
       "      <td>7.000000</td>\n",
       "    </tr>\n",
       "    <tr>\n",
       "      <th>2</th>\n",
       "      <td>A Chopra</td>\n",
       "      <td>6</td>\n",
       "      <td>53</td>\n",
       "      <td>75</td>\n",
       "      <td>5</td>\n",
       "      <td>2</td>\n",
       "      <td>21</td>\n",
       "      <td>2</td>\n",
       "      <td>0</td>\n",
       "      <td>7</td>\n",
       "      <td>0</td>\n",
       "      <td>8.833333</td>\n",
       "      <td>70.666667</td>\n",
       "      <td>15.000000</td>\n",
       "      <td>10.714286</td>\n",
       "    </tr>\n",
       "    <tr>\n",
       "      <th>3</th>\n",
       "      <td>A Choudhary</td>\n",
       "      <td>3</td>\n",
       "      <td>25</td>\n",
       "      <td>20</td>\n",
       "      <td>2</td>\n",
       "      <td>1</td>\n",
       "      <td>13</td>\n",
       "      <td>1</td>\n",
       "      <td>0</td>\n",
       "      <td>1</td>\n",
       "      <td>1</td>\n",
       "      <td>8.333333</td>\n",
       "      <td>125.000000</td>\n",
       "      <td>10.000000</td>\n",
       "      <td>10.000000</td>\n",
       "    </tr>\n",
       "    <tr>\n",
       "      <th>4</th>\n",
       "      <td>A Dananjaya</td>\n",
       "      <td>1</td>\n",
       "      <td>4</td>\n",
       "      <td>5</td>\n",
       "      <td>0</td>\n",
       "      <td>1</td>\n",
       "      <td>2</td>\n",
       "      <td>1</td>\n",
       "      <td>0</td>\n",
       "      <td>0</td>\n",
       "      <td>0</td>\n",
       "      <td>4.000000</td>\n",
       "      <td>80.000000</td>\n",
       "      <td>5.000000</td>\n",
       "      <td>5.000000</td>\n",
       "    </tr>\n",
       "  </tbody>\n",
       "</table>\n",
       "</div>"
      ],
      "text/plain": [
       "          batsman  innings  runs  balls  dismissals  dots  ones  twos  threes  fours  sixes        RPI          SR        BPD        BPB\n",
       "0  A Ashish Reddy  23       280   196    15          20    83    20    1       16     15     12.173913  142.857143  13.066667  6.322581 \n",
       "1  A Chandila      2        4     7      1           0     4     0     0       0      0      2.000000   57.142857   7.000000   7.000000 \n",
       "2  A Chopra        6        53    75     5           2     21    2     0       7      0      8.833333   70.666667   15.000000  10.714286\n",
       "3  A Choudhary     3        25    20     2           1     13    1     0       1      1      8.333333   125.000000  10.000000  10.000000\n",
       "4  A Dananjaya     1        4     5      0           1     2     1     0       0      0      4.000000   80.000000   5.000000   5.000000 "
      ]
     },
     "execution_count": 6,
     "metadata": {},
     "output_type": "execute_result"
    }
   ],
   "source": [
    "df.head()"
   ]
  },
  {
   "cell_type": "markdown",
   "metadata": {},
   "source": [
    "### 1.3 : Performance in different phases of play"
   ]
  },
  {
   "cell_type": "code",
   "execution_count": 7,
   "metadata": {
    "collapsed": true
   },
   "outputs": [],
   "source": [
    "def phase(over):\n",
    "    if over <= 6:\n",
    "        return 'Powerplay'\n",
    "    elif over <= 15:\n",
    "        return 'Middle'\n",
    "    else:\n",
    "        return 'Death'"
   ]
  },
  {
   "cell_type": "code",
   "execution_count": 8,
   "metadata": {
    "collapsed": false
   },
   "outputs": [],
   "source": [
    "deliveries['Phase'] = deliveries[\"over\"].apply(lambda x:phase(x))"
   ]
  },
  {
   "cell_type": "code",
   "execution_count": 9,
   "metadata": {
    "collapsed": true
   },
   "outputs": [],
   "source": [
    "#combining all into one Function\n",
    "\n",
    "def phasesOfplay(df, current_phase):\n",
    "    \n",
    "    df = df[df[\"Phase\"] == current_phase]\n",
    "    df.reset_index(inplace = True, drop = True)\n",
    "    \n",
    "    df['isDot'] = df['batsman_runs'].apply(lambda x:1 if x==0 else 0)\n",
    "    df['isOne'] = df['batsman_runs'].apply(lambda x:1 if x==1 else 0)\n",
    "    df['isTwo'] = df['batsman_runs'].apply(lambda x:1 if x==2 else 0)\n",
    "    df['isThree'] = df['batsman_runs'].apply(lambda x:1 if x==3 else 0)\n",
    "    df['isFour'] = df['batsman_runs'].apply(lambda x:1 if x==4 else 0)\n",
    "    df['isSix'] = df['batsman_runs'].apply(lambda x:1 if x==6 else 0)\n",
    "    \n",
    "    runs = pd.DataFrame(df.groupby(['batsman'])['batsman_runs'].sum()).rename(columns ={\"batsman_runs\":\"runs\"}).reset_index()\n",
    "    balls = pd.DataFrame(df.groupby(['batsman'])['match_id'].count()).rename(columns ={\"match_id\":\"balls\"}).reset_index()\n",
    "    innings = pd.DataFrame(df.groupby(['batsman'])['match_id'].apply(lambda x: len(list(np.unique(x))))).rename(columns ={\"match_id\":\"innings\"}).reset_index()\n",
    "    dismissed = pd.DataFrame(df.groupby(['batsman'])['player_dismissed'].count()).rename(columns ={\"player_dismissed\":\"dismissals\"}).reset_index()\n",
    "    \n",
    "    dots = pd.DataFrame(df.groupby(['batsman'])['isTwo'].sum()).rename(columns ={\"isTwo\":\"dots\"}).reset_index()\n",
    "    ones = pd.DataFrame(df.groupby(['batsman'])['isOne'].sum()).rename(columns ={\"isOne\":\"ones\"}).reset_index()\n",
    "    twos = pd.DataFrame(df.groupby(['batsman'])['isTwo'].sum()).rename(columns ={\"isTwo\":\"twos\"}).reset_index()\n",
    "    threes = pd.DataFrame(df.groupby(['batsman'])['isThree'].sum()).rename(columns ={\"isThree\":\"threes\"}).reset_index()\n",
    "    fours = pd.DataFrame(df.groupby(['batsman'])['isFour'].sum()).rename(columns ={\"isFour\":\"fours\"}).reset_index()\n",
    "    sixes = pd.DataFrame(df.groupby(['batsman'])['isSix'].sum()).rename(columns ={\"isSix\":\"sixes\"}).reset_index()\n",
    "    \n",
    "    df = pd.merge(innings,runs, on ='batsman').merge(balls, on ='batsman').merge(dismissed,on ='batsman').merge(dots,on ='batsman').merge(ones,on ='batsman').merge(twos,on ='batsman').merge(threes,on ='batsman').merge(fours,on ='batsman').merge(sixes,on ='batsman')\n",
    "   \n",
    "    df['RPI'] = df.apply(lambda x:(x['runs']/x['innings']), axis=1)\n",
    "    \n",
    "    #Strike rate\n",
    "    df['SR'] = df.apply(lambda x:(100 * x['runs']/x['balls']), axis=1)\n",
    "    #balls per dismissals\n",
    "    df['BPD'] = df.apply(lambda x:balls_per_dismissal(x['balls'],x['dismissals']), axis=1)\n",
    "    #balls Per boundary\n",
    "    df['BPB'] = df.apply(lambda x: balls_per_boundary(x['balls'], (x['fours'] + x['sixes'])), axis = 1)\n",
    "    return df"
   ]
  },
  {
   "cell_type": "code",
   "execution_count": 10,
   "metadata": {
    "collapsed": false
   },
   "outputs": [],
   "source": [
    "pp_df = phasesOfplay(deliveries, 'Powerplay')\n",
    "mid_df = phasesOfplay(deliveries, 'Middle')\n",
    "dth_df = phasesOfplay(deliveries, 'Death')"
   ]
  },
  {
   "cell_type": "code",
   "execution_count": 11,
   "metadata": {
    "collapsed": false
   },
   "outputs": [
    {
     "data": {
      "text/html": [
       "<div>\n",
       "<table border=\"1\" class=\"dataframe\">\n",
       "  <thead>\n",
       "    <tr style=\"text-align: right;\">\n",
       "      <th></th>\n",
       "      <th>batsman</th>\n",
       "      <th>innings</th>\n",
       "      <th>runs</th>\n",
       "      <th>balls</th>\n",
       "      <th>dismissals</th>\n",
       "      <th>dots</th>\n",
       "      <th>ones</th>\n",
       "      <th>twos</th>\n",
       "      <th>threes</th>\n",
       "      <th>fours</th>\n",
       "      <th>sixes</th>\n",
       "      <th>RPI</th>\n",
       "      <th>SR</th>\n",
       "      <th>BPD</th>\n",
       "      <th>BPB</th>\n",
       "    </tr>\n",
       "  </thead>\n",
       "  <tbody>\n",
       "    <tr>\n",
       "      <th>0</th>\n",
       "      <td>A Ashish Reddy</td>\n",
       "      <td>1</td>\n",
       "      <td>5</td>\n",
       "      <td>7</td>\n",
       "      <td>1</td>\n",
       "      <td>0</td>\n",
       "      <td>1</td>\n",
       "      <td>0</td>\n",
       "      <td>0</td>\n",
       "      <td>1</td>\n",
       "      <td>0</td>\n",
       "      <td>5.000000</td>\n",
       "      <td>71.428571</td>\n",
       "      <td>7.000000</td>\n",
       "      <td>7.000000</td>\n",
       "    </tr>\n",
       "    <tr>\n",
       "      <th>1</th>\n",
       "      <td>A Chopra</td>\n",
       "      <td>5</td>\n",
       "      <td>27</td>\n",
       "      <td>41</td>\n",
       "      <td>2</td>\n",
       "      <td>0</td>\n",
       "      <td>11</td>\n",
       "      <td>0</td>\n",
       "      <td>0</td>\n",
       "      <td>4</td>\n",
       "      <td>0</td>\n",
       "      <td>5.400000</td>\n",
       "      <td>65.853659</td>\n",
       "      <td>20.500000</td>\n",
       "      <td>10.250000</td>\n",
       "    </tr>\n",
       "    <tr>\n",
       "      <th>2</th>\n",
       "      <td>A Flintoff</td>\n",
       "      <td>1</td>\n",
       "      <td>14</td>\n",
       "      <td>15</td>\n",
       "      <td>0</td>\n",
       "      <td>0</td>\n",
       "      <td>1</td>\n",
       "      <td>0</td>\n",
       "      <td>1</td>\n",
       "      <td>1</td>\n",
       "      <td>1</td>\n",
       "      <td>14.000000</td>\n",
       "      <td>93.333333</td>\n",
       "      <td>15.000000</td>\n",
       "      <td>7.500000</td>\n",
       "    </tr>\n",
       "    <tr>\n",
       "      <th>3</th>\n",
       "      <td>A Hales</td>\n",
       "      <td>6</td>\n",
       "      <td>118</td>\n",
       "      <td>82</td>\n",
       "      <td>3</td>\n",
       "      <td>7</td>\n",
       "      <td>24</td>\n",
       "      <td>7</td>\n",
       "      <td>0</td>\n",
       "      <td>11</td>\n",
       "      <td>6</td>\n",
       "      <td>19.666667</td>\n",
       "      <td>143.902439</td>\n",
       "      <td>27.333333</td>\n",
       "      <td>4.823529</td>\n",
       "    </tr>\n",
       "    <tr>\n",
       "      <th>4</th>\n",
       "      <td>A Mishra</td>\n",
       "      <td>1</td>\n",
       "      <td>1</td>\n",
       "      <td>5</td>\n",
       "      <td>0</td>\n",
       "      <td>0</td>\n",
       "      <td>1</td>\n",
       "      <td>0</td>\n",
       "      <td>0</td>\n",
       "      <td>0</td>\n",
       "      <td>0</td>\n",
       "      <td>1.000000</td>\n",
       "      <td>20.000000</td>\n",
       "      <td>5.000000</td>\n",
       "      <td>5.000000</td>\n",
       "    </tr>\n",
       "  </tbody>\n",
       "</table>\n",
       "</div>"
      ],
      "text/plain": [
       "          batsman  innings  runs  balls  dismissals  dots  ones  twos  threes  fours  sixes        RPI          SR        BPD        BPB\n",
       "0  A Ashish Reddy  1        5     7      1           0     1     0     0       1      0      5.000000   71.428571   7.000000   7.000000 \n",
       "1  A Chopra        5        27    41     2           0     11    0     0       4      0      5.400000   65.853659   20.500000  10.250000\n",
       "2  A Flintoff      1        14    15     0           0     1     0     1       1      1      14.000000  93.333333   15.000000  7.500000 \n",
       "3  A Hales         6        118   82     3           7     24    7     0       11     6      19.666667  143.902439  27.333333  4.823529 \n",
       "4  A Mishra        1        1     5      0           0     1     0     0       0      0      1.000000   20.000000   5.000000   5.000000 "
      ]
     },
     "execution_count": 11,
     "metadata": {},
     "output_type": "execute_result"
    }
   ],
   "source": [
    "pp_df.head()"
   ]
  },
  {
   "cell_type": "code",
   "execution_count": 12,
   "metadata": {
    "collapsed": false
   },
   "outputs": [
    {
     "data": {
      "image/png": "[encoded data removed]",
      "text/plain": [
       "<matplotlib.figure.Figure at 0x169a9e21ba8>"
      ]
     },
     "metadata": {},
     "output_type": "display_data"
    }
   ],
   "source": [
    "plt.figure(figsize = (12, 8))\n",
    "\n",
    "#subplot(has 2 row, 2 columns, and this plot is the first plot(plot number))\n",
    "plt.subplot(221)\n",
    "pp_df.SR.hist()\n",
    "plt.title('SR Distribution')\n",
    "\n",
    "plt.subplot(222)\n",
    "pp_df.RPI.hist()\n",
    "plt.title('RPI Distribution')\n",
    "\n",
    "plt.subplot(223)\n",
    "pp_df.BPD.hist()\n",
    "plt.title('BPD Distribution')\n",
    "\n",
    "plt.subplot(224)\n",
    "pp_df.BPB.hist()\n",
    "plt.title('BPB Distribution')\n",
    "\n",
    "plt.show()"
   ]
  },
  {
   "cell_type": "code",
   "execution_count": 13,
   "metadata": {
    "collapsed": false
   },
   "outputs": [],
   "source": [
    "import seaborn as sns"
   ]
  },
  {
   "cell_type": "code",
   "execution_count": 14,
   "metadata": {
    "collapsed": false
   },
   "outputs": [
    {
     "data": {
      "text/plain": [
       "<matplotlib.axes._subplots.AxesSubplot at 0x169ae1b0320>"
      ]
     },
     "execution_count": 14,
     "metadata": {},
     "output_type": "execute_result"
    },
    {
     "data": {
      "image/png": "[encoded data removed]",
      "text/plain": [
       "<matplotlib.figure.Figure at 0x169abc065c0>"
      ]
     },
     "metadata": {},
     "output_type": "display_data"
    }
   ],
   "source": [
    "#We can find outliers\n",
    "sns.boxplot(pp_df['RPI'])"
   ]
  },
  {
   "cell_type": "code",
   "execution_count": 15,
   "metadata": {
    "collapsed": false
   },
   "outputs": [
    {
     "data": {
      "text/plain": [
       "<matplotlib.axes._subplots.AxesSubplot at 0x169adcf07f0>"
      ]
     },
     "execution_count": 15,
     "metadata": {},
     "output_type": "execute_result"
    },
    {
     "data": {
      "image/png": "[encoded data removed]",
      "text/plain": [
       "<matplotlib.figure.Figure at 0x169adcf4e80>"
      ]
     },
     "metadata": {},
     "output_type": "display_data"
    }
   ],
   "source": [
    "sns.distplot(pp_df['RPI'])"
   ]
  },
  {
   "cell_type": "code",
   "execution_count": 16,
   "metadata": {
    "collapsed": false
   },
   "outputs": [
    {
     "data": {
      "image/png": "[encoded data removed]",
      "text/plain": [
       "<matplotlib.figure.Figure at 0x169ae412a90>"
      ]
     },
     "metadata": {},
     "output_type": "display_data"
    }
   ],
   "source": [
    "#to print both of the above together make use of subplot\n",
    "plt.figure(figsize = (15, 6))\n",
    "\n",
    "plt.subplot(121)\n",
    "sns.boxplot(pp_df['RPI'])\n",
    "\n",
    "plt.subplot(122)\n",
    "sns.distplot(pp_df['RPI'])\n",
    "plt.show()"
   ]
  }
 ],
 "metadata": {
  "anaconda-cloud": {},
  "kernelspec": {
   "display_name": "Python [Root]",
   "language": "python",
   "name": "Python [Root]"
  },
  "language_info": {
   "codemirror_mode": {
    "name": "ipython",
    "version": 3
   },
   "file_extension": ".py",
   "mimetype": "text/x-python",
   "name": "python",
   "nbconvert_exporter": "python",
   "pygments_lexer": "ipython3",
   "version": "3.5.2"
  }
 },
 "nbformat": 4,
 "nbformat_minor": 0
}
