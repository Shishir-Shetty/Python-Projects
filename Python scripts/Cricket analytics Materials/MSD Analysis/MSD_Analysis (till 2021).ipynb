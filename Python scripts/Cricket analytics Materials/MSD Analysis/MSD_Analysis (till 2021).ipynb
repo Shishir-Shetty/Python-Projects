{
 "cells": [
  {
   "cell_type": "code",
   "execution_count": 2,
   "metadata": {
    "collapsed": true,
    "id": "nWYs7U1adUcx"
   },
   "outputs": [],
   "source": [
    "import pandas as pd"
   ]
  },
  {
   "cell_type": "code",
   "execution_count": 3,
   "metadata": {
    "collapsed": true,
    "id": "JUYcNu2KdUc6"
   },
   "outputs": [],
   "source": [
    "df = pd.read_csv('ipl_ball_by_ball_data.csv')"
   ]
  },
  {
   "cell_type": "code",
   "execution_count": 4,
   "metadata": {
    "colab": {
     "base_uri": "https://localhost:8080/",
     "height": 199
    },
    "collapsed": false,
    "id": "2xUqdGTMdUc7",
    "outputId": "d3e261d3-b2b7-441b-bfb9-ca6d3ce2e29b"
   },
   "outputs": [
    {
     "data": {
      "text/html": [
       "<div>\n",
       "<table border=\"1\" class=\"dataframe\">\n",
       "  <thead>\n",
       "    <tr style=\"text-align: right;\">\n",
       "      <th></th>\n",
       "      <th>match_id</th>\n",
       "      <th>season</th>\n",
       "      <th>start_date</th>\n",
       "      <th>venue</th>\n",
       "      <th>innings</th>\n",
       "      <th>ball</th>\n",
       "      <th>batting_team</th>\n",
       "      <th>bowling_team</th>\n",
       "      <th>striker</th>\n",
       "      <th>non_striker</th>\n",
       "      <th>...</th>\n",
       "      <th>extras</th>\n",
       "      <th>wides</th>\n",
       "      <th>noballs</th>\n",
       "      <th>byes</th>\n",
       "      <th>legbyes</th>\n",
       "      <th>penalty</th>\n",
       "      <th>wicket_type</th>\n",
       "      <th>player_dismissed</th>\n",
       "      <th>other_wicket_type</th>\n",
       "      <th>other_player_dismissed</th>\n",
       "    </tr>\n",
       "  </thead>\n",
       "  <tbody>\n",
       "    <tr>\n",
       "      <th>0</th>\n",
       "      <td>335982</td>\n",
       "      <td>2008</td>\n",
       "      <td>2008-04-18</td>\n",
       "      <td>M Chinnaswamy Stadium</td>\n",
       "      <td>1</td>\n",
       "      <td>0.1</td>\n",
       "      <td>Kolkata Knight Riders</td>\n",
       "      <td>Royal Challengers Bangalore</td>\n",
       "      <td>SC Ganguly</td>\n",
       "      <td>BB McCullum</td>\n",
       "      <td>...</td>\n",
       "      <td>1</td>\n",
       "      <td>NaN</td>\n",
       "      <td>NaN</td>\n",
       "      <td>NaN</td>\n",
       "      <td>1.0</td>\n",
       "      <td>NaN</td>\n",
       "      <td>NaN</td>\n",
       "      <td>NaN</td>\n",
       "      <td>NaN</td>\n",
       "      <td>NaN</td>\n",
       "    </tr>\n",
       "    <tr>\n",
       "      <th>1</th>\n",
       "      <td>335982</td>\n",
       "      <td>2008</td>\n",
       "      <td>2008-04-18</td>\n",
       "      <td>M Chinnaswamy Stadium</td>\n",
       "      <td>2</td>\n",
       "      <td>3.1</td>\n",
       "      <td>Royal Challengers Bangalore</td>\n",
       "      <td>Kolkata Knight Riders</td>\n",
       "      <td>W Jaffer</td>\n",
       "      <td>JH Kallis</td>\n",
       "      <td>...</td>\n",
       "      <td>0</td>\n",
       "      <td>NaN</td>\n",
       "      <td>NaN</td>\n",
       "      <td>NaN</td>\n",
       "      <td>NaN</td>\n",
       "      <td>NaN</td>\n",
       "      <td>NaN</td>\n",
       "      <td>NaN</td>\n",
       "      <td>NaN</td>\n",
       "      <td>NaN</td>\n",
       "    </tr>\n",
       "  </tbody>\n",
       "</table>\n",
       "<p>2 rows × 22 columns</p>\n",
       "</div>"
      ],
      "text/plain": [
       "   match_id  season  start_date                  venue  innings  ball  \\\n",
       "0    335982    2008  2008-04-18  M Chinnaswamy Stadium        1   0.1   \n",
       "1    335982    2008  2008-04-18  M Chinnaswamy Stadium        2   3.1   \n",
       "\n",
       "                  batting_team                 bowling_team     striker  \\\n",
       "0        Kolkata Knight Riders  Royal Challengers Bangalore  SC Ganguly   \n",
       "1  Royal Challengers Bangalore        Kolkata Knight Riders    W Jaffer   \n",
       "\n",
       "   non_striker          ...           extras  wides  noballs  byes  legbyes  \\\n",
       "0  BB McCullum          ...                1    NaN      NaN   NaN      1.0   \n",
       "1    JH Kallis          ...                0    NaN      NaN   NaN      NaN   \n",
       "\n",
       "   penalty  wicket_type  player_dismissed other_wicket_type  \\\n",
       "0      NaN          NaN               NaN               NaN   \n",
       "1      NaN          NaN               NaN               NaN   \n",
       "\n",
       "  other_player_dismissed  \n",
       "0                    NaN  \n",
       "1                    NaN  \n",
       "\n",
       "[2 rows x 22 columns]"
      ]
     },
     "execution_count": 4,
     "metadata": {},
     "output_type": "execute_result"
    }
   ],
   "source": [
    "df.head(2)"
   ]
  },
  {
   "cell_type": "code",
   "execution_count": 5,
   "metadata": {
    "collapsed": true,
    "id": "6UapPtbsdUc9"
   },
   "outputs": [],
   "source": [
    "# To analyze MS Dhoni - batting statistics -Whether he is still fit to play ?"
   ]
  },
  {
   "cell_type": "code",
   "execution_count": 6,
   "metadata": {
    "colab": {
     "base_uri": "https://localhost:8080/"
    },
    "collapsed": false,
    "id": "941ab-axdUc-",
    "outputId": "afad440d-db63-42b4-b731-73fba3d49132"
   },
   "outputs": [
    {
     "data": {
      "text/plain": [
       "547"
      ]
     },
     "execution_count": 6,
     "metadata": {},
     "output_type": "execute_result"
    }
   ],
   "source": [
    "len(df.striker.unique())"
   ]
  },
  {
   "cell_type": "code",
   "execution_count": 7,
   "metadata": {
    "colab": {
     "base_uri": "https://localhost:8080/"
    },
    "collapsed": false,
    "id": "LPufoKI_dUc-",
    "outputId": "aeb7f1f0-d832-40b2-afb3-29d8f72eb732"
   },
   "outputs": [
    {
     "data": {
      "text/plain": [
       "429"
      ]
     },
     "execution_count": 7,
     "metadata": {},
     "output_type": "execute_result"
    }
   ],
   "source": [
    "len(df.bowler.unique())"
   ]
  },
  {
   "cell_type": "code",
   "execution_count": 8,
   "metadata": {
    "collapsed": true,
    "id": "xe35pK3YdUc-"
   },
   "outputs": [],
   "source": [
    "df = df[df.striker == 'MS Dhoni']"
   ]
  },
  {
   "cell_type": "code",
   "execution_count": 9,
   "metadata": {
    "collapsed": true,
    "id": "_UdV7h9Qh_Gf"
   },
   "outputs": [],
   "source": [
    "m_ls = list(df.match_id.unique())"
   ]
  },
  {
   "cell_type": "code",
   "execution_count": 10,
   "metadata": {
    "collapsed": true,
    "id": "CAllPLezdUdA"
   },
   "outputs": [],
   "source": [
    "df['start_date'] = pd.to_datetime(df['start_date'])"
   ]
  },
  {
   "cell_type": "code",
   "execution_count": 11,
   "metadata": {
    "collapsed": true,
    "id": "eeFC8O3wdUdB"
   },
   "outputs": [],
   "source": [
    "df.reset_index(inplace = True, drop = True)"
   ]
  },
  {
   "cell_type": "code",
   "execution_count": 12,
   "metadata": {
    "colab": {
     "base_uri": "https://localhost:8080/",
     "height": 168
    },
    "collapsed": false,
    "id": "h5XimwendUdC",
    "outputId": "90d67df7-36a5-4698-e144-c9a0c38be6f8"
   },
   "outputs": [
    {
     "data": {
      "text/html": [
       "<div>\n",
       "<table border=\"1\" class=\"dataframe\">\n",
       "  <thead>\n",
       "    <tr style=\"text-align: right;\">\n",
       "      <th></th>\n",
       "      <th>match_id</th>\n",
       "      <th>season</th>\n",
       "      <th>start_date</th>\n",
       "      <th>venue</th>\n",
       "      <th>innings</th>\n",
       "      <th>ball</th>\n",
       "      <th>batting_team</th>\n",
       "      <th>bowling_team</th>\n",
       "      <th>striker</th>\n",
       "      <th>non_striker</th>\n",
       "      <th>...</th>\n",
       "      <th>extras</th>\n",
       "      <th>wides</th>\n",
       "      <th>noballs</th>\n",
       "      <th>byes</th>\n",
       "      <th>legbyes</th>\n",
       "      <th>penalty</th>\n",
       "      <th>wicket_type</th>\n",
       "      <th>player_dismissed</th>\n",
       "      <th>other_wicket_type</th>\n",
       "      <th>other_player_dismissed</th>\n",
       "    </tr>\n",
       "  </thead>\n",
       "  <tbody>\n",
       "    <tr>\n",
       "      <th>0</th>\n",
       "      <td>335983</td>\n",
       "      <td>2008</td>\n",
       "      <td>2008-04-19</td>\n",
       "      <td>Punjab Cricket Association Stadium, Mohali</td>\n",
       "      <td>1</td>\n",
       "      <td>7.1</td>\n",
       "      <td>Chennai Super Kings</td>\n",
       "      <td>Kings XI Punjab</td>\n",
       "      <td>MS Dhoni</td>\n",
       "      <td>MEK Hussey</td>\n",
       "      <td>...</td>\n",
       "      <td>0</td>\n",
       "      <td>NaN</td>\n",
       "      <td>NaN</td>\n",
       "      <td>NaN</td>\n",
       "      <td>NaN</td>\n",
       "      <td>NaN</td>\n",
       "      <td>lbw</td>\n",
       "      <td>MS Dhoni</td>\n",
       "      <td>NaN</td>\n",
       "      <td>NaN</td>\n",
       "    </tr>\n",
       "  </tbody>\n",
       "</table>\n",
       "<p>1 rows × 22 columns</p>\n",
       "</div>"
      ],
      "text/plain": [
       "   match_id  season start_date                                       venue  \\\n",
       "0    335983    2008 2008-04-19  Punjab Cricket Association Stadium, Mohali   \n",
       "\n",
       "   innings  ball         batting_team     bowling_team   striker non_striker  \\\n",
       "0        1   7.1  Chennai Super Kings  Kings XI Punjab  MS Dhoni  MEK Hussey   \n",
       "\n",
       "           ...           extras  wides  noballs  byes  legbyes  penalty  \\\n",
       "0          ...                0    NaN      NaN   NaN      NaN      NaN   \n",
       "\n",
       "   wicket_type  player_dismissed other_wicket_type other_player_dismissed  \n",
       "0          lbw          MS Dhoni               NaN                    NaN  \n",
       "\n",
       "[1 rows x 22 columns]"
      ]
     },
     "execution_count": 12,
     "metadata": {},
     "output_type": "execute_result"
    }
   ],
   "source": [
    "df.head(1)"
   ]
  },
  {
   "cell_type": "code",
   "execution_count": 13,
   "metadata": {
    "collapsed": true,
    "id": "bbzQW09bdUdC"
   },
   "outputs": [],
   "source": [
    "# runs, balls - match level"
   ]
  },
  {
   "cell_type": "code",
   "execution_count": 14,
   "metadata": {
    "collapsed": true,
    "id": "Bmg0HYy7dUdC"
   },
   "outputs": [],
   "source": [
    "# m_ls - matches of MS"
   ]
  },
  {
   "cell_type": "code",
   "execution_count": 15,
   "metadata": {
    "collapsed": true,
    "id": "IeBAX0vEdUdC"
   },
   "outputs": [],
   "source": [
    "runs_ls = []\n",
    "\n",
    "for m in m_ls:\n",
    "    temp_df = df[df.match_id == m]\n",
    "    runs_scored = sum(temp_df.runs_off_bat)\n",
    "    runs_ls.append(runs_scored)"
   ]
  },
  {
   "cell_type": "code",
   "execution_count": 16,
   "metadata": {
    "collapsed": true,
    "id": "ArL9bfpqdUdD"
   },
   "outputs": [],
   "source": [
    "# balls, runs scored: 10 balls, 10-30 balls, 30+ balls"
   ]
  },
  {
   "cell_type": "code",
   "execution_count": 17,
   "metadata": {
    "colab": {
     "base_uri": "https://localhost:8080/",
     "height": 366
    },
    "collapsed": false,
    "id": "0uCIhQHQiNL7",
    "outputId": "492ccdd7-2c50-48bc-9d5f-8553d3e82221"
   },
   "outputs": [
    {
     "data": {
      "text/html": [
       "<div>\n",
       "<table border=\"1\" class=\"dataframe\">\n",
       "  <thead>\n",
       "    <tr style=\"text-align: right;\">\n",
       "      <th></th>\n",
       "      <th>match_id</th>\n",
       "      <th>season</th>\n",
       "      <th>start_date</th>\n",
       "      <th>venue</th>\n",
       "      <th>innings</th>\n",
       "      <th>ball</th>\n",
       "      <th>batting_team</th>\n",
       "      <th>bowling_team</th>\n",
       "      <th>striker</th>\n",
       "      <th>non_striker</th>\n",
       "      <th>...</th>\n",
       "      <th>extras</th>\n",
       "      <th>wides</th>\n",
       "      <th>noballs</th>\n",
       "      <th>byes</th>\n",
       "      <th>legbyes</th>\n",
       "      <th>penalty</th>\n",
       "      <th>wicket_type</th>\n",
       "      <th>player_dismissed</th>\n",
       "      <th>other_wicket_type</th>\n",
       "      <th>other_player_dismissed</th>\n",
       "    </tr>\n",
       "  </thead>\n",
       "  <tbody>\n",
       "    <tr>\n",
       "      <th>0</th>\n",
       "      <td>335983</td>\n",
       "      <td>2008</td>\n",
       "      <td>2008-04-19</td>\n",
       "      <td>Punjab Cricket Association Stadium, Mohali</td>\n",
       "      <td>1</td>\n",
       "      <td>7.1</td>\n",
       "      <td>Chennai Super Kings</td>\n",
       "      <td>Kings XI Punjab</td>\n",
       "      <td>MS Dhoni</td>\n",
       "      <td>MEK Hussey</td>\n",
       "      <td>...</td>\n",
       "      <td>0</td>\n",
       "      <td>NaN</td>\n",
       "      <td>NaN</td>\n",
       "      <td>NaN</td>\n",
       "      <td>NaN</td>\n",
       "      <td>NaN</td>\n",
       "      <td>lbw</td>\n",
       "      <td>MS Dhoni</td>\n",
       "      <td>NaN</td>\n",
       "      <td>NaN</td>\n",
       "    </tr>\n",
       "    <tr>\n",
       "      <th>1</th>\n",
       "      <td>335983</td>\n",
       "      <td>2008</td>\n",
       "      <td>2008-04-19</td>\n",
       "      <td>Punjab Cricket Association Stadium, Mohali</td>\n",
       "      <td>1</td>\n",
       "      <td>6.6</td>\n",
       "      <td>Chennai Super Kings</td>\n",
       "      <td>Kings XI Punjab</td>\n",
       "      <td>MS Dhoni</td>\n",
       "      <td>MEK Hussey</td>\n",
       "      <td>...</td>\n",
       "      <td>0</td>\n",
       "      <td>NaN</td>\n",
       "      <td>NaN</td>\n",
       "      <td>NaN</td>\n",
       "      <td>NaN</td>\n",
       "      <td>NaN</td>\n",
       "      <td>NaN</td>\n",
       "      <td>NaN</td>\n",
       "      <td>NaN</td>\n",
       "      <td>NaN</td>\n",
       "    </tr>\n",
       "    <tr>\n",
       "      <th>2</th>\n",
       "      <td>335983</td>\n",
       "      <td>2008</td>\n",
       "      <td>2008-04-19</td>\n",
       "      <td>Punjab Cricket Association Stadium, Mohali</td>\n",
       "      <td>1</td>\n",
       "      <td>6.3</td>\n",
       "      <td>Chennai Super Kings</td>\n",
       "      <td>Kings XI Punjab</td>\n",
       "      <td>MS Dhoni</td>\n",
       "      <td>MEK Hussey</td>\n",
       "      <td>...</td>\n",
       "      <td>0</td>\n",
       "      <td>NaN</td>\n",
       "      <td>NaN</td>\n",
       "      <td>NaN</td>\n",
       "      <td>NaN</td>\n",
       "      <td>NaN</td>\n",
       "      <td>NaN</td>\n",
       "      <td>NaN</td>\n",
       "      <td>NaN</td>\n",
       "      <td>NaN</td>\n",
       "    </tr>\n",
       "  </tbody>\n",
       "</table>\n",
       "<p>3 rows × 22 columns</p>\n",
       "</div>"
      ],
      "text/plain": [
       "   match_id  season start_date                                       venue  \\\n",
       "0    335983    2008 2008-04-19  Punjab Cricket Association Stadium, Mohali   \n",
       "1    335983    2008 2008-04-19  Punjab Cricket Association Stadium, Mohali   \n",
       "2    335983    2008 2008-04-19  Punjab Cricket Association Stadium, Mohali   \n",
       "\n",
       "   innings  ball         batting_team     bowling_team   striker non_striker  \\\n",
       "0        1   7.1  Chennai Super Kings  Kings XI Punjab  MS Dhoni  MEK Hussey   \n",
       "1        1   6.6  Chennai Super Kings  Kings XI Punjab  MS Dhoni  MEK Hussey   \n",
       "2        1   6.3  Chennai Super Kings  Kings XI Punjab  MS Dhoni  MEK Hussey   \n",
       "\n",
       "           ...           extras  wides  noballs  byes  legbyes  penalty  \\\n",
       "0          ...                0    NaN      NaN   NaN      NaN      NaN   \n",
       "1          ...                0    NaN      NaN   NaN      NaN      NaN   \n",
       "2          ...                0    NaN      NaN   NaN      NaN      NaN   \n",
       "\n",
       "   wicket_type  player_dismissed other_wicket_type other_player_dismissed  \n",
       "0          lbw          MS Dhoni               NaN                    NaN  \n",
       "1          NaN               NaN               NaN                    NaN  \n",
       "2          NaN               NaN               NaN                    NaN  \n",
       "\n",
       "[3 rows x 22 columns]"
      ]
     },
     "execution_count": 17,
     "metadata": {},
     "output_type": "execute_result"
    }
   ],
   "source": [
    "df[df.match_id == 335983]"
   ]
  },
  {
   "cell_type": "code",
   "execution_count": 18,
   "metadata": {
    "collapsed": false,
    "id": "h0mkH-WqdUdD"
   },
   "outputs": [],
   "source": [
    "balls_ls = []\n",
    "season_ls = []\n",
    "matches_ls = []\n",
    "runs_10b_ls = []\n",
    "runs_10b_30b_ls = []\n",
    "runs_30b_plus_ls = []\n",
    "\n",
    "for m in m_ls:\n",
    "    temp_df = df[df.match_id == m]\n",
    "    season_value = list(df[df.match_id == m]['season'].unique())[0]\n",
    "    temp_df_wo_wides = temp_df[temp_df.extras == 0] \n",
    "    total_balls = len(temp_df_wo_wides)\n",
    "    balls_ls.append(total_balls)\n",
    "    season_ls.append(season_value)\n",
    "    matches_ls.append(m)\n",
    "\n",
    "    if total_balls <= 10:\n",
    "        runs_10b_ls.append(sum(temp_df_wo_wides.runs_off_bat))\n",
    "        runs_10b_30b_ls.append(0)\n",
    "        runs_30b_plus_ls.append(0)\n",
    "    elif (total_balls > 10) & (total_balls <= 30):\n",
    "        runs_10b_ls.append(sum(temp_df_wo_wides.runs_off_bat[:10]))\n",
    "        runs_10b_30b_ls.append(sum(temp_df_wo_wides.runs_off_bat[10:30]))\n",
    "        runs_30b_plus_ls.append(0)\n",
    "    else:\n",
    "        runs_10b_ls.append(sum(temp_df_wo_wides.runs_off_bat[:10]))\n",
    "        runs_10b_30b_ls.append(sum(temp_df_wo_wides.runs_off_bat[10:30]))\n",
    "        runs_30b_plus_ls.append(sum(temp_df_wo_wides.runs_off_bat[30:]))\n",
    "        "
   ]
  },
  {
   "cell_type": "code",
   "execution_count": 19,
   "metadata": {
    "collapsed": false,
    "id": "Dez1LE8GifwM"
   },
   "outputs": [],
   "source": [
    "mdf = pd.DataFrame()"
   ]
  },
  {
   "cell_type": "code",
   "execution_count": 20,
   "metadata": {
    "collapsed": true,
    "id": "95eBDGoRdUdD"
   },
   "outputs": [],
   "source": [
    "mdf['season'] = season_ls\n",
    "mdf['match_id'] = matches_ls\n",
    "mdf['runs'] = runs_ls\n",
    "mdf['balls'] = balls_ls\n",
    "mdf['runs_10b'] = runs_10b_ls\n",
    "mdf['runs_10b_30b'] = runs_10b_30b_ls\n",
    "mdf['runs_30b_plus'] = runs_30b_plus_ls"
   ]
  },
  {
   "cell_type": "code",
   "execution_count": null,
   "metadata": {
    "colab": {
     "base_uri": "https://localhost:8080/",
     "height": 204
    },
    "collapsed": false,
    "id": "xAOyWNWndUdE",
    "outputId": "402b3045-6811-4d28-de8a-33c1629ddf8f"
   },
   "outputs": [],
   "source": []
  },
  {
   "cell_type": "code",
   "execution_count": 32,
   "metadata": {
    "collapsed": true,
    "id": "Er_L0dOAdUdE"
   },
   "outputs": [],
   "source": [
    "import matplotlib.pyplot as plt"
   ]
  },
  {
   "cell_type": "code",
   "execution_count": 35,
   "metadata": {
    "colab": {
     "base_uri": "https://localhost:8080/",
     "height": 310
    },
    "collapsed": false,
    "id": "0T5-G1U_dUdE",
    "outputId": "c2c1c879-4881-4a18-b386-8a21a46df870"
   },
   "outputs": [],
   "source": [
    "mdf.groupby(['season'])['runs'].sum().plot(kind = 'bar')\n",
    "plt.ylabel('Total Runs')\n",
    "plt.title('MSD - Total Runs by Season')\n",
    "plt.xticks(rotation=45, ha='right')\n",
    "plt.show()"
   ]
  },
  {
   "cell_type": "code",
   "execution_count": 23,
   "metadata": {
    "colab": {
     "base_uri": "https://localhost:8080/",
     "height": 310
    },
    "collapsed": false,
    "id": "bvieM6-ldUdF",
    "outputId": "9d30e76c-0051-4283-c450-8841c1179c95"
   },
   "outputs": [
    {
     "data": {
      "image/png": "[encoded data removed]",
      "text/plain": [
       "<Figure size 432x288 with 1 Axes>"
      ]
     },
     "metadata": {
      "needs_background": "light",
      "tags": []
     },
     "output_type": "display_data"
    }
   ],
   "source": [
    "mdf.groupby(['season'])['runs'].mean().plot(kind = 'bar')\n",
    "plt.ylabel('Total Runs')\n",
    "plt.title('MSD - Average Runs by Season')\n",
    "plt.xticks(rotation=45, ha='right')\n",
    "plt.show()"
   ]
  },
  {
   "cell_type": "code",
   "execution_count": 37,
   "metadata": {
    "colab": {
     "base_uri": "https://localhost:8080/",
     "height": 310
    },
    "collapsed": false,
    "id": "hl8eSxVJdUdF",
    "outputId": "a8eb5cfe-199e-4628-daa0-defa4b792de0"
   },
   "outputs": [],
   "source": [
    "mdf.groupby(['season'])['runs_30b_plus'].sum().plot(kind = 'bar')\n",
    "plt.ylabel('Total Runs')\n",
    "plt.title('MSD - Runs by Season - After 30+ balls')\n",
    "plt.xticks(rotation=45, ha='right')\n",
    "plt.show()"
   ]
  },
  {
   "cell_type": "code",
   "execution_count": 25,
   "metadata": {
    "colab": {
     "base_uri": "https://localhost:8080/",
     "height": 310
    },
    "collapsed": false,
    "id": "V8pbyrVkdUdG",
    "outputId": "b60c6b06-1769-4aa7-d2c1-63472392f68f"
   },
   "outputs": [
    {
     "data": {
      "image/png": "[encoded data removed]",
      "text/plain": [
       "<Figure size 432x288 with 1 Axes>"
      ]
     },
     "metadata": {
      "needs_background": "light",
      "tags": []
     },
     "output_type": "display_data"
    }
   ],
   "source": [
    "mdf.groupby(['season'])['runs_10b_30b'].sum().plot(kind = 'bar')\n",
    "plt.ylabel('Total Runs')\n",
    "plt.title('MSD - Runs by Season - B/w 10 - 30 balls')\n",
    "plt.xticks(rotation=45, ha='right')\n",
    "plt.show()"
   ]
  },
  {
   "cell_type": "code",
   "execution_count": 26,
   "metadata": {
    "colab": {
     "base_uri": "https://localhost:8080/",
     "height": 310
    },
    "collapsed": false,
    "id": "rGG7aI1yjMl7",
    "outputId": "f3daa5ff-ba94-42ae-bca0-ca895b1d9f40"
   },
   "outputs": [
    {
     "data": {
      "image/png": "[encoded data removed]",
      "text/plain": [
       "<Figure size 432x288 with 1 Axes>"
      ]
     },
     "metadata": {
      "needs_background": "light",
      "tags": []
     },
     "output_type": "display_data"
    }
   ],
   "source": [
    "mdf.groupby(['season'])['runs_10b'].sum().plot(kind = 'bar')\n",
    "plt.ylabel('Total Runs')\n",
    "plt.title('MSD - Runs by Season in first 10 balls')\n",
    "plt.xticks(rotation=45, ha='right')\n",
    "plt.show()"
   ]
  }
 ],
 "metadata": {
  "anaconda-cloud": {},
  "colab": {
   "collapsed_sections": [],
   "name": "Updated Case Study - MSD Analysis.ipynb",
   "provenance": []
  },
  "kernelspec": {
   "display_name": "Python [Root]",
   "language": "python",
   "name": "Python [Root]"
  },
  "language_info": {
   "codemirror_mode": {
    "name": "ipython",
    "version": 3
   },
   "file_extension": ".py",
   "mimetype": "text/x-python",
   "name": "python",
   "nbconvert_exporter": "python",
   "pygments_lexer": "ipython3",
   "version": "3.5.2"
  }
 },
 "nbformat": 4,
 "nbformat_minor": 0
}
