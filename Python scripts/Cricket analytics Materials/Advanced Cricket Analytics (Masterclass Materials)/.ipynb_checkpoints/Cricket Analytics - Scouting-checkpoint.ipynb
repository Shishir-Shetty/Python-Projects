{
 "cells": [
  {
   "cell_type": "markdown",
   "metadata": {},
   "source": [
    "## Ideas for scouting analysis:\n"
   ]
  },
  {
   "cell_type": "markdown",
   "metadata": {},
   "source": [
    "- Time series analysis\n",
    "    - Hitting ability\n",
    "    - Runs scoring ability\n",
    "    - Pressure soaking ability (entry points, exit points)\n",
    "    - Strike rotation\n",
    "- Time series forecasting"
   ]
  },
  {
   "cell_type": "markdown",
   "metadata": {},
   "source": [
    "## Problem Statement:\n",
    "\n",
    "### Auction: Players who can fulfil the role of pinch hitter in powerplay for SRH?\n",
    "\n",
    "- Player analysis\n",
    "- Team analysis\n",
    "- Batsmen evaluation (ranking) for that particular role"
   ]
  },
  {
   "cell_type": "markdown",
   "metadata": {},
   "source": [
    "### Keywords: Pinch hitter, Powerplay, SRH\n",
    "- Quantifying these words:\n",
    "    - Pinch Hitter = High SR, Low balls_per_boundary, Decent Runs, Decent Balls Faced\n",
    "    - Powerplay = 1-6 overs\n",
    "    - SRH = Analysis By Team"
   ]
  },
  {
   "cell_type": "code",
   "execution_count": 19,
   "metadata": {
    "collapsed": true
   },
   "outputs": [],
   "source": [
    "import math\n",
    "import pandas as pd\n",
    "import numpy as np\n",
    "\n",
    "import warnings\n",
    "warnings.filterwarnings('ignore')\n",
    "\n",
    "pd.set_option('display.max_columns', None)\n",
    "pd.set_option('display.max_rows', None)\n",
    "pd.set_option('display.expand_frame_repr', False)\n",
    "pd.set_option('max_colwidth', -1)\n",
    "\n",
    "import matplotlib.pyplot as plt"
   ]
  },
  {
   "cell_type": "code",
   "execution_count": 20,
   "metadata": {
    "collapsed": true
   },
   "outputs": [],
   "source": [
    "deliveries = pd.read_csv('deliveries.csv')\n",
    "matches = pd.read_csv('matches.csv')"
   ]
  },
  {
   "cell_type": "markdown",
   "metadata": {},
   "source": [
    "## Terminology Used:\n",
    "- SR = Strike Rate = Scoring rate for each ball\n",
    "- RPI = Runs Per Innings = Runs scored per each innings including outs/not-outs\n",
    "- BPB = Balls Per Boundary = No of balls for each six or a four\n",
    "- BPD = Balls Per Dismissal = Average number of balls faced per each dismissal"
   ]
  },
  {
   "cell_type": "markdown",
   "metadata": {},
   "source": [
    "## Part 1: Player Statistics\n",
    "\n",
    "### 1.1 : Extract player-level statistics\n",
    "### 1.2 : Determine player type from the above stats"
   ]
  },
  {
   "cell_type": "code",
   "execution_count": 21,
   "metadata": {
    "collapsed": true
   },
   "outputs": [],
   "source": [
    "def balls_per_dismissal(balls, dismissals):\n",
    "    if dismissals > 0:\n",
    "        return balls/dismissals\n",
    "    else:\n",
    "        return balls/1 \n",
    "    \n",
    "def balls_per_boundary(balls, boundaries):\n",
    "    if boundaries > 0:\n",
    "        return balls/boundaries\n",
    "    else:\n",
    "        return balls/1 \n",
    "\n",
    "def playerStatistics(df):\n",
    "    \n",
    "    df['isDot'] = df['batsman_runs'].apply(lambda x: 1 if x == 0 else 0)\n",
    "    df['isOne'] = df['batsman_runs'].apply(lambda x: 1 if x == 1 else 0)\n",
    "    df['isTwo'] = df['batsman_runs'].apply(lambda x: 1 if x == 2 else 0)\n",
    "    df['isThree'] = df['batsman_runs'].apply(lambda x: 1 if x == 3 else 0)\n",
    "    df['isFour'] = df['batsman_runs'].apply(lambda x: 1 if x == 4 else 0)\n",
    "    df['isSix'] = df['batsman_runs'].apply(lambda x: 1 if x == 6 else 0)\n",
    "    \n",
    "    runs = pd.DataFrame(df.groupby(['batsman', 'match_id'])['batsman_runs'].sum().reset_index()).groupby(['batsman'])['batsman_runs'].sum().reset_index().rename(columns={'batsman_runs':'runs'})\n",
    "    innings = pd.DataFrame(df.groupby(['batsman'])['match_id'].apply(lambda x: len(list(np.unique(x)))).reset_index()).rename(columns = {'match_id':'innings'})\n",
    "    balls = pd.DataFrame(df.groupby(['batsman'])['match_id'].count()).reset_index().rename(columns = {'match_id':'balls'})\n",
    "    dismissals = pd.DataFrame(df.groupby(['batsman'])['player_dismissed'].count()).reset_index().rename(columns = {'player_dismissed':'dismissals'})\n",
    "    \n",
    "    dots = pd.DataFrame(df.groupby(['batsman'])['isDot'].sum()).reset_index().rename(columns = {'isDot':'dots'})\n",
    "    ones = pd.DataFrame(df.groupby(['batsman'])['isOne'].sum()).reset_index().rename(columns = {'isOne':'ones'})\n",
    "    twos = pd.DataFrame(df.groupby(['batsman'])['isTwo'].sum()).reset_index().rename(columns = {'isTwo':'twos'})\n",
    "    threes = pd.DataFrame(df.groupby(['batsman'])['isThree'].sum()).reset_index().rename(columns = {'isThree':'threes'})\n",
    "    fours = pd.DataFrame(df.groupby(['batsman'])['isFour'].sum()).reset_index().rename(columns = {'isFour':'fours'})\n",
    "    sixes = pd.DataFrame(df.groupby(['batsman'])['isSix'].sum()).reset_index().rename(columns = {'isSix':'sixes'})\n",
    "    \n",
    "    df = pd.merge(innings, runs, on = 'batsman').merge(balls, on = 'batsman').merge(dismissals, on = 'batsman').merge(dots, on = 'batsman').merge(ones, on = 'batsman').merge(twos, on = 'batsman').merge(threes, on = 'batsman').merge(fours, on = 'batsman').merge(sixes, on = 'batsman')\n",
    "    \n",
    "    #StrikeRate\n",
    "    df['SR'] = df.apply(lambda x: 100*(x['runs']/x['balls']), axis = 1)\n",
    "\n",
    "    #runs per innings\n",
    "    df['RPI'] = df.apply(lambda x: x['runs']/x['innings'], axis = 1)\n",
    "\n",
    "    #balls per dismissals\n",
    "    df['BPD'] = df.apply(lambda x: balls_per_dismissal(x['balls'], x['dismissals']), axis = 1)\n",
    "\n",
    "    #balls per boundary\n",
    "    df['BPB'] = df.apply(lambda x: balls_per_boundary(x['balls'], (x['fours'] + x['sixes'])), axis = 1)\n",
    "    \n",
    "    return df"
   ]
  },
  {
   "cell_type": "code",
   "execution_count": 22,
   "metadata": {
    "collapsed": true
   },
   "outputs": [],
   "source": [
    "df = playerStatistics(deliveries)"
   ]
  },
  {
   "cell_type": "code",
   "execution_count": 23,
   "metadata": {
    "collapsed": false
   },
   "outputs": [
    {
     "data": {
      "text/html": [
       "<div>\n",
       "<style scoped>\n",
       "    .dataframe tbody tr th:only-of-type {\n",
       "        vertical-align: middle;\n",
       "    }\n",
       "\n",
       "    .dataframe tbody tr th {\n",
       "        vertical-align: top;\n",
       "    }\n",
       "\n",
       "    .dataframe thead th {\n",
       "        text-align: right;\n",
       "    }\n",
       "</style>\n",
       "<table border=\"1\" class=\"dataframe\">\n",
       "  <thead>\n",
       "    <tr style=\"text-align: right;\">\n",
       "      <th></th>\n",
       "      <th>batsman</th>\n",
       "      <th>innings</th>\n",
       "      <th>runs</th>\n",
       "      <th>balls</th>\n",
       "      <th>dismissals</th>\n",
       "      <th>dots</th>\n",
       "      <th>ones</th>\n",
       "      <th>twos</th>\n",
       "      <th>threes</th>\n",
       "      <th>fours</th>\n",
       "      <th>sixes</th>\n",
       "      <th>SR</th>\n",
       "      <th>RPI</th>\n",
       "      <th>BPD</th>\n",
       "      <th>BPB</th>\n",
       "    </tr>\n",
       "  </thead>\n",
       "  <tbody>\n",
       "    <tr>\n",
       "      <th>0</th>\n",
       "      <td>A Ashish Reddy</td>\n",
       "      <td>23</td>\n",
       "      <td>280</td>\n",
       "      <td>196</td>\n",
       "      <td>15</td>\n",
       "      <td>61</td>\n",
       "      <td>83</td>\n",
       "      <td>20</td>\n",
       "      <td>1</td>\n",
       "      <td>16</td>\n",
       "      <td>15</td>\n",
       "      <td>142.857143</td>\n",
       "      <td>12.173913</td>\n",
       "      <td>13.066667</td>\n",
       "      <td>6.322581</td>\n",
       "    </tr>\n",
       "    <tr>\n",
       "      <th>1</th>\n",
       "      <td>A Chandila</td>\n",
       "      <td>2</td>\n",
       "      <td>4</td>\n",
       "      <td>7</td>\n",
       "      <td>1</td>\n",
       "      <td>3</td>\n",
       "      <td>4</td>\n",
       "      <td>0</td>\n",
       "      <td>0</td>\n",
       "      <td>0</td>\n",
       "      <td>0</td>\n",
       "      <td>57.142857</td>\n",
       "      <td>2.000000</td>\n",
       "      <td>7.000000</td>\n",
       "      <td>7.000000</td>\n",
       "    </tr>\n",
       "    <tr>\n",
       "      <th>2</th>\n",
       "      <td>A Chopra</td>\n",
       "      <td>6</td>\n",
       "      <td>53</td>\n",
       "      <td>75</td>\n",
       "      <td>5</td>\n",
       "      <td>45</td>\n",
       "      <td>21</td>\n",
       "      <td>2</td>\n",
       "      <td>0</td>\n",
       "      <td>7</td>\n",
       "      <td>0</td>\n",
       "      <td>70.666667</td>\n",
       "      <td>8.833333</td>\n",
       "      <td>15.000000</td>\n",
       "      <td>10.714286</td>\n",
       "    </tr>\n",
       "    <tr>\n",
       "      <th>3</th>\n",
       "      <td>A Choudhary</td>\n",
       "      <td>3</td>\n",
       "      <td>25</td>\n",
       "      <td>20</td>\n",
       "      <td>2</td>\n",
       "      <td>4</td>\n",
       "      <td>13</td>\n",
       "      <td>1</td>\n",
       "      <td>0</td>\n",
       "      <td>1</td>\n",
       "      <td>1</td>\n",
       "      <td>125.000000</td>\n",
       "      <td>8.333333</td>\n",
       "      <td>10.000000</td>\n",
       "      <td>10.000000</td>\n",
       "    </tr>\n",
       "    <tr>\n",
       "      <th>4</th>\n",
       "      <td>A Flintoff</td>\n",
       "      <td>3</td>\n",
       "      <td>62</td>\n",
       "      <td>57</td>\n",
       "      <td>2</td>\n",
       "      <td>24</td>\n",
       "      <td>23</td>\n",
       "      <td>2</td>\n",
       "      <td>1</td>\n",
       "      <td>5</td>\n",
       "      <td>2</td>\n",
       "      <td>108.771930</td>\n",
       "      <td>20.666667</td>\n",
       "      <td>28.500000</td>\n",
       "      <td>8.142857</td>\n",
       "    </tr>\n",
       "  </tbody>\n",
       "</table>\n",
       "</div>"
      ],
      "text/plain": [
       "          batsman  innings  runs  balls  dismissals  dots  ones  twos  threes  fours  sixes          SR        RPI        BPD        BPB\n",
       "0  A Ashish Reddy  23       280   196    15          61    83    20    1       16     15     142.857143  12.173913  13.066667  6.322581 \n",
       "1  A Chandila      2        4     7      1           3     4     0     0       0      0      57.142857   2.000000   7.000000   7.000000 \n",
       "2  A Chopra        6        53    75     5           45    21    2     0       7      0      70.666667   8.833333   15.000000  10.714286\n",
       "3  A Choudhary     3        25    20     2           4     13    1     0       1      1      125.000000  8.333333   10.000000  10.000000\n",
       "4  A Flintoff      3        62    57     2           24    23    2     1       5      2      108.771930  20.666667  28.500000  8.142857 "
      ]
     },
     "execution_count": 23,
     "metadata": {},
     "output_type": "execute_result"
    }
   ],
   "source": [
    "df.head()"
   ]
  },
  {
   "cell_type": "markdown",
   "metadata": {},
   "source": [
    "### 1.3 : Performance in different phases of play"
   ]
  },
  {
   "cell_type": "code",
   "execution_count": 24,
   "metadata": {
    "collapsed": true
   },
   "outputs": [],
   "source": [
    "def phase(over):\n",
    "    if over <= 6:\n",
    "        return 'Powerplay'\n",
    "    elif over <= 15:\n",
    "        return 'Middle'\n",
    "    else:\n",
    "        return 'Death'"
   ]
  },
  {
   "cell_type": "code",
   "execution_count": 25,
   "metadata": {
    "collapsed": true
   },
   "outputs": [],
   "source": [
    "deliveries['phase'] = deliveries['over'].apply(lambda x: phase(x))"
   ]
  },
  {
   "cell_type": "code",
   "execution_count": 26,
   "metadata": {
    "collapsed": true
   },
   "outputs": [],
   "source": [
    "def phasesOfplay(df, current_phase):\n",
    "    \n",
    "    df = df[df.phase == current_phase]\n",
    "    df.reset_index(inplace = True, drop = True)\n",
    "    \n",
    "    df['isDot'] = df['batsman_runs'].apply(lambda x: 1 if x == 0 else 0)\n",
    "    df['isOne'] = df['batsman_runs'].apply(lambda x: 1 if x == 1 else 0)\n",
    "    df['isTwo'] = df['batsman_runs'].apply(lambda x: 1 if x == 2 else 0)\n",
    "    df['isThree'] = df['batsman_runs'].apply(lambda x: 1 if x == 3 else 0)\n",
    "    df['isFour'] = df['batsman_runs'].apply(lambda x: 1 if x == 4 else 0)\n",
    "    df['isSix'] = df['batsman_runs'].apply(lambda x: 1 if x == 6 else 0)\n",
    "    \n",
    "    runs = pd.DataFrame(df.groupby(['batsman', 'match_id'])['batsman_runs'].sum().reset_index()).groupby(['batsman'])['batsman_runs'].sum().reset_index().rename(columns={'batsman_runs':'runs'})\n",
    "    innings = pd.DataFrame(df.groupby(['batsman'])['match_id'].apply(lambda x: len(list(np.unique(x)))).reset_index()).rename(columns = {'match_id':'innings'})\n",
    "    balls = pd.DataFrame(df.groupby(['batsman'])['match_id'].count()).reset_index().rename(columns = {'match_id':'balls'})\n",
    "    dismissals = pd.DataFrame(df.groupby(['batsman'])['player_dismissed'].count()).reset_index().rename(columns = {'player_dismissed':'dismissals'})\n",
    "    \n",
    "    dots = pd.DataFrame(df.groupby(['batsman'])['isDot'].sum()).reset_index().rename(columns = {'isDot':'dots'})\n",
    "    ones = pd.DataFrame(df.groupby(['batsman'])['isOne'].sum()).reset_index().rename(columns = {'isOne':'ones'})\n",
    "    twos = pd.DataFrame(df.groupby(['batsman'])['isTwo'].sum()).reset_index().rename(columns = {'isTwo':'twos'})\n",
    "    threes = pd.DataFrame(df.groupby(['batsman'])['isThree'].sum()).reset_index().rename(columns = {'isThree':'threes'})\n",
    "    fours = pd.DataFrame(df.groupby(['batsman'])['isFour'].sum()).reset_index().rename(columns = {'isFour':'fours'})\n",
    "    sixes = pd.DataFrame(df.groupby(['batsman'])['isSix'].sum()).reset_index().rename(columns = {'isSix':'sixes'})\n",
    "    \n",
    "    df = pd.merge(innings, runs, on = 'batsman').merge(balls, on = 'batsman').merge(dismissals, on = 'batsman').merge(dots, on = 'batsman').merge(ones, on = 'batsman').merge(twos, on = 'batsman').merge(threes, on = 'batsman').merge(fours, on = 'batsman').merge(sixes, on = 'batsman')\n",
    "    \n",
    "    #StrikeRate\n",
    "    df['SR'] = df.apply(lambda x: 100*(x['runs']/x['balls']), axis = 1)\n",
    "\n",
    "    #runs per innings\n",
    "    df['RPI'] = df.apply(lambda x: x['runs']/x['innings'], axis = 1)\n",
    "\n",
    "    #balls per dismissals\n",
    "    df['BPD'] = df.apply(lambda x: balls_per_dismissal(x['balls'], x['dismissals']), axis = 1)\n",
    "\n",
    "    #balls per boundary\n",
    "    df['BPB'] = df.apply(lambda x: balls_per_boundary(x['balls'], (x['fours'] + x['sixes'])), axis = 1)\n",
    "    \n",
    "    return df"
   ]
  },
  {
   "cell_type": "code",
   "execution_count": 27,
   "metadata": {
    "collapsed": true
   },
   "outputs": [],
   "source": [
    "pp_df = phasesOfplay(deliveries, 'Powerplay')\n",
    "mid_df = phasesOfplay(deliveries, 'Middle')\n",
    "dth_df = phasesOfplay(deliveries, 'Death')"
   ]
  },
  {
   "cell_type": "code",
   "execution_count": 28,
   "metadata": {
    "collapsed": false
   },
   "outputs": [
    {
     "data": {
      "text/html": [
       "<div>\n",
       "<style scoped>\n",
       "    .dataframe tbody tr th:only-of-type {\n",
       "        vertical-align: middle;\n",
       "    }\n",
       "\n",
       "    .dataframe tbody tr th {\n",
       "        vertical-align: top;\n",
       "    }\n",
       "\n",
       "    .dataframe thead th {\n",
       "        text-align: right;\n",
       "    }\n",
       "</style>\n",
       "<table border=\"1\" class=\"dataframe\">\n",
       "  <thead>\n",
       "    <tr style=\"text-align: right;\">\n",
       "      <th></th>\n",
       "      <th>batsman</th>\n",
       "      <th>innings</th>\n",
       "      <th>runs</th>\n",
       "      <th>balls</th>\n",
       "      <th>dismissals</th>\n",
       "      <th>dots</th>\n",
       "      <th>ones</th>\n",
       "      <th>twos</th>\n",
       "      <th>threes</th>\n",
       "      <th>fours</th>\n",
       "      <th>sixes</th>\n",
       "      <th>SR</th>\n",
       "      <th>RPI</th>\n",
       "      <th>BPD</th>\n",
       "      <th>BPB</th>\n",
       "    </tr>\n",
       "  </thead>\n",
       "  <tbody>\n",
       "    <tr>\n",
       "      <th>0</th>\n",
       "      <td>A Ashish Reddy</td>\n",
       "      <td>1</td>\n",
       "      <td>5</td>\n",
       "      <td>7</td>\n",
       "      <td>1</td>\n",
       "      <td>5</td>\n",
       "      <td>1</td>\n",
       "      <td>0</td>\n",
       "      <td>0</td>\n",
       "      <td>1</td>\n",
       "      <td>0</td>\n",
       "      <td>71.428571</td>\n",
       "      <td>5.0</td>\n",
       "      <td>7.0</td>\n",
       "      <td>7.00</td>\n",
       "    </tr>\n",
       "    <tr>\n",
       "      <th>1</th>\n",
       "      <td>A Chopra</td>\n",
       "      <td>5</td>\n",
       "      <td>27</td>\n",
       "      <td>41</td>\n",
       "      <td>2</td>\n",
       "      <td>26</td>\n",
       "      <td>11</td>\n",
       "      <td>0</td>\n",
       "      <td>0</td>\n",
       "      <td>4</td>\n",
       "      <td>0</td>\n",
       "      <td>65.853659</td>\n",
       "      <td>5.4</td>\n",
       "      <td>20.5</td>\n",
       "      <td>10.25</td>\n",
       "    </tr>\n",
       "  </tbody>\n",
       "</table>\n",
       "</div>"
      ],
      "text/plain": [
       "          batsman  innings  runs  balls  dismissals  dots  ones  twos  threes  fours  sixes         SR  RPI   BPD    BPB\n",
       "0  A Ashish Reddy  1        5     7      1           5     1     0     0       1      0      71.428571  5.0  7.0   7.00 \n",
       "1  A Chopra        5        27    41     2           26    11    0     0       4      0      65.853659  5.4  20.5  10.25"
      ]
     },
     "execution_count": 28,
     "metadata": {},
     "output_type": "execute_result"
    }
   ],
   "source": [
    "pp_df.head(2)"
   ]
  },
  {
   "cell_type": "code",
   "execution_count": 29,
   "metadata": {
    "collapsed": false
   },
   "outputs": [
    {
     "data": {
      "image/png": "[encoded data removed]",
      "text/plain": [
       "<Figure size 864x576 with 4 Axes>"
      ]
     },
     "metadata": {
      "needs_background": "light"
     },
     "output_type": "display_data"
    }
   ],
   "source": [
    "plt.figure(figsize = (12, 8))\n",
    "\n",
    "plt.subplot(221)\n",
    "pp_df.SR.hist()\n",
    "plt.title('SR Distribution')\n",
    "\n",
    "plt.subplot(222)\n",
    "pp_df.RPI.hist()\n",
    "plt.title('RPI Distribution')\n",
    "\n",
    "plt.subplot(223)\n",
    "pp_df.BPD.hist()\n",
    "plt.title('BPD Distribution')\n",
    "\n",
    "plt.subplot(224)\n",
    "pp_df.BPB.hist()\n",
    "plt.title('BPB Distribution')\n",
    "\n",
    "plt.show()"
   ]
  },
  {
   "cell_type": "code",
   "execution_count": 37,
   "metadata": {
    "collapsed": true
   },
   "outputs": [],
   "source": [
    "import seaborn as sns"
   ]
  },
  {
   "cell_type": "code",
   "execution_count": 44,
   "metadata": {
    "collapsed": false,
    "scrolled": false
   },
   "outputs": [
    {
     "data": {
      "image/png": "[encoded data removed]",
      "text/plain": [
       "<Figure size 1080x432 with 2 Axes>"
      ]
     },
     "metadata": {
      "needs_background": "light"
     },
     "output_type": "display_data"
    }
   ],
   "source": [
    "plt.figure(figsize = (15, 6))\n",
    "\n",
    "plt.subplot(121)\n",
    "sns.boxplot(pp_df['RPI'])\n",
    "\n",
    "plt.subplot(122)\n",
    "sns.distplot(pp_df['RPI'])\n",
    "plt.show()"
   ]
  },
  {
   "cell_type": "code",
   "execution_count": 46,
   "metadata": {
    "collapsed": true
   },
   "outputs": [],
   "source": [
    "# np.percentile(pp_df['RPI'], 25), np.percentile(pp_df['RPI'], 50), np.percentile(pp_df['RPI'], 95)"
   ]
  },
  {
   "cell_type": "markdown",
   "metadata": {},
   "source": [
    "### Pair wise comparision matrices using Saaty scale & then arriving at weights for each parameter"
   ]
  },
  {
   "cell_type": "markdown",
   "metadata": {},
   "source": [
    "![image.png](attachment:image.png)"
   ]
  },
  {
   "cell_type": "markdown",
   "metadata": {},
   "source": [
    "![image.png](attachment:image.png)"
   ]
  },
  {
   "cell_type": "code",
   "execution_count": 47,
   "metadata": {
    "collapsed": true
   },
   "outputs": [],
   "source": [
    "wt_sr, wt_rpi, wt_bpd, wt_bpb = 0.38, 0.25, 0.12, 0.26"
   ]
  },
  {
   "cell_type": "code",
   "execution_count": 48,
   "metadata": {
    "collapsed": true
   },
   "outputs": [],
   "source": [
    "# filter by min 5 innings\n",
    "pp_df = pp_df[pp_df.innings >= 5]\n",
    "pp_df.reset_index(inplace = True, drop = True)"
   ]
  },
  {
   "cell_type": "markdown",
   "metadata": {},
   "source": [
    "### TOPSIS Method:"
   ]
  },
  {
   "cell_type": "markdown",
   "metadata": {},
   "source": [
    "### (alternatives: minmax scaling, standard scaling)"
   ]
  },
  {
   "cell_type": "markdown",
   "metadata": {},
   "source": [
    "### Calculation - Normalizing all values to same dimensions"
   ]
  },
  {
   "cell_type": "code",
   "execution_count": 49,
   "metadata": {
    "collapsed": true
   },
   "outputs": [],
   "source": [
    "pp_df['calc_SR'] = pp_df['SR'].apply(lambda x: x*x) \n",
    "pp_df['calc_RPI'] = pp_df['RPI'].apply(lambda x: x*x) \n",
    "pp_df['calc_BPD'] = pp_df['BPD'].apply(lambda x: x*x) \n",
    "pp_df['calc_BPB'] = pp_df['BPB'].apply(lambda x: x*x)\n",
    "\n",
    "sq_sr, sq_rpi, sq_bpd, sq_bpb = np.sqrt(pp_df[['calc_SR','calc_RPI', 'calc_BPD', 'calc_BPB']].sum(axis = 0))\n",
    "\n",
    "pp_df['calc_SR'] = pp_df['calc_SR'].apply(lambda x: x/sq_sr) \n",
    "pp_df['calc_RPI'] = pp_df['calc_RPI'].apply(lambda x: x/sq_rpi) \n",
    "pp_df['calc_BPD'] = pp_df['calc_BPD'].apply(lambda x: x/sq_bpd) \n",
    "pp_df['calc_BPB'] = pp_df['calc_BPB'].apply(lambda x: x/sq_bpb)\n",
    "\n",
    "pp_df['calc_SR'] = pp_df['calc_SR'].apply(lambda x: x*wt_sr) \n",
    "pp_df['calc_RPI'] = pp_df['calc_RPI'].apply(lambda x: x*wt_rpi) \n",
    "pp_df['calc_BPD'] = pp_df['calc_BPD'].apply(lambda x: x*wt_bpd) \n",
    "pp_df['calc_BPB'] = pp_df['calc_BPB'].apply(lambda x: x*wt_bpb)\n",
    "\n",
    "best_sr, worst_sr = max(pp_df['calc_SR']), min(pp_df['calc_SR'])\n",
    "best_rpi, worst_rpi = max(pp_df['calc_RPI']), min(pp_df['calc_RPI'])\n",
    "best_bpd, worst_bpd = max(pp_df['calc_BPD']), min(pp_df['calc_BPD'])\n",
    "best_bpb, worst_bpb = min(pp_df['calc_BPB']), max(pp_df['calc_BPB'])"
   ]
  },
  {
   "cell_type": "markdown",
   "metadata": {},
   "source": [
    "###  Calculation - Comparision against the best & worst values"
   ]
  },
  {
   "cell_type": "code",
   "execution_count": 50,
   "metadata": {
    "collapsed": true
   },
   "outputs": [],
   "source": [
    "pp_df['dev_best_SR'] = pp_df['calc_SR'].apply(lambda x: (x-best_sr)*(x-best_sr)) \n",
    "pp_df['dev_best_RPI'] = pp_df['calc_RPI'].apply(lambda x: (x-best_rpi)*(x-best_rpi)) \n",
    "pp_df['dev_best_BPD'] = pp_df['calc_BPD'].apply(lambda x: (x-best_bpd)*(x-best_bpd)) \n",
    "pp_df['dev_best_BPB'] = pp_df['calc_BPB'].apply(lambda x: (x-best_bpb)*(x-best_bpb))\n",
    "\n",
    "pp_df['dev_best_sqrt'] = pp_df.apply(lambda x: x['dev_best_SR'] + x['dev_best_RPI'] + x['dev_best_BPD'] + x['dev_best_BPB'], axis = 1) \n",
    "\n",
    "pp_df['dev_worst_SR'] = pp_df['calc_SR'].apply(lambda x: (x-worst_sr)*(x-worst_sr)) \n",
    "pp_df['dev_worst_RPI'] = pp_df['calc_RPI'].apply(lambda x: (x-worst_rpi)*(x-worst_rpi)) \n",
    "pp_df['dev_worst_BPD'] = pp_df['calc_BPD'].apply(lambda x: (x-worst_bpd)*(x-worst_bpd)) \n",
    "pp_df['dev_worst_BPB'] = pp_df['calc_BPB'].apply(lambda x: (x-worst_bpb)*(x-worst_bpb))\n",
    "\n",
    "pp_df['dev_worst_sqrt'] = pp_df.apply(lambda x: x['dev_worst_SR'] + x['dev_worst_RPI'] + x['dev_worst_BPD'] + x['dev_worst_BPB'], axis = 1) "
   ]
  },
  {
   "cell_type": "markdown",
   "metadata": {},
   "source": [
    "### Final Step - Overall score for each player ( values from 0 - 1)"
   ]
  },
  {
   "cell_type": "code",
   "execution_count": 51,
   "metadata": {
    "collapsed": true
   },
   "outputs": [],
   "source": [
    "pp_df['score'] = pp_df.apply(lambda x: x['dev_worst_sqrt']/(x['dev_worst_sqrt'] + x['dev_best_sqrt']), axis = 1)"
   ]
  },
  {
   "cell_type": "code",
   "execution_count": 52,
   "metadata": {
    "collapsed": false
   },
   "outputs": [
    {
     "data": {
      "text/html": [
       "<div>\n",
       "<style scoped>\n",
       "    .dataframe tbody tr th:only-of-type {\n",
       "        vertical-align: middle;\n",
       "    }\n",
       "\n",
       "    .dataframe tbody tr th {\n",
       "        vertical-align: top;\n",
       "    }\n",
       "\n",
       "    .dataframe thead th {\n",
       "        text-align: right;\n",
       "    }\n",
       "</style>\n",
       "<table border=\"1\" class=\"dataframe\">\n",
       "  <thead>\n",
       "    <tr style=\"text-align: right;\">\n",
       "      <th></th>\n",
       "      <th>batsman</th>\n",
       "      <th>score</th>\n",
       "    </tr>\n",
       "  </thead>\n",
       "  <tbody>\n",
       "    <tr>\n",
       "      <th>0</th>\n",
       "      <td>A Chopra</td>\n",
       "      <td>0.044514</td>\n",
       "    </tr>\n",
       "    <tr>\n",
       "      <th>1</th>\n",
       "      <td>A Symonds</td>\n",
       "      <td>0.207639</td>\n",
       "    </tr>\n",
       "    <tr>\n",
       "      <th>2</th>\n",
       "      <td>AA Jhunjhunwala</td>\n",
       "      <td>0.043430</td>\n",
       "    </tr>\n",
       "    <tr>\n",
       "      <th>3</th>\n",
       "      <td>AB de Villiers</td>\n",
       "      <td>0.330934</td>\n",
       "    </tr>\n",
       "    <tr>\n",
       "      <th>4</th>\n",
       "      <td>AC Blizzard</td>\n",
       "      <td>0.513533</td>\n",
       "    </tr>\n",
       "  </tbody>\n",
       "</table>\n",
       "</div>"
      ],
      "text/plain": [
       "           batsman     score\n",
       "0  A Chopra         0.044514\n",
       "1  A Symonds        0.207639\n",
       "2  AA Jhunjhunwala  0.043430\n",
       "3  AB de Villiers   0.330934\n",
       "4  AC Blizzard      0.513533"
      ]
     },
     "execution_count": 52,
     "metadata": {},
     "output_type": "execute_result"
    }
   ],
   "source": [
    "pp_df[['batsman', 'score']].head()"
   ]
  },
  {
   "cell_type": "markdown",
   "metadata": {},
   "source": [
    "### End Result: Top players for our required role"
   ]
  },
  {
   "cell_type": "code",
   "execution_count": 53,
   "metadata": {
    "collapsed": false
   },
   "outputs": [
    {
     "data": {
      "text/html": [
       "<div>\n",
       "<style scoped>\n",
       "    .dataframe tbody tr th:only-of-type {\n",
       "        vertical-align: middle;\n",
       "    }\n",
       "\n",
       "    .dataframe tbody tr th {\n",
       "        vertical-align: top;\n",
       "    }\n",
       "\n",
       "    .dataframe thead th {\n",
       "        text-align: right;\n",
       "    }\n",
       "</style>\n",
       "<table border=\"1\" class=\"dataframe\">\n",
       "  <thead>\n",
       "    <tr style=\"text-align: right;\">\n",
       "      <th></th>\n",
       "      <th>batsman</th>\n",
       "      <th>innings</th>\n",
       "      <th>runs</th>\n",
       "      <th>balls</th>\n",
       "      <th>dismissals</th>\n",
       "      <th>fours</th>\n",
       "      <th>sixes</th>\n",
       "      <th>SR</th>\n",
       "      <th>BPB</th>\n",
       "      <th>score</th>\n",
       "    </tr>\n",
       "  </thead>\n",
       "  <tbody>\n",
       "    <tr>\n",
       "      <th>0</th>\n",
       "      <td>CA Lynn</td>\n",
       "      <td>10</td>\n",
       "      <td>213</td>\n",
       "      <td>132</td>\n",
       "      <td>3</td>\n",
       "      <td>24</td>\n",
       "      <td>12</td>\n",
       "      <td>161.363636</td>\n",
       "      <td>3.666667</td>\n",
       "      <td>0.924301</td>\n",
       "    </tr>\n",
       "    <tr>\n",
       "      <th>1</th>\n",
       "      <td>SP Narine</td>\n",
       "      <td>12</td>\n",
       "      <td>222</td>\n",
       "      <td>131</td>\n",
       "      <td>10</td>\n",
       "      <td>34</td>\n",
       "      <td>10</td>\n",
       "      <td>169.465649</td>\n",
       "      <td>2.977273</td>\n",
       "      <td>0.906969</td>\n",
       "    </tr>\n",
       "    <tr>\n",
       "      <th>2</th>\n",
       "      <td>RA Tripathi</td>\n",
       "      <td>14</td>\n",
       "      <td>290</td>\n",
       "      <td>192</td>\n",
       "      <td>7</td>\n",
       "      <td>37</td>\n",
       "      <td>12</td>\n",
       "      <td>151.041667</td>\n",
       "      <td>3.918367</td>\n",
       "      <td>0.825882</td>\n",
       "    </tr>\n",
       "    <tr>\n",
       "      <th>3</th>\n",
       "      <td>Ishan Kishan</td>\n",
       "      <td>6</td>\n",
       "      <td>160</td>\n",
       "      <td>115</td>\n",
       "      <td>2</td>\n",
       "      <td>21</td>\n",
       "      <td>7</td>\n",
       "      <td>139.130435</td>\n",
       "      <td>4.107143</td>\n",
       "      <td>0.764341</td>\n",
       "    </tr>\n",
       "    <tr>\n",
       "      <th>4</th>\n",
       "      <td>MJ Lumb</td>\n",
       "      <td>12</td>\n",
       "      <td>225</td>\n",
       "      <td>157</td>\n",
       "      <td>6</td>\n",
       "      <td>37</td>\n",
       "      <td>5</td>\n",
       "      <td>143.312102</td>\n",
       "      <td>3.738095</td>\n",
       "      <td>0.737726</td>\n",
       "    </tr>\n",
       "    <tr>\n",
       "      <th>5</th>\n",
       "      <td>F du Plessis</td>\n",
       "      <td>31</td>\n",
       "      <td>507</td>\n",
       "      <td>364</td>\n",
       "      <td>8</td>\n",
       "      <td>64</td>\n",
       "      <td>18</td>\n",
       "      <td>139.285714</td>\n",
       "      <td>4.439024</td>\n",
       "      <td>0.717195</td>\n",
       "    </tr>\n",
       "    <tr>\n",
       "      <th>6</th>\n",
       "      <td>YK Pathan</td>\n",
       "      <td>31</td>\n",
       "      <td>342</td>\n",
       "      <td>241</td>\n",
       "      <td>11</td>\n",
       "      <td>44</td>\n",
       "      <td>16</td>\n",
       "      <td>141.908714</td>\n",
       "      <td>4.016667</td>\n",
       "      <td>0.701598</td>\n",
       "    </tr>\n",
       "    <tr>\n",
       "      <th>7</th>\n",
       "      <td>JC Buttler</td>\n",
       "      <td>14</td>\n",
       "      <td>226</td>\n",
       "      <td>161</td>\n",
       "      <td>6</td>\n",
       "      <td>29</td>\n",
       "      <td>10</td>\n",
       "      <td>140.372671</td>\n",
       "      <td>4.128205</td>\n",
       "      <td>0.696185</td>\n",
       "    </tr>\n",
       "    <tr>\n",
       "      <th>8</th>\n",
       "      <td>V Sehwag</td>\n",
       "      <td>103</td>\n",
       "      <td>1593</td>\n",
       "      <td>1160</td>\n",
       "      <td>60</td>\n",
       "      <td>230</td>\n",
       "      <td>46</td>\n",
       "      <td>137.327586</td>\n",
       "      <td>4.202899</td>\n",
       "      <td>0.644406</td>\n",
       "    </tr>\n",
       "    <tr>\n",
       "      <th>9</th>\n",
       "      <td>UT Khawaja</td>\n",
       "      <td>6</td>\n",
       "      <td>107</td>\n",
       "      <td>79</td>\n",
       "      <td>3</td>\n",
       "      <td>13</td>\n",
       "      <td>3</td>\n",
       "      <td>135.443038</td>\n",
       "      <td>4.937500</td>\n",
       "      <td>0.629735</td>\n",
       "    </tr>\n",
       "    <tr>\n",
       "      <th>10</th>\n",
       "      <td>KP Pietersen</td>\n",
       "      <td>28</td>\n",
       "      <td>392</td>\n",
       "      <td>301</td>\n",
       "      <td>5</td>\n",
       "      <td>47</td>\n",
       "      <td>12</td>\n",
       "      <td>130.232558</td>\n",
       "      <td>5.101695</td>\n",
       "      <td>0.616227</td>\n",
       "    </tr>\n",
       "    <tr>\n",
       "      <th>11</th>\n",
       "      <td>DA Warner</td>\n",
       "      <td>106</td>\n",
       "      <td>1968</td>\n",
       "      <td>1476</td>\n",
       "      <td>49</td>\n",
       "      <td>258</td>\n",
       "      <td>64</td>\n",
       "      <td>133.333333</td>\n",
       "      <td>4.583851</td>\n",
       "      <td>0.606307</td>\n",
       "    </tr>\n",
       "    <tr>\n",
       "      <th>12</th>\n",
       "      <td>IK Pathan</td>\n",
       "      <td>8</td>\n",
       "      <td>92</td>\n",
       "      <td>69</td>\n",
       "      <td>3</td>\n",
       "      <td>12</td>\n",
       "      <td>2</td>\n",
       "      <td>133.333333</td>\n",
       "      <td>4.928571</td>\n",
       "      <td>0.584650</td>\n",
       "    </tr>\n",
       "    <tr>\n",
       "      <th>13</th>\n",
       "      <td>WP Saha</td>\n",
       "      <td>35</td>\n",
       "      <td>443</td>\n",
       "      <td>332</td>\n",
       "      <td>18</td>\n",
       "      <td>60</td>\n",
       "      <td>15</td>\n",
       "      <td>133.433735</td>\n",
       "      <td>4.426667</td>\n",
       "      <td>0.583649</td>\n",
       "    </tr>\n",
       "    <tr>\n",
       "      <th>14</th>\n",
       "      <td>SW Billings</td>\n",
       "      <td>7</td>\n",
       "      <td>101</td>\n",
       "      <td>77</td>\n",
       "      <td>2</td>\n",
       "      <td>16</td>\n",
       "      <td>0</td>\n",
       "      <td>131.168831</td>\n",
       "      <td>4.812500</td>\n",
       "      <td>0.580344</td>\n",
       "    </tr>\n",
       "    <tr>\n",
       "      <th>15</th>\n",
       "      <td>SM Katich</td>\n",
       "      <td>9</td>\n",
       "      <td>145</td>\n",
       "      <td>110</td>\n",
       "      <td>6</td>\n",
       "      <td>19</td>\n",
       "      <td>5</td>\n",
       "      <td>131.818182</td>\n",
       "      <td>4.583333</td>\n",
       "      <td>0.565488</td>\n",
       "    </tr>\n",
       "    <tr>\n",
       "      <th>16</th>\n",
       "      <td>JD Ryder</td>\n",
       "      <td>29</td>\n",
       "      <td>440</td>\n",
       "      <td>334</td>\n",
       "      <td>19</td>\n",
       "      <td>58</td>\n",
       "      <td>13</td>\n",
       "      <td>131.736527</td>\n",
       "      <td>4.704225</td>\n",
       "      <td>0.561919</td>\n",
       "    </tr>\n",
       "    <tr>\n",
       "      <th>17</th>\n",
       "      <td>SK Raina</td>\n",
       "      <td>106</td>\n",
       "      <td>1280</td>\n",
       "      <td>978</td>\n",
       "      <td>36</td>\n",
       "      <td>152</td>\n",
       "      <td>51</td>\n",
       "      <td>130.879346</td>\n",
       "      <td>4.817734</td>\n",
       "      <td>0.554623</td>\n",
       "    </tr>\n",
       "    <tr>\n",
       "      <th>18</th>\n",
       "      <td>SPD Smith</td>\n",
       "      <td>31</td>\n",
       "      <td>308</td>\n",
       "      <td>248</td>\n",
       "      <td>4</td>\n",
       "      <td>43</td>\n",
       "      <td>5</td>\n",
       "      <td>124.193548</td>\n",
       "      <td>5.166667</td>\n",
       "      <td>0.522581</td>\n",
       "    </tr>\n",
       "    <tr>\n",
       "      <th>19</th>\n",
       "      <td>SA Asnodkar</td>\n",
       "      <td>19</td>\n",
       "      <td>278</td>\n",
       "      <td>216</td>\n",
       "      <td>10</td>\n",
       "      <td>38</td>\n",
       "      <td>9</td>\n",
       "      <td>128.703704</td>\n",
       "      <td>4.595745</td>\n",
       "      <td>0.520458</td>\n",
       "    </tr>\n",
       "    <tr>\n",
       "      <th>20</th>\n",
       "      <td>AC Gilchrist</td>\n",
       "      <td>80</td>\n",
       "      <td>1385</td>\n",
       "      <td>1080</td>\n",
       "      <td>48</td>\n",
       "      <td>191</td>\n",
       "      <td>49</td>\n",
       "      <td>128.240741</td>\n",
       "      <td>4.500000</td>\n",
       "      <td>0.519302</td>\n",
       "    </tr>\n",
       "    <tr>\n",
       "      <th>21</th>\n",
       "      <td>CH Gayle</td>\n",
       "      <td>99</td>\n",
       "      <td>1778</td>\n",
       "      <td>1395</td>\n",
       "      <td>49</td>\n",
       "      <td>190</td>\n",
       "      <td>110</td>\n",
       "      <td>127.455197</td>\n",
       "      <td>4.650000</td>\n",
       "      <td>0.515610</td>\n",
       "    </tr>\n",
       "    <tr>\n",
       "      <th>22</th>\n",
       "      <td>AC Blizzard</td>\n",
       "      <td>7</td>\n",
       "      <td>99</td>\n",
       "      <td>77</td>\n",
       "      <td>5</td>\n",
       "      <td>20</td>\n",
       "      <td>0</td>\n",
       "      <td>128.571429</td>\n",
       "      <td>3.850000</td>\n",
       "      <td>0.513533</td>\n",
       "    </tr>\n",
       "    <tr>\n",
       "      <th>23</th>\n",
       "      <td>MJ Guptill</td>\n",
       "      <td>10</td>\n",
       "      <td>139</td>\n",
       "      <td>108</td>\n",
       "      <td>8</td>\n",
       "      <td>18</td>\n",
       "      <td>4</td>\n",
       "      <td>128.703704</td>\n",
       "      <td>4.909091</td>\n",
       "      <td>0.512674</td>\n",
       "    </tr>\n",
       "    <tr>\n",
       "      <th>24</th>\n",
       "      <td>LA Pomersbach</td>\n",
       "      <td>8</td>\n",
       "      <td>104</td>\n",
       "      <td>81</td>\n",
       "      <td>4</td>\n",
       "      <td>11</td>\n",
       "      <td>4</td>\n",
       "      <td>128.395062</td>\n",
       "      <td>5.400000</td>\n",
       "      <td>0.511203</td>\n",
       "    </tr>\n",
       "  </tbody>\n",
       "</table>\n",
       "</div>"
      ],
      "text/plain": [
       "          batsman  innings  runs  balls  dismissals  fours  sixes          SR       BPB     score\n",
       "0   CA Lynn        10       213   132    3           24     12     161.363636  3.666667  0.924301\n",
       "1   SP Narine      12       222   131    10          34     10     169.465649  2.977273  0.906969\n",
       "2   RA Tripathi    14       290   192    7           37     12     151.041667  3.918367  0.825882\n",
       "3   Ishan Kishan   6        160   115    2           21     7      139.130435  4.107143  0.764341\n",
       "4   MJ Lumb        12       225   157    6           37     5      143.312102  3.738095  0.737726\n",
       "5   F du Plessis   31       507   364    8           64     18     139.285714  4.439024  0.717195\n",
       "6   YK Pathan      31       342   241    11          44     16     141.908714  4.016667  0.701598\n",
       "7   JC Buttler     14       226   161    6           29     10     140.372671  4.128205  0.696185\n",
       "8   V Sehwag       103      1593  1160   60          230    46     137.327586  4.202899  0.644406\n",
       "9   UT Khawaja     6        107   79     3           13     3      135.443038  4.937500  0.629735\n",
       "10  KP Pietersen   28       392   301    5           47     12     130.232558  5.101695  0.616227\n",
       "11  DA Warner      106      1968  1476   49          258    64     133.333333  4.583851  0.606307\n",
       "12  IK Pathan      8        92    69     3           12     2      133.333333  4.928571  0.584650\n",
       "13  WP Saha        35       443   332    18          60     15     133.433735  4.426667  0.583649\n",
       "14  SW Billings    7        101   77     2           16     0      131.168831  4.812500  0.580344\n",
       "15  SM Katich      9        145   110    6           19     5      131.818182  4.583333  0.565488\n",
       "16  JD Ryder       29       440   334    19          58     13     131.736527  4.704225  0.561919\n",
       "17  SK Raina       106      1280  978    36          152    51     130.879346  4.817734  0.554623\n",
       "18  SPD Smith      31       308   248    4           43     5      124.193548  5.166667  0.522581\n",
       "19  SA Asnodkar    19       278   216    10          38     9      128.703704  4.595745  0.520458\n",
       "20  AC Gilchrist   80       1385  1080   48          191    49     128.240741  4.500000  0.519302\n",
       "21  CH Gayle       99       1778  1395   49          190    110    127.455197  4.650000  0.515610\n",
       "22  AC Blizzard    7        99    77     5           20     0      128.571429  3.850000  0.513533\n",
       "23  MJ Guptill     10       139   108    8           18     4      128.703704  4.909091  0.512674\n",
       "24  LA Pomersbach  8        104   81     4           11     4      128.395062  5.400000  0.511203"
      ]
     },
     "execution_count": 53,
     "metadata": {},
     "output_type": "execute_result"
    }
   ],
   "source": [
    "pp_df[[ 'batsman','innings', 'runs', 'balls', 'dismissals', 'fours', 'sixes', 'SR', 'BPB', 'score']].sort_values(['score'], ascending = False).reset_index(drop = True).head(25)"
   ]
  },
  {
   "cell_type": "code",
   "execution_count": null,
   "metadata": {
    "collapsed": true
   },
   "outputs": [],
   "source": []
  },
  {
   "cell_type": "code",
   "execution_count": null,
   "metadata": {
    "collapsed": true
   },
   "outputs": [],
   "source": []
  },
  {
   "cell_type": "code",
   "execution_count": null,
   "metadata": {
    "collapsed": true
   },
   "outputs": [],
   "source": []
  }
 ],
 "metadata": {
  "kernelspec": {
   "display_name": "Python [Root]",
   "language": "python",
   "name": "Python [Root]"
  },
  "language_info": {
   "codemirror_mode": {
    "name": "ipython",
    "version": 3
   },
   "file_extension": ".py",
   "mimetype": "text/x-python",
   "name": "python",
   "nbconvert_exporter": "python",
   "pygments_lexer": "ipython3",
   "version": "3.5.2"
  }
 },
 "nbformat": 4,
 "nbformat_minor": 2
}
