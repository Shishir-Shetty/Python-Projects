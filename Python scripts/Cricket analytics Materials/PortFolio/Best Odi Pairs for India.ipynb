{
 "cells": [
  {
   "cell_type": "markdown",
   "metadata": {},
   "source": [
    "# Problem Statement:\n",
    "\n",
    "### Are Virat and Rohit the Best ODI pairs for India?"
   ]
  },
  {
   "cell_type": "code",
   "execution_count": 1,
   "metadata": {
    "collapsed": true
   },
   "outputs": [],
   "source": [
    "%matplotlib inline\n",
    "import pandas as pd\n",
    "import numpy as np\n",
    "import math\n",
    "import matplotlib.pyplot as plt\n",
    "\n",
    "import warnings\n",
    "warnings.filterwarnings('ignore')\n",
    "\n",
    "pd.set_option('display.max_rows', None)\n",
    "pd.set_option('display.max_columns', None)  \n",
    "pd.set_option('display.expand_frame_repr', False)\n",
    "pd.set_option('max_colwidth', -1)"
   ]
  },
  {
   "cell_type": "code",
   "execution_count": 2,
   "metadata": {
    "collapsed": true
   },
   "outputs": [],
   "source": [
    "odidf = pd.read_csv(\"C:\\\\Users\\\\SHETTS60\\\\Documents\\\\Python scripts\\\\Cricket analytics Materials\\\\CricSheet\\\\Data Files\\\\Shishir_ODIs_ball_by_ball.csv\")"
   ]
  },
  {
   "cell_type": "code",
   "execution_count": 3,
   "metadata": {
    "collapsed": true
   },
   "outputs": [],
   "source": [
    "df = odidf.copy()"
   ]
  },
  {
   "cell_type": "code",
   "execution_count": 4,
   "metadata": {
    "collapsed": false
   },
   "outputs": [
    {
     "data": {
      "text/html": [
       "<div>\n",
       "<table border=\"1\" class=\"dataframe\">\n",
       "  <thead>\n",
       "    <tr style=\"text-align: right;\">\n",
       "      <th></th>\n",
       "      <th>match_id</th>\n",
       "      <th>season</th>\n",
       "      <th>start_date</th>\n",
       "      <th>venue</th>\n",
       "      <th>innings</th>\n",
       "      <th>ball</th>\n",
       "      <th>batting_team</th>\n",
       "      <th>bowling_team</th>\n",
       "      <th>striker</th>\n",
       "      <th>non_striker</th>\n",
       "      <th>bowler</th>\n",
       "      <th>runs_off_bat</th>\n",
       "      <th>extras</th>\n",
       "      <th>wides</th>\n",
       "      <th>noballs</th>\n",
       "      <th>byes</th>\n",
       "      <th>legbyes</th>\n",
       "      <th>penalty</th>\n",
       "      <th>wicket_type</th>\n",
       "      <th>player_dismissed</th>\n",
       "      <th>other_wicket_type</th>\n",
       "      <th>other_player_dismissed</th>\n",
       "    </tr>\n",
       "  </thead>\n",
       "  <tbody>\n",
       "    <tr>\n",
       "      <th>0</th>\n",
       "      <td>64857</td>\n",
       "      <td>2003/04</td>\n",
       "      <td>2004-01-03</td>\n",
       "      <td>Eden Park</td>\n",
       "      <td>1</td>\n",
       "      <td>46.1</td>\n",
       "      <td>Pakistan</td>\n",
       "      <td>New Zealand</td>\n",
       "      <td>Abdul Razzaq</td>\n",
       "      <td>Moin Khan</td>\n",
       "      <td>AR Adams</td>\n",
       "      <td>2</td>\n",
       "      <td>0</td>\n",
       "      <td>NaN</td>\n",
       "      <td>NaN</td>\n",
       "      <td>NaN</td>\n",
       "      <td>NaN</td>\n",
       "      <td>NaN</td>\n",
       "      <td>NaN</td>\n",
       "      <td>NaN</td>\n",
       "      <td>NaN</td>\n",
       "      <td>NaN</td>\n",
       "    </tr>\n",
       "    <tr>\n",
       "      <th>1</th>\n",
       "      <td>64857</td>\n",
       "      <td>2003/04</td>\n",
       "      <td>2004-01-03</td>\n",
       "      <td>Eden Park</td>\n",
       "      <td>1</td>\n",
       "      <td>4.6</td>\n",
       "      <td>Pakistan</td>\n",
       "      <td>New Zealand</td>\n",
       "      <td>Yasir Hameed</td>\n",
       "      <td>Imran Farhat</td>\n",
       "      <td>DR Tuffey</td>\n",
       "      <td>0</td>\n",
       "      <td>0</td>\n",
       "      <td>NaN</td>\n",
       "      <td>NaN</td>\n",
       "      <td>NaN</td>\n",
       "      <td>NaN</td>\n",
       "      <td>NaN</td>\n",
       "      <td>NaN</td>\n",
       "      <td>NaN</td>\n",
       "      <td>NaN</td>\n",
       "      <td>NaN</td>\n",
       "    </tr>\n",
       "  </tbody>\n",
       "</table>\n",
       "</div>"
      ],
      "text/plain": [
       "   match_id   season  start_date      venue  innings  ball batting_team bowling_team       striker   non_striker     bowler  runs_off_bat  extras  wides  noballs  byes  legbyes  penalty wicket_type player_dismissed  other_wicket_type  other_player_dismissed\n",
       "0  64857     2003/04  2004-01-03  Eden Park  1        46.1  Pakistan     New Zealand  Abdul Razzaq  Moin Khan     AR Adams   2             0      NaN    NaN      NaN   NaN      NaN       NaN         NaN             NaN                NaN                    \n",
       "1  64857     2003/04  2004-01-03  Eden Park  1        4.6   Pakistan     New Zealand  Yasir Hameed  Imran Farhat  DR Tuffey  0             0      NaN    NaN      NaN   NaN      NaN       NaN         NaN             NaN                NaN                    "
      ]
     },
     "execution_count": 4,
     "metadata": {},
     "output_type": "execute_result"
    }
   ],
   "source": [
    "df.head(2)"
   ]
  },
  {
   "cell_type": "code",
   "execution_count": 5,
   "metadata": {
    "collapsed": false
   },
   "outputs": [],
   "source": [
    "#Filtering batting team = India\n",
    "df1 = df[df['batting_team'] == 'India']"
   ]
  },
  {
   "cell_type": "code",
   "execution_count": 6,
   "metadata": {
    "collapsed": false
   },
   "outputs": [
    {
     "data": {
      "text/html": [
       "<div>\n",
       "<table border=\"1\" class=\"dataframe\">\n",
       "  <thead>\n",
       "    <tr style=\"text-align: right;\">\n",
       "      <th></th>\n",
       "      <th>match_id</th>\n",
       "      <th>season</th>\n",
       "      <th>start_date</th>\n",
       "      <th>venue</th>\n",
       "      <th>innings</th>\n",
       "      <th>ball</th>\n",
       "      <th>batting_team</th>\n",
       "      <th>bowling_team</th>\n",
       "      <th>striker</th>\n",
       "      <th>non_striker</th>\n",
       "      <th>bowler</th>\n",
       "      <th>runs_off_bat</th>\n",
       "      <th>extras</th>\n",
       "      <th>wides</th>\n",
       "      <th>noballs</th>\n",
       "      <th>byes</th>\n",
       "      <th>legbyes</th>\n",
       "      <th>penalty</th>\n",
       "      <th>wicket_type</th>\n",
       "      <th>player_dismissed</th>\n",
       "      <th>other_wicket_type</th>\n",
       "      <th>other_player_dismissed</th>\n",
       "    </tr>\n",
       "  </thead>\n",
       "  <tbody>\n",
       "    <tr>\n",
       "      <th>611</th>\n",
       "      <td>65643</td>\n",
       "      <td>2003/04</td>\n",
       "      <td>2004-01-09</td>\n",
       "      <td>Melbourne Cricket Ground</td>\n",
       "      <td>2</td>\n",
       "      <td>42.1</td>\n",
       "      <td>India</td>\n",
       "      <td>Australia</td>\n",
       "      <td>SC Ganguly</td>\n",
       "      <td>Yuvraj Singh</td>\n",
       "      <td>JN Gillespie</td>\n",
       "      <td>0</td>\n",
       "      <td>0</td>\n",
       "      <td>NaN</td>\n",
       "      <td>NaN</td>\n",
       "      <td>NaN</td>\n",
       "      <td>NaN</td>\n",
       "      <td>NaN</td>\n",
       "      <td>NaN</td>\n",
       "      <td>NaN</td>\n",
       "      <td>NaN</td>\n",
       "      <td>NaN</td>\n",
       "    </tr>\n",
       "    <tr>\n",
       "      <th>612</th>\n",
       "      <td>65643</td>\n",
       "      <td>2003/04</td>\n",
       "      <td>2004-01-09</td>\n",
       "      <td>Melbourne Cricket Ground</td>\n",
       "      <td>2</td>\n",
       "      <td>41.3</td>\n",
       "      <td>India</td>\n",
       "      <td>Australia</td>\n",
       "      <td>SC Ganguly</td>\n",
       "      <td>Yuvraj Singh</td>\n",
       "      <td>A Symonds</td>\n",
       "      <td>1</td>\n",
       "      <td>0</td>\n",
       "      <td>NaN</td>\n",
       "      <td>NaN</td>\n",
       "      <td>NaN</td>\n",
       "      <td>NaN</td>\n",
       "      <td>NaN</td>\n",
       "      <td>NaN</td>\n",
       "      <td>NaN</td>\n",
       "      <td>NaN</td>\n",
       "      <td>NaN</td>\n",
       "    </tr>\n",
       "    <tr>\n",
       "      <th>613</th>\n",
       "      <td>65643</td>\n",
       "      <td>2003/04</td>\n",
       "      <td>2004-01-09</td>\n",
       "      <td>Melbourne Cricket Ground</td>\n",
       "      <td>2</td>\n",
       "      <td>41.4</td>\n",
       "      <td>India</td>\n",
       "      <td>Australia</td>\n",
       "      <td>Yuvraj Singh</td>\n",
       "      <td>SC Ganguly</td>\n",
       "      <td>A Symonds</td>\n",
       "      <td>1</td>\n",
       "      <td>0</td>\n",
       "      <td>NaN</td>\n",
       "      <td>NaN</td>\n",
       "      <td>NaN</td>\n",
       "      <td>NaN</td>\n",
       "      <td>NaN</td>\n",
       "      <td>NaN</td>\n",
       "      <td>NaN</td>\n",
       "      <td>NaN</td>\n",
       "      <td>NaN</td>\n",
       "    </tr>\n",
       "    <tr>\n",
       "      <th>614</th>\n",
       "      <td>65643</td>\n",
       "      <td>2003/04</td>\n",
       "      <td>2004-01-09</td>\n",
       "      <td>Melbourne Cricket Ground</td>\n",
       "      <td>2</td>\n",
       "      <td>41.5</td>\n",
       "      <td>India</td>\n",
       "      <td>Australia</td>\n",
       "      <td>SC Ganguly</td>\n",
       "      <td>Yuvraj Singh</td>\n",
       "      <td>A Symonds</td>\n",
       "      <td>1</td>\n",
       "      <td>0</td>\n",
       "      <td>NaN</td>\n",
       "      <td>NaN</td>\n",
       "      <td>NaN</td>\n",
       "      <td>NaN</td>\n",
       "      <td>NaN</td>\n",
       "      <td>NaN</td>\n",
       "      <td>NaN</td>\n",
       "      <td>NaN</td>\n",
       "      <td>NaN</td>\n",
       "    </tr>\n",
       "    <tr>\n",
       "      <th>615</th>\n",
       "      <td>65643</td>\n",
       "      <td>2003/04</td>\n",
       "      <td>2004-01-09</td>\n",
       "      <td>Melbourne Cricket Ground</td>\n",
       "      <td>2</td>\n",
       "      <td>41.2</td>\n",
       "      <td>India</td>\n",
       "      <td>Australia</td>\n",
       "      <td>SC Ganguly</td>\n",
       "      <td>Yuvraj Singh</td>\n",
       "      <td>A Symonds</td>\n",
       "      <td>0</td>\n",
       "      <td>0</td>\n",
       "      <td>NaN</td>\n",
       "      <td>NaN</td>\n",
       "      <td>NaN</td>\n",
       "      <td>NaN</td>\n",
       "      <td>NaN</td>\n",
       "      <td>NaN</td>\n",
       "      <td>NaN</td>\n",
       "      <td>NaN</td>\n",
       "      <td>NaN</td>\n",
       "    </tr>\n",
       "  </tbody>\n",
       "</table>\n",
       "</div>"
      ],
      "text/plain": [
       "     match_id   season  start_date                     venue  innings  ball batting_team bowling_team       striker   non_striker        bowler  runs_off_bat  extras  wides  noballs  byes  legbyes  penalty wicket_type player_dismissed  other_wicket_type  other_player_dismissed\n",
       "611  65643     2003/04  2004-01-09  Melbourne Cricket Ground  2        42.1  India        Australia    SC Ganguly    Yuvraj Singh  JN Gillespie  0             0      NaN    NaN      NaN   NaN      NaN       NaN         NaN             NaN                NaN                    \n",
       "612  65643     2003/04  2004-01-09  Melbourne Cricket Ground  2        41.3  India        Australia    SC Ganguly    Yuvraj Singh  A Symonds     1             0      NaN    NaN      NaN   NaN      NaN       NaN         NaN             NaN                NaN                    \n",
       "613  65643     2003/04  2004-01-09  Melbourne Cricket Ground  2        41.4  India        Australia    Yuvraj Singh  SC Ganguly    A Symonds     1             0      NaN    NaN      NaN   NaN      NaN       NaN         NaN             NaN                NaN                    \n",
       "614  65643     2003/04  2004-01-09  Melbourne Cricket Ground  2        41.5  India        Australia    SC Ganguly    Yuvraj Singh  A Symonds     1             0      NaN    NaN      NaN   NaN      NaN       NaN         NaN             NaN                NaN                    \n",
       "615  65643     2003/04  2004-01-09  Melbourne Cricket Ground  2        41.2  India        Australia    SC Ganguly    Yuvraj Singh  A Symonds     0             0      NaN    NaN      NaN   NaN      NaN       NaN         NaN             NaN                NaN                    "
      ]
     },
     "execution_count": 6,
     "metadata": {},
     "output_type": "execute_result"
    }
   ],
   "source": [
    "df1.head()"
   ]
  },
  {
   "cell_type": "code",
   "execution_count": 7,
   "metadata": {
    "collapsed": true
   },
   "outputs": [],
   "source": [
    "testdf = df1.head(100)"
   ]
  },
  {
   "cell_type": "code",
   "execution_count": 8,
   "metadata": {
    "collapsed": false
   },
   "outputs": [],
   "source": [
    "testdf1 = pd.DataFrame( testdf.groupby(['striker','non_striker'])['runs_off_bat'].sum()).reset_index()"
   ]
  },
  {
   "cell_type": "code",
   "execution_count": 9,
   "metadata": {
    "collapsed": false
   },
   "outputs": [
    {
     "data": {
      "text/html": [
       "<div>\n",
       "<table border=\"1\" class=\"dataframe\">\n",
       "  <thead>\n",
       "    <tr style=\"text-align: right;\">\n",
       "      <th></th>\n",
       "      <th>striker</th>\n",
       "      <th>non_striker</th>\n",
       "      <th>runs_off_bat</th>\n",
       "    </tr>\n",
       "  </thead>\n",
       "  <tbody>\n",
       "    <tr>\n",
       "      <th>0</th>\n",
       "      <td>A Kumble</td>\n",
       "      <td>IK Pathan</td>\n",
       "      <td>1</td>\n",
       "    </tr>\n",
       "    <tr>\n",
       "      <th>1</th>\n",
       "      <td>A Kumble</td>\n",
       "      <td>L Balaji</td>\n",
       "      <td>4</td>\n",
       "    </tr>\n",
       "    <tr>\n",
       "      <th>2</th>\n",
       "      <td>AB Agarkar</td>\n",
       "      <td>SB Bangar</td>\n",
       "      <td>1</td>\n",
       "    </tr>\n",
       "    <tr>\n",
       "      <th>3</th>\n",
       "      <td>IK Pathan</td>\n",
       "      <td>A Kumble</td>\n",
       "      <td>2</td>\n",
       "    </tr>\n",
       "    <tr>\n",
       "      <th>4</th>\n",
       "      <td>IK Pathan</td>\n",
       "      <td>SB Bangar</td>\n",
       "      <td>1</td>\n",
       "    </tr>\n",
       "    <tr>\n",
       "      <th>5</th>\n",
       "      <td>R Dravid</td>\n",
       "      <td>SC Ganguly</td>\n",
       "      <td>0</td>\n",
       "    </tr>\n",
       "    <tr>\n",
       "      <th>6</th>\n",
       "      <td>SB Bangar</td>\n",
       "      <td>AB Agarkar</td>\n",
       "      <td>1</td>\n",
       "    </tr>\n",
       "    <tr>\n",
       "      <th>7</th>\n",
       "      <td>SB Bangar</td>\n",
       "      <td>IK Pathan</td>\n",
       "      <td>2</td>\n",
       "    </tr>\n",
       "    <tr>\n",
       "      <th>8</th>\n",
       "      <td>SB Bangar</td>\n",
       "      <td>SC Ganguly</td>\n",
       "      <td>0</td>\n",
       "    </tr>\n",
       "    <tr>\n",
       "      <th>9</th>\n",
       "      <td>SC Ganguly</td>\n",
       "      <td>VVS Laxman</td>\n",
       "      <td>12</td>\n",
       "    </tr>\n",
       "    <tr>\n",
       "      <th>10</th>\n",
       "      <td>SC Ganguly</td>\n",
       "      <td>Yuvraj Singh</td>\n",
       "      <td>32</td>\n",
       "    </tr>\n",
       "    <tr>\n",
       "      <th>11</th>\n",
       "      <td>VVS Laxman</td>\n",
       "      <td>SC Ganguly</td>\n",
       "      <td>13</td>\n",
       "    </tr>\n",
       "    <tr>\n",
       "      <th>12</th>\n",
       "      <td>Yuvraj Singh</td>\n",
       "      <td>SC Ganguly</td>\n",
       "      <td>20</td>\n",
       "    </tr>\n",
       "  </tbody>\n",
       "</table>\n",
       "</div>"
      ],
      "text/plain": [
       "         striker   non_striker  runs_off_bat\n",
       "0   A Kumble      IK Pathan     1           \n",
       "1   A Kumble      L Balaji      4           \n",
       "2   AB Agarkar    SB Bangar     1           \n",
       "3   IK Pathan     A Kumble      2           \n",
       "4   IK Pathan     SB Bangar     1           \n",
       "5   R Dravid      SC Ganguly    0           \n",
       "6   SB Bangar     AB Agarkar    1           \n",
       "7   SB Bangar     IK Pathan     2           \n",
       "8   SB Bangar     SC Ganguly    0           \n",
       "9   SC Ganguly    VVS Laxman    12          \n",
       "10  SC Ganguly    Yuvraj Singh  32          \n",
       "11  VVS Laxman    SC Ganguly    13          \n",
       "12  Yuvraj Singh  SC Ganguly    20          "
      ]
     },
     "execution_count": 9,
     "metadata": {},
     "output_type": "execute_result"
    }
   ],
   "source": [
    "testdf1"
   ]
  },
  {
   "cell_type": "code",
   "execution_count": 22,
   "metadata": {
    "collapsed": false
   },
   "outputs": [
    {
     "name": "stdout",
     "output_type": "stream",
     "text": [
      "['A Kumble', 'IK Pathan', 3]\n",
      "['A Kumble', 'IK Pathan', 3, 'A Kumble', 'L Balaji', 4]\n",
      "['A Kumble', 'IK Pathan', 3, 'A Kumble', 'L Balaji', 4, 'AB Agarkar', 'SB Bangar', 2]\n",
      "['A Kumble', 'IK Pathan', 3, 'A Kumble', 'L Balaji', 4, 'AB Agarkar', 'SB Bangar', 2, 'IK Pathan', 'A Kumble', 3]\n",
      "['A Kumble', 'IK Pathan', 3, 'A Kumble', 'L Balaji', 4, 'AB Agarkar', 'SB Bangar', 2, 'IK Pathan', 'A Kumble', 3, 'IK Pathan', 'SB Bangar', 3]\n",
      "['A Kumble', 'IK Pathan', 3, 'A Kumble', 'L Balaji', 4, 'AB Agarkar', 'SB Bangar', 2, 'IK Pathan', 'A Kumble', 3, 'IK Pathan', 'SB Bangar', 3, 'R Dravid', 'SC Ganguly', 0]\n",
      "['A Kumble', 'IK Pathan', 3, 'A Kumble', 'L Balaji', 4, 'AB Agarkar', 'SB Bangar', 2, 'IK Pathan', 'A Kumble', 3, 'IK Pathan', 'SB Bangar', 3, 'R Dravid', 'SC Ganguly', 0, 'SB Bangar', 'AB Agarkar', 2]\n",
      "['A Kumble', 'IK Pathan', 3, 'A Kumble', 'L Balaji', 4, 'AB Agarkar', 'SB Bangar', 2, 'IK Pathan', 'A Kumble', 3, 'IK Pathan', 'SB Bangar', 3, 'R Dravid', 'SC Ganguly', 0, 'SB Bangar', 'AB Agarkar', 2, 'SB Bangar', 'IK Pathan', 3]\n",
      "['A Kumble', 'IK Pathan', 3, 'A Kumble', 'L Balaji', 4, 'AB Agarkar', 'SB Bangar', 2, 'IK Pathan', 'A Kumble', 3, 'IK Pathan', 'SB Bangar', 3, 'R Dravid', 'SC Ganguly', 0, 'SB Bangar', 'AB Agarkar', 2, 'SB Bangar', 'IK Pathan', 3, 'SB Bangar', 'SC Ganguly', 0]\n",
      "['A Kumble', 'IK Pathan', 3, 'A Kumble', 'L Balaji', 4, 'AB Agarkar', 'SB Bangar', 2, 'IK Pathan', 'A Kumble', 3, 'IK Pathan', 'SB Bangar', 3, 'R Dravid', 'SC Ganguly', 0, 'SB Bangar', 'AB Agarkar', 2, 'SB Bangar', 'IK Pathan', 3, 'SB Bangar', 'SC Ganguly', 0, 'SC Ganguly', 'VVS Laxman', 25]\n",
      "['A Kumble', 'IK Pathan', 3, 'A Kumble', 'L Balaji', 4, 'AB Agarkar', 'SB Bangar', 2, 'IK Pathan', 'A Kumble', 3, 'IK Pathan', 'SB Bangar', 3, 'R Dravid', 'SC Ganguly', 0, 'SB Bangar', 'AB Agarkar', 2, 'SB Bangar', 'IK Pathan', 3, 'SB Bangar', 'SC Ganguly', 0, 'SC Ganguly', 'VVS Laxman', 25, 'SC Ganguly', 'Yuvraj Singh', 52]\n",
      "['A Kumble', 'IK Pathan', 3, 'A Kumble', 'L Balaji', 4, 'AB Agarkar', 'SB Bangar', 2, 'IK Pathan', 'A Kumble', 3, 'IK Pathan', 'SB Bangar', 3, 'R Dravid', 'SC Ganguly', 0, 'SB Bangar', 'AB Agarkar', 2, 'SB Bangar', 'IK Pathan', 3, 'SB Bangar', 'SC Ganguly', 0, 'SC Ganguly', 'VVS Laxman', 25, 'SC Ganguly', 'Yuvraj Singh', 52, 'VVS Laxman', 'SC Ganguly', 25]\n",
      "['A Kumble', 'IK Pathan', 3, 'A Kumble', 'L Balaji', 4, 'AB Agarkar', 'SB Bangar', 2, 'IK Pathan', 'A Kumble', 3, 'IK Pathan', 'SB Bangar', 3, 'R Dravid', 'SC Ganguly', 0, 'SB Bangar', 'AB Agarkar', 2, 'SB Bangar', 'IK Pathan', 3, 'SB Bangar', 'SC Ganguly', 0, 'SC Ganguly', 'VVS Laxman', 25, 'SC Ganguly', 'Yuvraj Singh', 52, 'VVS Laxman', 'SC Ganguly', 25, 'Yuvraj Singh', 'SC Ganguly', 52]\n"
     ]
    }
   ],
   "source": [
    "list1 = []\n",
    "list2 = []\n",
    "for index,row in testdf1.iterrows():\n",
    "   #print(row[\"striker\"] ,row[\"non_striker\"])\n",
    "    list1.append(row[\"striker\"])\n",
    "    list1.append(row[\"non_striker\"])\n",
    "    values_1=row[\"striker\"]\n",
    "    values_2=row[\"non_striker\"]\n",
    "    filtered_df = testdf1[testdf1.striker.str.contains(values_1) & testdf1.non_striker.str.contains(values_2) | \n",
    "                          testdf1.non_striker.str.contains(values_1) & testdf1.striker.str.contains(values_2)]\n",
    "    filtered_df1 = testdf1[testdf1.striker.str.contains(values_1) & testdf1.non_striker.str.contains(values_2) | \n",
    "                          testdf1.non_striker.str.contains(values_1) & testdf1.striker.str.contains(values_2)]['runs_off_bat'].sum()\n",
    "    #list1.insert(index,list1)\n",
    "    list1.append(filtered_df1)\n",
    "   \n",
    "    print(list1)\n"
   ]
  },
  {
   "cell_type": "code",
   "execution_count": 23,
   "metadata": {
    "collapsed": false
   },
   "outputs": [
    {
     "data": {
      "text/plain": [
       "['A Kumble',\n",
       " 'IK Pathan',\n",
       " 3,\n",
       " 'A Kumble',\n",
       " 'L Balaji',\n",
       " 4,\n",
       " 'AB Agarkar',\n",
       " 'SB Bangar',\n",
       " 2,\n",
       " 'IK Pathan',\n",
       " 'A Kumble',\n",
       " 3,\n",
       " 'IK Pathan',\n",
       " 'SB Bangar',\n",
       " 3,\n",
       " 'R Dravid',\n",
       " 'SC Ganguly',\n",
       " 0,\n",
       " 'SB Bangar',\n",
       " 'AB Agarkar',\n",
       " 2,\n",
       " 'SB Bangar',\n",
       " 'IK Pathan',\n",
       " 3,\n",
       " 'SB Bangar',\n",
       " 'SC Ganguly',\n",
       " 0,\n",
       " 'SC Ganguly',\n",
       " 'VVS Laxman',\n",
       " 25,\n",
       " 'SC Ganguly',\n",
       " 'Yuvraj Singh',\n",
       " 52,\n",
       " 'VVS Laxman',\n",
       " 'SC Ganguly',\n",
       " 25,\n",
       " 'Yuvraj Singh',\n",
       " 'SC Ganguly',\n",
       " 52]"
      ]
     },
     "execution_count": 23,
     "metadata": {},
     "output_type": "execute_result"
    }
   ],
   "source": [
    "list1"
   ]
  },
  {
   "cell_type": "code",
   "execution_count": null,
   "metadata": {
    "collapsed": true
   },
   "outputs": [],
   "source": []
  }
 ],
 "metadata": {
  "kernelspec": {
   "display_name": "Python [Root]",
   "language": "python",
   "name": "Python [Root]"
  },
  "language_info": {
   "codemirror_mode": {
    "name": "ipython",
    "version": 3
   },
   "file_extension": ".py",
   "mimetype": "text/x-python",
   "name": "python",
   "nbconvert_exporter": "python",
   "pygments_lexer": "ipython3",
   "version": "3.5.2"
  }
 },
 "nbformat": 4,
 "nbformat_minor": 0
}
