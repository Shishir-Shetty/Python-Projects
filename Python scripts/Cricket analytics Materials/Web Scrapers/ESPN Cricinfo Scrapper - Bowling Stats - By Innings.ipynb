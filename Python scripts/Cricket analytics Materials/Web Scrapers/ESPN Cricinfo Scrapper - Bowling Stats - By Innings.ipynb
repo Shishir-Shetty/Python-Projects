{
 "cells": [
  {
   "cell_type": "markdown",
   "metadata": {},
   "source": [
    "## Imports"
   ]
  },
  {
   "cell_type": "code",
   "execution_count": 1,
   "metadata": {
    "collapsed": true
   },
   "outputs": [],
   "source": [
    "# to convert into dataframes\n",
    "import pandas as pd\n",
    "\n",
    "# extract url response/info\n",
    "from urllib.request import urlopen\n",
    "\n",
    "# to work with html content\n",
    "from bs4 import BeautifulSoup "
   ]
  },
  {
   "cell_type": "markdown",
   "metadata": {},
   "source": [
    "## T20I - Bowling Stats - By Players"
   ]
  },
  {
   "cell_type": "markdown",
   "metadata": {},
   "source": [
    "### Note: Change Line No 23 to below format to get all records\n",
    "- Current   => for k in range(min_limit, 2):\n",
    "- Change to => for k in range(min_limit, max_limit):"
   ]
  },
  {
   "cell_type": "code",
   "execution_count": 4,
   "metadata": {
    "collapsed": true
   },
   "outputs": [],
   "source": [
    "# find pages count, using page 1 as reference\n",
    "url = \"https://stats.espncricinfo.com/ci/engine/stats/index.html?class=3;page=\" + str(1) + \";template=results;type=bowling;view=innings\"\n",
    "text = urlopen(url)\n",
    "soup = BeautifulSoup(text, \"lxml\")\n",
    "table = soup.findAll('table', attrs = {'class' : 'engineTable'})\n",
    "\n",
    "tr_list = table[1].findAll('tr', attrs = {'class': 'data2'})\n",
    "\n",
    "min_pages = int(tr_list[0].findAll('b')[0].get_text())\n",
    "max_pages = int(tr_list[0].findAll('b')[1].get_text())\n",
    "\n",
    "entries_per_page = int(tr_list[0].findAll('b')[3].get_text())\n",
    "total_players_count = int(tr_list[0].findAll('b')[4].get_text())\n",
    "\n",
    "# set limits to run the for loop\n",
    "min_limit = min_pages\n",
    "if (total_players_count//entries_per_page) > 0:\n",
    "    max_limit = max_pages + 1\n",
    "\n",
    "# initialize all players data\n",
    "all_players = []\n",
    "\n",
    "for k in range(min_limit, 2):\n",
    "    # url to text & then to soup object conversion\n",
    "    url = \"https://stats.espncricinfo.com/ci/engine/stats/index.html?class=3;page=\" + str(k) + \";template=results;type=bowling;view=innings\"\n",
    "    text = urlopen(url)\n",
    "    soup = BeautifulSoup(text, \"lxml\")\n",
    "    table = soup.findAll('table', attrs = {'class' : 'engineTable'})\n",
    "    int_table = table[0]\n",
    "    \n",
    "    # iterate through all tables, find the one with caption tag\n",
    "    for temp_table in table:\n",
    "        caption_tag = temp_table.findAll('caption')\n",
    "        if(len(caption_tag) > 0):\n",
    "            int_table = temp_table\n",
    "    \n",
    "    # fetch table with data\n",
    "    tr_list = int_table.findAll('tr', attrs = {'class': 'data1'})\n",
    "    \n",
    "    # populate data\n",
    "    for tr in tr_list:\n",
    "        td_list = tr.findAll('td')\n",
    "        row_data = []\n",
    "        for td in td_list:\n",
    "            td_str = str(td)\n",
    "            cleantext = BeautifulSoup(td_str, \"lxml\").get_text()\n",
    "            row_data.append(cleantext)\n",
    "        all_players.append(row_data)\n",
    "        \n",
    "    # populate column names\n",
    "    tr_list_columns = int_table.findAll('tr', attrs = {'class': 'headlinks'})\n",
    "    cols_count = len(tr_list_columns[0].findAll('th'))\n",
    "    \n",
    "    column_names_ls = []\n",
    "    for i in range(cols_count):\n",
    "        column_name = tr_list_columns[0].findAll('th')[i].get_text()\n",
    "        column_names_ls.append(column_name)\n",
    "        \n",
    "    # convert to dataframe\n",
    "    t20_bowl_ing_df = pd.DataFrame(all_players, columns = column_names_ls)"
   ]
  },
  {
   "cell_type": "code",
   "execution_count": 5,
   "metadata": {
    "collapsed": false
   },
   "outputs": [
    {
     "data": {
      "text/html": [
       "<div>\n",
       "<style scoped>\n",
       "    .dataframe tbody tr th:only-of-type {\n",
       "        vertical-align: middle;\n",
       "    }\n",
       "\n",
       "    .dataframe tbody tr th {\n",
       "        vertical-align: top;\n",
       "    }\n",
       "\n",
       "    .dataframe thead th {\n",
       "        text-align: right;\n",
       "    }\n",
       "</style>\n",
       "<table border=\"1\" class=\"dataframe\">\n",
       "  <thead>\n",
       "    <tr style=\"text-align: right;\">\n",
       "      <th></th>\n",
       "      <th>Player</th>\n",
       "      <th>Overs</th>\n",
       "      <th>Mdns</th>\n",
       "      <th>Runs</th>\n",
       "      <th>Wkts</th>\n",
       "      <th>Econ</th>\n",
       "      <th>Inns</th>\n",
       "      <th></th>\n",
       "      <th>Opposition</th>\n",
       "      <th>Ground</th>\n",
       "      <th>Start Date</th>\n",
       "      <th></th>\n",
       "    </tr>\n",
       "  </thead>\n",
       "  <tbody>\n",
       "    <tr>\n",
       "      <th>0</th>\n",
       "      <td>DL Chahar (INDIA)</td>\n",
       "      <td>3.2</td>\n",
       "      <td>0</td>\n",
       "      <td>7</td>\n",
       "      <td>6</td>\n",
       "      <td>2.10</td>\n",
       "      <td>2</td>\n",
       "      <td></td>\n",
       "      <td>v Bangladesh</td>\n",
       "      <td>Nagpur</td>\n",
       "      <td>10 Nov 2019</td>\n",
       "      <td></td>\n",
       "    </tr>\n",
       "    <tr>\n",
       "      <th>1</th>\n",
       "      <td>BAW Mendis (SL)</td>\n",
       "      <td>4.0</td>\n",
       "      <td>2</td>\n",
       "      <td>8</td>\n",
       "      <td>6</td>\n",
       "      <td>2.00</td>\n",
       "      <td>2</td>\n",
       "      <td></td>\n",
       "      <td>v Zimbabwe</td>\n",
       "      <td>Hambantota</td>\n",
       "      <td>18 Sep 2012</td>\n",
       "      <td></td>\n",
       "    </tr>\n",
       "    <tr>\n",
       "      <th>2</th>\n",
       "      <td>BAW Mendis (SL)</td>\n",
       "      <td>4.0</td>\n",
       "      <td>1</td>\n",
       "      <td>16</td>\n",
       "      <td>6</td>\n",
       "      <td>4.00</td>\n",
       "      <td>2</td>\n",
       "      <td></td>\n",
       "      <td>v Australia</td>\n",
       "      <td>Pallekele</td>\n",
       "      <td>8 Aug 2011</td>\n",
       "      <td></td>\n",
       "    </tr>\n",
       "    <tr>\n",
       "      <th>3</th>\n",
       "      <td>YS Chahal (INDIA)</td>\n",
       "      <td>4.0</td>\n",
       "      <td>0</td>\n",
       "      <td>25</td>\n",
       "      <td>6</td>\n",
       "      <td>6.25</td>\n",
       "      <td>2</td>\n",
       "      <td></td>\n",
       "      <td>v England</td>\n",
       "      <td>Bengaluru</td>\n",
       "      <td>1 Feb 2017</td>\n",
       "      <td></td>\n",
       "    </tr>\n",
       "    <tr>\n",
       "      <th>4</th>\n",
       "      <td>AC Agar (AUS)</td>\n",
       "      <td>4.0</td>\n",
       "      <td>0</td>\n",
       "      <td>30</td>\n",
       "      <td>6</td>\n",
       "      <td>7.50</td>\n",
       "      <td>2</td>\n",
       "      <td></td>\n",
       "      <td>v New Zealand</td>\n",
       "      <td>Wellington</td>\n",
       "      <td>3 Mar 2021</td>\n",
       "      <td></td>\n",
       "    </tr>\n",
       "  </tbody>\n",
       "</table>\n",
       "</div>"
      ],
      "text/plain": [
       "              Player Overs Mdns Runs Wkts  Econ Inns       Opposition  \\\n",
       "0  DL Chahar (INDIA)   3.2    0    7    6  2.10    2     v Bangladesh   \n",
       "1    BAW Mendis (SL)   4.0    2    8    6  2.00    2       v Zimbabwe   \n",
       "2    BAW Mendis (SL)   4.0    1   16    6  4.00    2      v Australia   \n",
       "3  YS Chahal (INDIA)   4.0    0   25    6  6.25    2        v England   \n",
       "4      AC Agar (AUS)   4.0    0   30    6  7.50    2    v New Zealand   \n",
       "\n",
       "       Ground   Start Date    \n",
       "0      Nagpur  10 Nov 2019    \n",
       "1  Hambantota  18 Sep 2012    \n",
       "2   Pallekele   8 Aug 2011    \n",
       "3   Bengaluru   1 Feb 2017    \n",
       "4  Wellington   3 Mar 2021    "
      ]
     },
     "execution_count": 5,
     "metadata": {},
     "output_type": "execute_result"
    }
   ],
   "source": [
    "t20_bowl_ing_df.head()"
   ]
  },
  {
   "cell_type": "code",
   "execution_count": 7,
   "metadata": {
    "collapsed": false
   },
   "outputs": [
    {
     "data": {
      "text/plain": [
       "50"
      ]
     },
     "execution_count": 7,
     "metadata": {},
     "output_type": "execute_result"
    }
   ],
   "source": [
    "len(t20_bowl_ing_df)"
   ]
  },
  {
   "cell_type": "markdown",
   "metadata": {},
   "source": [
    "## ODI - Bowling Stats - By Players"
   ]
  },
  {
   "cell_type": "markdown",
   "metadata": {},
   "source": [
    "### Note: Change Line No 23 to below format to get all records\n",
    "- Current   => for k in range(min_limit, 2):\n",
    "- Change to => for k in range(min_limit, max_limit):"
   ]
  },
  {
   "cell_type": "code",
   "execution_count": 2,
   "metadata": {
    "collapsed": true
   },
   "outputs": [],
   "source": [
    "# find pages count, using page 1 as reference\n",
    "url = \"https://stats.espncricinfo.com/ci/engine/stats/index.html?class=2;page=\" + str(1) + \";template=results;type=bowling;view=innings\"\n",
    "text = urlopen(url)\n",
    "soup = BeautifulSoup(text, \"lxml\")\n",
    "table = soup.findAll('table', attrs = {'class' : 'engineTable'})\n",
    "\n",
    "tr_list = table[1].findAll('tr', attrs = {'class': 'data2'})\n",
    "\n",
    "min_pages = int(tr_list[0].findAll('b')[0].get_text())\n",
    "max_pages = int(tr_list[0].findAll('b')[1].get_text())\n",
    "\n",
    "entries_per_page = int(tr_list[0].findAll('b')[3].get_text())\n",
    "total_players_count = int(tr_list[0].findAll('b')[4].get_text())\n",
    "\n",
    "# set limits to run the for loop\n",
    "min_limit = min_pages\n",
    "if (total_players_count//entries_per_page) > 0:\n",
    "    max_limit = max_pages + 1\n",
    "\n",
    "# initialize all players data\n",
    "all_players = []\n",
    "\n",
    "for k in range(min_limit, 2):\n",
    "    # url to text & then to soup object conversion\n",
    "    url = \"https://stats.espncricinfo.com/ci/engine/stats/index.html?class=2;page=\" + str(k) + \";template=results;type=bowling;view=innings\"\n",
    "    text = urlopen(url)\n",
    "    soup = BeautifulSoup(text, \"lxml\")\n",
    "    table = soup.findAll('table', attrs = {'class' : 'engineTable'})\n",
    "    int_table = table[0]\n",
    "    \n",
    "    # iterate through all tables, find the one with caption tag\n",
    "    for temp_table in table:\n",
    "        caption_tag = temp_table.findAll('caption')\n",
    "        if(len(caption_tag) > 0):\n",
    "            int_table = temp_table\n",
    "    \n",
    "    # fetch table with data\n",
    "    tr_list = int_table.findAll('tr', attrs = {'class': 'data1'})\n",
    "    \n",
    "    # populate data\n",
    "    for tr in tr_list:\n",
    "        td_list = tr.findAll('td')\n",
    "        row_data = []\n",
    "        for td in td_list:\n",
    "            td_str = str(td)\n",
    "            cleantext = BeautifulSoup(td_str, \"lxml\").get_text()\n",
    "            row_data.append(cleantext)\n",
    "        all_players.append(row_data)\n",
    "        \n",
    "    # populate column names\n",
    "    tr_list_columns = int_table.findAll('tr', attrs = {'class': 'headlinks'})\n",
    "    cols_count = len(tr_list_columns[0].findAll('th'))\n",
    "    \n",
    "    column_names_ls = []\n",
    "    for i in range(cols_count):\n",
    "        column_name = tr_list_columns[0].findAll('th')[i].get_text()\n",
    "        column_names_ls.append(column_name)\n",
    "        \n",
    "    # convert to dataframe\n",
    "    odi_bowl_ing_df = pd.DataFrame(all_players, columns = column_names_ls)"
   ]
  },
  {
   "cell_type": "code",
   "execution_count": 3,
   "metadata": {
    "collapsed": false
   },
   "outputs": [
    {
     "data": {
      "text/html": [
       "<div>\n",
       "<table border=\"1\" class=\"dataframe\">\n",
       "  <thead>\n",
       "    <tr style=\"text-align: right;\">\n",
       "      <th></th>\n",
       "      <th>Player</th>\n",
       "      <th>Overs</th>\n",
       "      <th>BPO</th>\n",
       "      <th>Mdns</th>\n",
       "      <th>Runs</th>\n",
       "      <th>Wkts</th>\n",
       "      <th>Econ</th>\n",
       "      <th>Inns</th>\n",
       "      <th></th>\n",
       "      <th>Opposition</th>\n",
       "      <th>Ground</th>\n",
       "      <th>Start Date</th>\n",
       "      <th></th>\n",
       "    </tr>\n",
       "  </thead>\n",
       "  <tbody>\n",
       "    <tr>\n",
       "      <th>0</th>\n",
       "      <td>WPUJC Vaas (SL)</td>\n",
       "      <td>8.0</td>\n",
       "      <td>6</td>\n",
       "      <td>3</td>\n",
       "      <td>19</td>\n",
       "      <td>8</td>\n",
       "      <td>2.37</td>\n",
       "      <td>1</td>\n",
       "      <td></td>\n",
       "      <td>v Zimbabwe</td>\n",
       "      <td>Colombo (SSC)</td>\n",
       "      <td>8 Dec 2001</td>\n",
       "      <td></td>\n",
       "    </tr>\n",
       "    <tr>\n",
       "      <th>1</th>\n",
       "      <td>Shahid Afridi (PAK)</td>\n",
       "      <td>9.0</td>\n",
       "      <td>6</td>\n",
       "      <td>3</td>\n",
       "      <td>12</td>\n",
       "      <td>7</td>\n",
       "      <td>1.33</td>\n",
       "      <td>2</td>\n",
       "      <td></td>\n",
       "      <td>v West Indies</td>\n",
       "      <td>Providence</td>\n",
       "      <td>14 Jul 2013</td>\n",
       "      <td></td>\n",
       "    </tr>\n",
       "    <tr>\n",
       "      <th>2</th>\n",
       "      <td>GD McGrath (AUS)</td>\n",
       "      <td>7.0</td>\n",
       "      <td>6</td>\n",
       "      <td>4</td>\n",
       "      <td>15</td>\n",
       "      <td>7</td>\n",
       "      <td>2.14</td>\n",
       "      <td>2</td>\n",
       "      <td></td>\n",
       "      <td>v Namibia</td>\n",
       "      <td>Potchefstroom</td>\n",
       "      <td>27 Feb 2003</td>\n",
       "      <td></td>\n",
       "    </tr>\n",
       "    <tr>\n",
       "      <th>3</th>\n",
       "      <td>Rashid Khan (AFG)</td>\n",
       "      <td>8.4</td>\n",
       "      <td>6</td>\n",
       "      <td>1</td>\n",
       "      <td>18</td>\n",
       "      <td>7</td>\n",
       "      <td>2.07</td>\n",
       "      <td>2</td>\n",
       "      <td></td>\n",
       "      <td>v West Indies</td>\n",
       "      <td>Gros Islet</td>\n",
       "      <td>9 Jun 2017</td>\n",
       "      <td></td>\n",
       "    </tr>\n",
       "    <tr>\n",
       "      <th>4</th>\n",
       "      <td>AJ Bichel (AUS)</td>\n",
       "      <td>10.0</td>\n",
       "      <td>6</td>\n",
       "      <td>0</td>\n",
       "      <td>20</td>\n",
       "      <td>7</td>\n",
       "      <td>2.00</td>\n",
       "      <td>1</td>\n",
       "      <td></td>\n",
       "      <td>v England</td>\n",
       "      <td>Port Elizabeth</td>\n",
       "      <td>2 Mar 2003</td>\n",
       "      <td></td>\n",
       "    </tr>\n",
       "  </tbody>\n",
       "</table>\n",
       "</div>"
      ],
      "text/plain": [
       "                Player Overs BPO Mdns Runs Wkts  Econ Inns       Opposition  \\\n",
       "0      WPUJC Vaas (SL)   8.0   6    3   19    8  2.37    1       v Zimbabwe   \n",
       "1  Shahid Afridi (PAK)   9.0   6    3   12    7  1.33    2    v West Indies   \n",
       "2     GD McGrath (AUS)   7.0   6    4   15    7  2.14    2        v Namibia   \n",
       "3    Rashid Khan (AFG)   8.4   6    1   18    7  2.07    2    v West Indies   \n",
       "4      AJ Bichel (AUS)  10.0   6    0   20    7  2.00    1        v England   \n",
       "\n",
       "           Ground   Start Date    \n",
       "0   Colombo (SSC)   8 Dec 2001    \n",
       "1      Providence  14 Jul 2013    \n",
       "2   Potchefstroom  27 Feb 2003    \n",
       "3      Gros Islet   9 Jun 2017    \n",
       "4  Port Elizabeth   2 Mar 2003    "
      ]
     },
     "execution_count": 3,
     "metadata": {},
     "output_type": "execute_result"
    }
   ],
   "source": [
    "odi_bowl_ing_df.head()"
   ]
  },
  {
   "cell_type": "code",
   "execution_count": 5,
   "metadata": {
    "collapsed": false
   },
   "outputs": [
    {
     "data": {
      "text/plain": [
       "50"
      ]
     },
     "execution_count": 5,
     "metadata": {},
     "output_type": "execute_result"
    }
   ],
   "source": [
    "len(odi_bowl_ing_df)"
   ]
  },
  {
   "cell_type": "code",
   "execution_count": 6,
   "metadata": {
    "collapsed": true
   },
   "outputs": [],
   "source": [
    "odi_bowl_ing_df.to_csv('ODI_Bowlers.csv', index = False)"
   ]
  }
 ],
 "metadata": {
  "anaconda-cloud": {},
  "kernelspec": {
   "display_name": "Python [Root]",
   "language": "python",
   "name": "Python [Root]"
  },
  "language_info": {
   "codemirror_mode": {
    "name": "ipython",
    "version": 3
   },
   "file_extension": ".py",
   "mimetype": "text/x-python",
   "name": "python",
   "nbconvert_exporter": "python",
   "pygments_lexer": "ipython3",
   "version": "3.5.2"
  }
 },
 "nbformat": 4,
 "nbformat_minor": 2
}
