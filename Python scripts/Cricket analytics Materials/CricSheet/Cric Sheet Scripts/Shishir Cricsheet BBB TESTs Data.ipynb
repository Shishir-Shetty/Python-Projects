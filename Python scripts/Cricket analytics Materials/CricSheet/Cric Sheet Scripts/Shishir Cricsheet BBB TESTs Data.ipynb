{
 "cells": [
  {
   "cell_type": "markdown",
   "metadata": {},
   "source": [
    "## Downloading steps\n",
    "- url: https://cricsheet.org/downloads/\n",
    "- Go to Test matches -> click on New (All section)\n",
    "- Save the zip file in the same folder of this notebook\n",
    "- Extract the zip file keeping the same name"
   ]
  },
  {
   "cell_type": "markdown",
   "metadata": {},
   "source": [
    "## Imports"
   ]
  },
  {
   "cell_type": "code",
   "execution_count": 8,
   "metadata": {
    "collapsed": true
   },
   "outputs": [],
   "source": [
    "import pandas as pd\n",
    "import glob"
   ]
  },
  {
   "cell_type": "markdown",
   "metadata": {},
   "source": [
    "## Check for any errors"
   ]
  },
  {
   "cell_type": "code",
   "execution_count": 9,
   "metadata": {
    "collapsed": true
   },
   "outputs": [],
   "source": [
    "ls1 = glob.glob(\"tests_male_csv2\\*.csv\")\n",
    "ls2 = []\n",
    "\n",
    "for i in ls1:\n",
    "    # ignore info files\n",
    "    if \"_info\" not in i:\n",
    "        try:\n",
    "            ls2.append(pd.read_csv(i))\n",
    "        except:\n",
    "            print('error', i)"
   ]
  },
  {
   "cell_type": "code",
   "execution_count": 10,
   "metadata": {
    "collapsed": false
   },
   "outputs": [
    {
     "data": {
      "text/plain": [
       "690"
      ]
     },
     "execution_count": 10,
     "metadata": {},
     "output_type": "execute_result"
    }
   ],
   "source": [
    "len(ls2)"
   ]
  },
  {
   "cell_type": "markdown",
   "metadata": {},
   "source": [
    "## Combine Match by Match CSV files"
   ]
  },
  {
   "cell_type": "code",
   "execution_count": 11,
   "metadata": {
    "collapsed": true
   },
   "outputs": [],
   "source": [
    "#importing multiple files in a directory\n",
    "error_files = []\n",
    "l = [pd.read_csv(filename) if \"_info\" not in filename else error_files.append(filename)  for filename in glob.glob(\"tests_male_csv2\\*.csv\")]\n",
    "df = pd.concat(l, axis = 0)"
   ]
  },
  {
   "cell_type": "markdown",
   "metadata": {},
   "source": [
    "## Sneak peak"
   ]
  },
  {
   "cell_type": "code",
   "execution_count": 12,
   "metadata": {
    "collapsed": false,
    "scrolled": true
   },
   "outputs": [
    {
     "data": {
      "text/html": [
       "<div>\n",
       "<table border=\"1\" class=\"dataframe\">\n",
       "  <thead>\n",
       "    <tr style=\"text-align: right;\">\n",
       "      <th></th>\n",
       "      <th>match_id</th>\n",
       "      <th>season</th>\n",
       "      <th>start_date</th>\n",
       "      <th>venue</th>\n",
       "      <th>innings</th>\n",
       "      <th>ball</th>\n",
       "      <th>batting_team</th>\n",
       "      <th>bowling_team</th>\n",
       "      <th>striker</th>\n",
       "      <th>non_striker</th>\n",
       "      <th>...</th>\n",
       "      <th>extras</th>\n",
       "      <th>wides</th>\n",
       "      <th>noballs</th>\n",
       "      <th>byes</th>\n",
       "      <th>legbyes</th>\n",
       "      <th>penalty</th>\n",
       "      <th>wicket_type</th>\n",
       "      <th>player_dismissed</th>\n",
       "      <th>other_wicket_type</th>\n",
       "      <th>other_player_dismissed</th>\n",
       "    </tr>\n",
       "  </thead>\n",
       "  <tbody>\n",
       "    <tr>\n",
       "      <th>0</th>\n",
       "      <td>1000851</td>\n",
       "      <td>2016/17</td>\n",
       "      <td>2016-11-03</td>\n",
       "      <td>Western Australia Cricket Association Ground</td>\n",
       "      <td>1</td>\n",
       "      <td>0.1</td>\n",
       "      <td>South Africa</td>\n",
       "      <td>Australia</td>\n",
       "      <td>SC Cook</td>\n",
       "      <td>D Elgar</td>\n",
       "      <td>...</td>\n",
       "      <td>0</td>\n",
       "      <td>NaN</td>\n",
       "      <td>NaN</td>\n",
       "      <td>NaN</td>\n",
       "      <td>NaN</td>\n",
       "      <td>NaN</td>\n",
       "      <td>NaN</td>\n",
       "      <td>NaN</td>\n",
       "      <td>NaN</td>\n",
       "      <td>NaN</td>\n",
       "    </tr>\n",
       "    <tr>\n",
       "      <th>1</th>\n",
       "      <td>1000851</td>\n",
       "      <td>2016/17</td>\n",
       "      <td>2016-11-03</td>\n",
       "      <td>Western Australia Cricket Association Ground</td>\n",
       "      <td>1</td>\n",
       "      <td>0.2</td>\n",
       "      <td>South Africa</td>\n",
       "      <td>Australia</td>\n",
       "      <td>SC Cook</td>\n",
       "      <td>D Elgar</td>\n",
       "      <td>...</td>\n",
       "      <td>0</td>\n",
       "      <td>NaN</td>\n",
       "      <td>NaN</td>\n",
       "      <td>NaN</td>\n",
       "      <td>NaN</td>\n",
       "      <td>NaN</td>\n",
       "      <td>NaN</td>\n",
       "      <td>NaN</td>\n",
       "      <td>NaN</td>\n",
       "      <td>NaN</td>\n",
       "    </tr>\n",
       "    <tr>\n",
       "      <th>2</th>\n",
       "      <td>1000851</td>\n",
       "      <td>2016/17</td>\n",
       "      <td>2016-11-03</td>\n",
       "      <td>Western Australia Cricket Association Ground</td>\n",
       "      <td>1</td>\n",
       "      <td>0.3</td>\n",
       "      <td>South Africa</td>\n",
       "      <td>Australia</td>\n",
       "      <td>SC Cook</td>\n",
       "      <td>D Elgar</td>\n",
       "      <td>...</td>\n",
       "      <td>0</td>\n",
       "      <td>NaN</td>\n",
       "      <td>NaN</td>\n",
       "      <td>NaN</td>\n",
       "      <td>NaN</td>\n",
       "      <td>NaN</td>\n",
       "      <td>NaN</td>\n",
       "      <td>NaN</td>\n",
       "      <td>NaN</td>\n",
       "      <td>NaN</td>\n",
       "    </tr>\n",
       "    <tr>\n",
       "      <th>3</th>\n",
       "      <td>1000851</td>\n",
       "      <td>2016/17</td>\n",
       "      <td>2016-11-03</td>\n",
       "      <td>Western Australia Cricket Association Ground</td>\n",
       "      <td>1</td>\n",
       "      <td>0.4</td>\n",
       "      <td>South Africa</td>\n",
       "      <td>Australia</td>\n",
       "      <td>SC Cook</td>\n",
       "      <td>D Elgar</td>\n",
       "      <td>...</td>\n",
       "      <td>0</td>\n",
       "      <td>NaN</td>\n",
       "      <td>NaN</td>\n",
       "      <td>NaN</td>\n",
       "      <td>NaN</td>\n",
       "      <td>NaN</td>\n",
       "      <td>caught</td>\n",
       "      <td>SC Cook</td>\n",
       "      <td>NaN</td>\n",
       "      <td>NaN</td>\n",
       "    </tr>\n",
       "    <tr>\n",
       "      <th>4</th>\n",
       "      <td>1000851</td>\n",
       "      <td>2016/17</td>\n",
       "      <td>2016-11-03</td>\n",
       "      <td>Western Australia Cricket Association Ground</td>\n",
       "      <td>1</td>\n",
       "      <td>0.5</td>\n",
       "      <td>South Africa</td>\n",
       "      <td>Australia</td>\n",
       "      <td>HM Amla</td>\n",
       "      <td>D Elgar</td>\n",
       "      <td>...</td>\n",
       "      <td>0</td>\n",
       "      <td>NaN</td>\n",
       "      <td>NaN</td>\n",
       "      <td>NaN</td>\n",
       "      <td>NaN</td>\n",
       "      <td>NaN</td>\n",
       "      <td>NaN</td>\n",
       "      <td>NaN</td>\n",
       "      <td>NaN</td>\n",
       "      <td>NaN</td>\n",
       "    </tr>\n",
       "  </tbody>\n",
       "</table>\n",
       "<p>5 rows × 22 columns</p>\n",
       "</div>"
      ],
      "text/plain": [
       "   match_id   season  start_date  \\\n",
       "0   1000851  2016/17  2016-11-03   \n",
       "1   1000851  2016/17  2016-11-03   \n",
       "2   1000851  2016/17  2016-11-03   \n",
       "3   1000851  2016/17  2016-11-03   \n",
       "4   1000851  2016/17  2016-11-03   \n",
       "\n",
       "                                          venue  innings  ball  batting_team  \\\n",
       "0  Western Australia Cricket Association Ground        1   0.1  South Africa   \n",
       "1  Western Australia Cricket Association Ground        1   0.2  South Africa   \n",
       "2  Western Australia Cricket Association Ground        1   0.3  South Africa   \n",
       "3  Western Australia Cricket Association Ground        1   0.4  South Africa   \n",
       "4  Western Australia Cricket Association Ground        1   0.5  South Africa   \n",
       "\n",
       "  bowling_team  striker non_striker          ...           extras  wides  \\\n",
       "0    Australia  SC Cook     D Elgar          ...                0    NaN   \n",
       "1    Australia  SC Cook     D Elgar          ...                0    NaN   \n",
       "2    Australia  SC Cook     D Elgar          ...                0    NaN   \n",
       "3    Australia  SC Cook     D Elgar          ...                0    NaN   \n",
       "4    Australia  HM Amla     D Elgar          ...                0    NaN   \n",
       "\n",
       "   noballs  byes  legbyes  penalty  wicket_type  player_dismissed  \\\n",
       "0      NaN   NaN      NaN      NaN          NaN               NaN   \n",
       "1      NaN   NaN      NaN      NaN          NaN               NaN   \n",
       "2      NaN   NaN      NaN      NaN          NaN               NaN   \n",
       "3      NaN   NaN      NaN      NaN       caught           SC Cook   \n",
       "4      NaN   NaN      NaN      NaN          NaN               NaN   \n",
       "\n",
       "  other_wicket_type other_player_dismissed  \n",
       "0               NaN                    NaN  \n",
       "1               NaN                    NaN  \n",
       "2               NaN                    NaN  \n",
       "3               NaN                    NaN  \n",
       "4               NaN                    NaN  \n",
       "\n",
       "[5 rows x 22 columns]"
      ]
     },
     "execution_count": 12,
     "metadata": {},
     "output_type": "execute_result"
    }
   ],
   "source": [
    "df.head()"
   ]
  },
  {
   "cell_type": "code",
   "execution_count": 13,
   "metadata": {
    "collapsed": false
   },
   "outputs": [
    {
     "data": {
      "text/plain": [
       "array(['2016/17', 2016, 2017, '2017/18', 2018, '2018/19', 2019, '2019/20',\n",
       "       2020, '2020/21', 2021, '2021/22', 2005, '2005/06', 2006, '2006/07',\n",
       "       2007, '2007/08', 2008, '2008/09', 2009, '2009/10', 2010, '2010/11',\n",
       "       2011, '2011/12', 2012, '2012/13', 2013, '2013/14', '2003/04', 2004,\n",
       "       '2004/05', 2014, '2014/15', 2015, '2015/16'], dtype=object)"
      ]
     },
     "execution_count": 13,
     "metadata": {},
     "output_type": "execute_result"
    }
   ],
   "source": [
    "df.season.unique()"
   ]
  },
  {
   "cell_type": "code",
   "execution_count": 14,
   "metadata": {
    "collapsed": false
   },
   "outputs": [
    {
     "data": {
      "text/plain": [
       "array(['South Africa', 'Australia', 'Pakistan', 'Bangladesh',\n",
       "       'New Zealand', 'India', 'West Indies', 'Zimbabwe', 'England',\n",
       "       'Sri Lanka', 'Ireland', 'Afghanistan', 'ICC World XI'], dtype=object)"
      ]
     },
     "execution_count": 14,
     "metadata": {},
     "output_type": "execute_result"
    }
   ],
   "source": [
    "df.batting_team.unique()"
   ]
  },
  {
   "cell_type": "code",
   "execution_count": 15,
   "metadata": {
    "collapsed": false
   },
   "outputs": [
    {
     "data": {
      "text/plain": [
       "174"
      ]
     },
     "execution_count": 15,
     "metadata": {},
     "output_type": "execute_result"
    }
   ],
   "source": [
    "#matches by country\n",
    "len(df[df.batting_team == 'India'].match_id.unique())"
   ]
  },
  {
   "cell_type": "markdown",
   "metadata": {},
   "source": [
    "## Check for duplicates"
   ]
  },
  {
   "cell_type": "code",
   "execution_count": 16,
   "metadata": {
    "collapsed": false
   },
   "outputs": [
    {
     "data": {
      "text/plain": [
       "1"
      ]
     },
     "execution_count": 16,
     "metadata": {},
     "output_type": "execute_result"
    }
   ],
   "source": [
    "len(df)-len(df.drop_duplicates())"
   ]
  },
  {
   "cell_type": "markdown",
   "metadata": {},
   "source": [
    "## Correcting duplicates"
   ]
  },
  {
   "cell_type": "code",
   "execution_count": 17,
   "metadata": {
    "collapsed": true
   },
   "outputs": [],
   "source": [
    "df = df.drop_duplicates(keep = 'first')"
   ]
  },
  {
   "cell_type": "code",
   "execution_count": 18,
   "metadata": {
    "collapsed": false
   },
   "outputs": [
    {
     "data": {
      "text/plain": [
       "0"
      ]
     },
     "execution_count": 18,
     "metadata": {},
     "output_type": "execute_result"
    }
   ],
   "source": [
    "len(df)-len(df.drop_duplicates())"
   ]
  },
  {
   "cell_type": "markdown",
   "metadata": {},
   "source": [
    "## Sort by dates"
   ]
  },
  {
   "cell_type": "code",
   "execution_count": 19,
   "metadata": {
    "collapsed": true
   },
   "outputs": [],
   "source": [
    "df['start_date'] = pd.to_datetime(df['start_date'])"
   ]
  },
  {
   "cell_type": "code",
   "execution_count": 20,
   "metadata": {
    "collapsed": true
   },
   "outputs": [],
   "source": [
    "df = df.sort_values('start_date', ascending = True)"
   ]
  },
  {
   "cell_type": "markdown",
   "metadata": {},
   "source": [
    "## Check after sorting"
   ]
  },
  {
   "cell_type": "code",
   "execution_count": 21,
   "metadata": {
    "collapsed": false
   },
   "outputs": [
    {
     "data": {
      "text/html": [
       "<div>\n",
       "<table border=\"1\" class=\"dataframe\">\n",
       "  <thead>\n",
       "    <tr style=\"text-align: right;\">\n",
       "      <th></th>\n",
       "      <th>match_id</th>\n",
       "      <th>season</th>\n",
       "      <th>start_date</th>\n",
       "      <th>venue</th>\n",
       "      <th>innings</th>\n",
       "      <th>ball</th>\n",
       "      <th>batting_team</th>\n",
       "      <th>bowling_team</th>\n",
       "      <th>striker</th>\n",
       "      <th>non_striker</th>\n",
       "      <th>...</th>\n",
       "      <th>extras</th>\n",
       "      <th>wides</th>\n",
       "      <th>noballs</th>\n",
       "      <th>byes</th>\n",
       "      <th>legbyes</th>\n",
       "      <th>penalty</th>\n",
       "      <th>wicket_type</th>\n",
       "      <th>player_dismissed</th>\n",
       "      <th>other_wicket_type</th>\n",
       "      <th>other_player_dismissed</th>\n",
       "    </tr>\n",
       "  </thead>\n",
       "  <tbody>\n",
       "    <tr>\n",
       "      <th>2151</th>\n",
       "      <td>64071</td>\n",
       "      <td>2003/04</td>\n",
       "      <td>2004-03-08</td>\n",
       "      <td>Galle International Stadium</td>\n",
       "      <td>4</td>\n",
       "      <td>0.6</td>\n",
       "      <td>Sri Lanka</td>\n",
       "      <td>Australia</td>\n",
       "      <td>MS Atapattu</td>\n",
       "      <td>KC Sangakkara</td>\n",
       "      <td>...</td>\n",
       "      <td>0</td>\n",
       "      <td>NaN</td>\n",
       "      <td>NaN</td>\n",
       "      <td>NaN</td>\n",
       "      <td>NaN</td>\n",
       "      <td>NaN</td>\n",
       "      <td>NaN</td>\n",
       "      <td>NaN</td>\n",
       "      <td>NaN</td>\n",
       "      <td>NaN</td>\n",
       "    </tr>\n",
       "    <tr>\n",
       "      <th>1609</th>\n",
       "      <td>64071</td>\n",
       "      <td>2003/04</td>\n",
       "      <td>2004-03-08</td>\n",
       "      <td>Galle International Stadium</td>\n",
       "      <td>3</td>\n",
       "      <td>62.6</td>\n",
       "      <td>Australia</td>\n",
       "      <td>Sri Lanka</td>\n",
       "      <td>DR Martyn</td>\n",
       "      <td>ML Hayden</td>\n",
       "      <td>...</td>\n",
       "      <td>0</td>\n",
       "      <td>NaN</td>\n",
       "      <td>NaN</td>\n",
       "      <td>NaN</td>\n",
       "      <td>NaN</td>\n",
       "      <td>NaN</td>\n",
       "      <td>NaN</td>\n",
       "      <td>NaN</td>\n",
       "      <td>NaN</td>\n",
       "      <td>NaN</td>\n",
       "    </tr>\n",
       "    <tr>\n",
       "      <th>1610</th>\n",
       "      <td>64071</td>\n",
       "      <td>2003/04</td>\n",
       "      <td>2004-03-08</td>\n",
       "      <td>Galle International Stadium</td>\n",
       "      <td>3</td>\n",
       "      <td>63.1</td>\n",
       "      <td>Australia</td>\n",
       "      <td>Sri Lanka</td>\n",
       "      <td>ML Hayden</td>\n",
       "      <td>DR Martyn</td>\n",
       "      <td>...</td>\n",
       "      <td>0</td>\n",
       "      <td>NaN</td>\n",
       "      <td>NaN</td>\n",
       "      <td>NaN</td>\n",
       "      <td>NaN</td>\n",
       "      <td>NaN</td>\n",
       "      <td>NaN</td>\n",
       "      <td>NaN</td>\n",
       "      <td>NaN</td>\n",
       "      <td>NaN</td>\n",
       "    </tr>\n",
       "    <tr>\n",
       "      <th>1611</th>\n",
       "      <td>64071</td>\n",
       "      <td>2003/04</td>\n",
       "      <td>2004-03-08</td>\n",
       "      <td>Galle International Stadium</td>\n",
       "      <td>3</td>\n",
       "      <td>63.2</td>\n",
       "      <td>Australia</td>\n",
       "      <td>Sri Lanka</td>\n",
       "      <td>DR Martyn</td>\n",
       "      <td>ML Hayden</td>\n",
       "      <td>...</td>\n",
       "      <td>0</td>\n",
       "      <td>NaN</td>\n",
       "      <td>NaN</td>\n",
       "      <td>NaN</td>\n",
       "      <td>NaN</td>\n",
       "      <td>NaN</td>\n",
       "      <td>NaN</td>\n",
       "      <td>NaN</td>\n",
       "      <td>NaN</td>\n",
       "      <td>NaN</td>\n",
       "    </tr>\n",
       "    <tr>\n",
       "      <th>1612</th>\n",
       "      <td>64071</td>\n",
       "      <td>2003/04</td>\n",
       "      <td>2004-03-08</td>\n",
       "      <td>Galle International Stadium</td>\n",
       "      <td>3</td>\n",
       "      <td>63.3</td>\n",
       "      <td>Australia</td>\n",
       "      <td>Sri Lanka</td>\n",
       "      <td>DR Martyn</td>\n",
       "      <td>ML Hayden</td>\n",
       "      <td>...</td>\n",
       "      <td>0</td>\n",
       "      <td>NaN</td>\n",
       "      <td>NaN</td>\n",
       "      <td>NaN</td>\n",
       "      <td>NaN</td>\n",
       "      <td>NaN</td>\n",
       "      <td>NaN</td>\n",
       "      <td>NaN</td>\n",
       "      <td>NaN</td>\n",
       "      <td>NaN</td>\n",
       "    </tr>\n",
       "  </tbody>\n",
       "</table>\n",
       "<p>5 rows × 22 columns</p>\n",
       "</div>"
      ],
      "text/plain": [
       "      match_id   season start_date                        venue  innings  \\\n",
       "2151     64071  2003/04 2004-03-08  Galle International Stadium        4   \n",
       "1609     64071  2003/04 2004-03-08  Galle International Stadium        3   \n",
       "1610     64071  2003/04 2004-03-08  Galle International Stadium        3   \n",
       "1611     64071  2003/04 2004-03-08  Galle International Stadium        3   \n",
       "1612     64071  2003/04 2004-03-08  Galle International Stadium        3   \n",
       "\n",
       "      ball batting_team bowling_team      striker    non_striker  \\\n",
       "2151   0.6    Sri Lanka    Australia  MS Atapattu  KC Sangakkara   \n",
       "1609  62.6    Australia    Sri Lanka    DR Martyn      ML Hayden   \n",
       "1610  63.1    Australia    Sri Lanka    ML Hayden      DR Martyn   \n",
       "1611  63.2    Australia    Sri Lanka    DR Martyn      ML Hayden   \n",
       "1612  63.3    Australia    Sri Lanka    DR Martyn      ML Hayden   \n",
       "\n",
       "              ...           extras  wides  noballs  byes  legbyes  penalty  \\\n",
       "2151          ...                0    NaN      NaN   NaN      NaN      NaN   \n",
       "1609          ...                0    NaN      NaN   NaN      NaN      NaN   \n",
       "1610          ...                0    NaN      NaN   NaN      NaN      NaN   \n",
       "1611          ...                0    NaN      NaN   NaN      NaN      NaN   \n",
       "1612          ...                0    NaN      NaN   NaN      NaN      NaN   \n",
       "\n",
       "      wicket_type  player_dismissed other_wicket_type other_player_dismissed  \n",
       "2151          NaN               NaN               NaN                    NaN  \n",
       "1609          NaN               NaN               NaN                    NaN  \n",
       "1610          NaN               NaN               NaN                    NaN  \n",
       "1611          NaN               NaN               NaN                    NaN  \n",
       "1612          NaN               NaN               NaN                    NaN  \n",
       "\n",
       "[5 rows x 22 columns]"
      ]
     },
     "execution_count": 21,
     "metadata": {},
     "output_type": "execute_result"
    }
   ],
   "source": [
    "df.head()"
   ]
  },
  {
   "cell_type": "code",
   "execution_count": 22,
   "metadata": {
    "collapsed": false
   },
   "outputs": [
    {
     "data": {
      "text/html": [
       "<div>\n",
       "<table border=\"1\" class=\"dataframe\">\n",
       "  <thead>\n",
       "    <tr style=\"text-align: right;\">\n",
       "      <th></th>\n",
       "      <th>match_id</th>\n",
       "      <th>season</th>\n",
       "      <th>start_date</th>\n",
       "      <th>venue</th>\n",
       "      <th>innings</th>\n",
       "      <th>ball</th>\n",
       "      <th>batting_team</th>\n",
       "      <th>bowling_team</th>\n",
       "      <th>striker</th>\n",
       "      <th>non_striker</th>\n",
       "      <th>...</th>\n",
       "      <th>extras</th>\n",
       "      <th>wides</th>\n",
       "      <th>noballs</th>\n",
       "      <th>byes</th>\n",
       "      <th>legbyes</th>\n",
       "      <th>penalty</th>\n",
       "      <th>wicket_type</th>\n",
       "      <th>player_dismissed</th>\n",
       "      <th>other_wicket_type</th>\n",
       "      <th>other_player_dismissed</th>\n",
       "    </tr>\n",
       "  </thead>\n",
       "  <tbody>\n",
       "    <tr>\n",
       "      <th>543</th>\n",
       "      <td>1277080</td>\n",
       "      <td>2021/22</td>\n",
       "      <td>2022-01-03</td>\n",
       "      <td>The Wanderers Stadium, Johannesburg</td>\n",
       "      <td>2</td>\n",
       "      <td>26.2</td>\n",
       "      <td>South Africa</td>\n",
       "      <td>India</td>\n",
       "      <td>KD Petersen</td>\n",
       "      <td>D Elgar</td>\n",
       "      <td>...</td>\n",
       "      <td>0</td>\n",
       "      <td>NaN</td>\n",
       "      <td>NaN</td>\n",
       "      <td>NaN</td>\n",
       "      <td>NaN</td>\n",
       "      <td>NaN</td>\n",
       "      <td>NaN</td>\n",
       "      <td>NaN</td>\n",
       "      <td>NaN</td>\n",
       "      <td>NaN</td>\n",
       "    </tr>\n",
       "    <tr>\n",
       "      <th>542</th>\n",
       "      <td>1277080</td>\n",
       "      <td>2021/22</td>\n",
       "      <td>2022-01-03</td>\n",
       "      <td>The Wanderers Stadium, Johannesburg</td>\n",
       "      <td>2</td>\n",
       "      <td>26.1</td>\n",
       "      <td>South Africa</td>\n",
       "      <td>India</td>\n",
       "      <td>KD Petersen</td>\n",
       "      <td>D Elgar</td>\n",
       "      <td>...</td>\n",
       "      <td>0</td>\n",
       "      <td>NaN</td>\n",
       "      <td>NaN</td>\n",
       "      <td>NaN</td>\n",
       "      <td>NaN</td>\n",
       "      <td>NaN</td>\n",
       "      <td>NaN</td>\n",
       "      <td>NaN</td>\n",
       "      <td>NaN</td>\n",
       "      <td>NaN</td>\n",
       "    </tr>\n",
       "    <tr>\n",
       "      <th>541</th>\n",
       "      <td>1277080</td>\n",
       "      <td>2021/22</td>\n",
       "      <td>2022-01-03</td>\n",
       "      <td>The Wanderers Stadium, Johannesburg</td>\n",
       "      <td>2</td>\n",
       "      <td>25.6</td>\n",
       "      <td>South Africa</td>\n",
       "      <td>India</td>\n",
       "      <td>D Elgar</td>\n",
       "      <td>KD Petersen</td>\n",
       "      <td>...</td>\n",
       "      <td>0</td>\n",
       "      <td>NaN</td>\n",
       "      <td>NaN</td>\n",
       "      <td>NaN</td>\n",
       "      <td>NaN</td>\n",
       "      <td>NaN</td>\n",
       "      <td>NaN</td>\n",
       "      <td>NaN</td>\n",
       "      <td>NaN</td>\n",
       "      <td>NaN</td>\n",
       "    </tr>\n",
       "    <tr>\n",
       "      <th>551</th>\n",
       "      <td>1277080</td>\n",
       "      <td>2021/22</td>\n",
       "      <td>2022-01-03</td>\n",
       "      <td>The Wanderers Stadium, Johannesburg</td>\n",
       "      <td>2</td>\n",
       "      <td>27.4</td>\n",
       "      <td>South Africa</td>\n",
       "      <td>India</td>\n",
       "      <td>KD Petersen</td>\n",
       "      <td>D Elgar</td>\n",
       "      <td>...</td>\n",
       "      <td>0</td>\n",
       "      <td>NaN</td>\n",
       "      <td>NaN</td>\n",
       "      <td>NaN</td>\n",
       "      <td>NaN</td>\n",
       "      <td>NaN</td>\n",
       "      <td>NaN</td>\n",
       "      <td>NaN</td>\n",
       "      <td>NaN</td>\n",
       "      <td>NaN</td>\n",
       "    </tr>\n",
       "    <tr>\n",
       "      <th>1648</th>\n",
       "      <td>1277080</td>\n",
       "      <td>2021/22</td>\n",
       "      <td>2022-01-03</td>\n",
       "      <td>The Wanderers Stadium, Johannesburg</td>\n",
       "      <td>4</td>\n",
       "      <td>67.3</td>\n",
       "      <td>South Africa</td>\n",
       "      <td>India</td>\n",
       "      <td>D Elgar</td>\n",
       "      <td>T Bavuma</td>\n",
       "      <td>...</td>\n",
       "      <td>0</td>\n",
       "      <td>NaN</td>\n",
       "      <td>NaN</td>\n",
       "      <td>NaN</td>\n",
       "      <td>NaN</td>\n",
       "      <td>NaN</td>\n",
       "      <td>NaN</td>\n",
       "      <td>NaN</td>\n",
       "      <td>NaN</td>\n",
       "      <td>NaN</td>\n",
       "    </tr>\n",
       "  </tbody>\n",
       "</table>\n",
       "<p>5 rows × 22 columns</p>\n",
       "</div>"
      ],
      "text/plain": [
       "      match_id   season start_date                                venue  \\\n",
       "543    1277080  2021/22 2022-01-03  The Wanderers Stadium, Johannesburg   \n",
       "542    1277080  2021/22 2022-01-03  The Wanderers Stadium, Johannesburg   \n",
       "541    1277080  2021/22 2022-01-03  The Wanderers Stadium, Johannesburg   \n",
       "551    1277080  2021/22 2022-01-03  The Wanderers Stadium, Johannesburg   \n",
       "1648   1277080  2021/22 2022-01-03  The Wanderers Stadium, Johannesburg   \n",
       "\n",
       "      innings  ball  batting_team bowling_team      striker  non_striker  \\\n",
       "543         2  26.2  South Africa        India  KD Petersen      D Elgar   \n",
       "542         2  26.1  South Africa        India  KD Petersen      D Elgar   \n",
       "541         2  25.6  South Africa        India      D Elgar  KD Petersen   \n",
       "551         2  27.4  South Africa        India  KD Petersen      D Elgar   \n",
       "1648        4  67.3  South Africa        India      D Elgar     T Bavuma   \n",
       "\n",
       "              ...           extras  wides  noballs  byes  legbyes  penalty  \\\n",
       "543           ...                0    NaN      NaN   NaN      NaN      NaN   \n",
       "542           ...                0    NaN      NaN   NaN      NaN      NaN   \n",
       "541           ...                0    NaN      NaN   NaN      NaN      NaN   \n",
       "551           ...                0    NaN      NaN   NaN      NaN      NaN   \n",
       "1648          ...                0    NaN      NaN   NaN      NaN      NaN   \n",
       "\n",
       "      wicket_type  player_dismissed other_wicket_type other_player_dismissed  \n",
       "543           NaN               NaN               NaN                    NaN  \n",
       "542           NaN               NaN               NaN                    NaN  \n",
       "541           NaN               NaN               NaN                    NaN  \n",
       "551           NaN               NaN               NaN                    NaN  \n",
       "1648          NaN               NaN               NaN                    NaN  \n",
       "\n",
       "[5 rows x 22 columns]"
      ]
     },
     "execution_count": 22,
     "metadata": {},
     "output_type": "execute_result"
    }
   ],
   "source": [
    "df.tail()"
   ]
  },
  {
   "cell_type": "code",
   "execution_count": 23,
   "metadata": {
    "collapsed": false
   },
   "outputs": [
    {
     "data": {
      "text/plain": [
       "1356657"
      ]
     },
     "execution_count": 23,
     "metadata": {},
     "output_type": "execute_result"
    }
   ],
   "source": [
    "len(df)"
   ]
  },
  {
   "cell_type": "markdown",
   "metadata": {},
   "source": [
    "## Export to single CSV"
   ]
  },
  {
   "cell_type": "code",
   "execution_count": null,
   "metadata": {
    "collapsed": true
   },
   "outputs": [],
   "source": [
    "df.to_csv('TESTS_ball_by_ball.csv', index = False)"
   ]
  },
  {
   "cell_type": "code",
   "execution_count": null,
   "metadata": {
    "collapsed": true
   },
   "outputs": [],
   "source": []
  }
 ],
 "metadata": {
  "kernelspec": {
   "display_name": "Python [Root]",
   "language": "python",
   "name": "Python [Root]"
  },
  "language_info": {
   "codemirror_mode": {
    "name": "ipython",
    "version": 3
   },
   "file_extension": ".py",
   "mimetype": "text/x-python",
   "name": "python",
   "nbconvert_exporter": "python",
   "pygments_lexer": "ipython3",
   "version": "3.5.2"
  }
 },
 "nbformat": 4,
 "nbformat_minor": 2
}
