{
 "cells": [
  {
   "cell_type": "markdown",
   "metadata": {},
   "source": [
    "## Downloading steps\n",
    "- url: https://cricsheet.org/downloads/\n",
    "- Go to Test matches -> click on New (All section)\n",
    "- Save the zip file in the same folder of this notebook\n",
    "- Extract the zip file keeping the same name"
   ]
  },
  {
   "cell_type": "markdown",
   "metadata": {},
   "source": [
    "## Imports"
   ]
  },
  {
   "cell_type": "code",
   "execution_count": 1,
   "metadata": {
    "collapsed": true
   },
   "outputs": [],
   "source": [
    "import pandas as pd\n",
    "import glob"
   ]
  },
  {
   "cell_type": "markdown",
   "metadata": {},
   "source": [
    "## Check for any errors"
   ]
  },
  {
   "cell_type": "code",
   "execution_count": 2,
   "metadata": {
    "collapsed": true
   },
   "outputs": [],
   "source": [
    "ls1 = glob.glob(\"odis_male_csv2\\*.csv\")\n",
    "ls2 = []\n",
    "\n",
    "for i in ls1:\n",
    "    # ignore info files\n",
    "    if \"_info\" not in i:\n",
    "        try:\n",
    "            ls2.append(pd.read_csv(i))\n",
    "        except:\n",
    "            print('error', i)"
   ]
  },
  {
   "cell_type": "code",
   "execution_count": 3,
   "metadata": {
    "collapsed": false
   },
   "outputs": [
    {
     "data": {
      "text/plain": [
       "1959"
      ]
     },
     "execution_count": 3,
     "metadata": {},
     "output_type": "execute_result"
    }
   ],
   "source": [
    "len(ls2)"
   ]
  },
  {
   "cell_type": "markdown",
   "metadata": {},
   "source": [
    "## Combine Match by Match CSV files"
   ]
  },
  {
   "cell_type": "code",
   "execution_count": 4,
   "metadata": {
    "collapsed": true
   },
   "outputs": [],
   "source": [
    "#importing multiple files in a directory\n",
    "error_files = []\n",
    "l = [pd.read_csv(filename) if \"_info\" not in filename else error_files.append(filename)  for filename in glob.glob(\"odis_male_csv2\\*.csv\")]\n",
    "df = pd.concat(l, axis = 0)"
   ]
  },
  {
   "cell_type": "markdown",
   "metadata": {},
   "source": [
    "## Sneak peak"
   ]
  },
  {
   "cell_type": "code",
   "execution_count": 5,
   "metadata": {
    "collapsed": false,
    "scrolled": true
   },
   "outputs": [
    {
     "data": {
      "text/html": [
       "<div>\n",
       "<table border=\"1\" class=\"dataframe\">\n",
       "  <thead>\n",
       "    <tr style=\"text-align: right;\">\n",
       "      <th></th>\n",
       "      <th>match_id</th>\n",
       "      <th>season</th>\n",
       "      <th>start_date</th>\n",
       "      <th>venue</th>\n",
       "      <th>innings</th>\n",
       "      <th>ball</th>\n",
       "      <th>batting_team</th>\n",
       "      <th>bowling_team</th>\n",
       "      <th>striker</th>\n",
       "      <th>non_striker</th>\n",
       "      <th>...</th>\n",
       "      <th>extras</th>\n",
       "      <th>wides</th>\n",
       "      <th>noballs</th>\n",
       "      <th>byes</th>\n",
       "      <th>legbyes</th>\n",
       "      <th>penalty</th>\n",
       "      <th>wicket_type</th>\n",
       "      <th>player_dismissed</th>\n",
       "      <th>other_wicket_type</th>\n",
       "      <th>other_player_dismissed</th>\n",
       "    </tr>\n",
       "  </thead>\n",
       "  <tbody>\n",
       "    <tr>\n",
       "      <th>0</th>\n",
       "      <td>1000887</td>\n",
       "      <td>2016/17</td>\n",
       "      <td>2017-01-13</td>\n",
       "      <td>Brisbane Cricket Ground, Woolloongabba</td>\n",
       "      <td>1</td>\n",
       "      <td>0.1</td>\n",
       "      <td>Australia</td>\n",
       "      <td>Pakistan</td>\n",
       "      <td>DA Warner</td>\n",
       "      <td>TM Head</td>\n",
       "      <td>...</td>\n",
       "      <td>0</td>\n",
       "      <td>NaN</td>\n",
       "      <td>NaN</td>\n",
       "      <td>NaN</td>\n",
       "      <td>NaN</td>\n",
       "      <td>NaN</td>\n",
       "      <td>NaN</td>\n",
       "      <td>NaN</td>\n",
       "      <td>NaN</td>\n",
       "      <td>NaN</td>\n",
       "    </tr>\n",
       "    <tr>\n",
       "      <th>1</th>\n",
       "      <td>1000887</td>\n",
       "      <td>2016/17</td>\n",
       "      <td>2017-01-13</td>\n",
       "      <td>Brisbane Cricket Ground, Woolloongabba</td>\n",
       "      <td>1</td>\n",
       "      <td>0.2</td>\n",
       "      <td>Australia</td>\n",
       "      <td>Pakistan</td>\n",
       "      <td>DA Warner</td>\n",
       "      <td>TM Head</td>\n",
       "      <td>...</td>\n",
       "      <td>0</td>\n",
       "      <td>NaN</td>\n",
       "      <td>NaN</td>\n",
       "      <td>NaN</td>\n",
       "      <td>NaN</td>\n",
       "      <td>NaN</td>\n",
       "      <td>NaN</td>\n",
       "      <td>NaN</td>\n",
       "      <td>NaN</td>\n",
       "      <td>NaN</td>\n",
       "    </tr>\n",
       "    <tr>\n",
       "      <th>2</th>\n",
       "      <td>1000887</td>\n",
       "      <td>2016/17</td>\n",
       "      <td>2017-01-13</td>\n",
       "      <td>Brisbane Cricket Ground, Woolloongabba</td>\n",
       "      <td>1</td>\n",
       "      <td>0.3</td>\n",
       "      <td>Australia</td>\n",
       "      <td>Pakistan</td>\n",
       "      <td>DA Warner</td>\n",
       "      <td>TM Head</td>\n",
       "      <td>...</td>\n",
       "      <td>0</td>\n",
       "      <td>NaN</td>\n",
       "      <td>NaN</td>\n",
       "      <td>NaN</td>\n",
       "      <td>NaN</td>\n",
       "      <td>NaN</td>\n",
       "      <td>NaN</td>\n",
       "      <td>NaN</td>\n",
       "      <td>NaN</td>\n",
       "      <td>NaN</td>\n",
       "    </tr>\n",
       "    <tr>\n",
       "      <th>3</th>\n",
       "      <td>1000887</td>\n",
       "      <td>2016/17</td>\n",
       "      <td>2017-01-13</td>\n",
       "      <td>Brisbane Cricket Ground, Woolloongabba</td>\n",
       "      <td>1</td>\n",
       "      <td>0.4</td>\n",
       "      <td>Australia</td>\n",
       "      <td>Pakistan</td>\n",
       "      <td>DA Warner</td>\n",
       "      <td>TM Head</td>\n",
       "      <td>...</td>\n",
       "      <td>0</td>\n",
       "      <td>NaN</td>\n",
       "      <td>NaN</td>\n",
       "      <td>NaN</td>\n",
       "      <td>NaN</td>\n",
       "      <td>NaN</td>\n",
       "      <td>NaN</td>\n",
       "      <td>NaN</td>\n",
       "      <td>NaN</td>\n",
       "      <td>NaN</td>\n",
       "    </tr>\n",
       "    <tr>\n",
       "      <th>4</th>\n",
       "      <td>1000887</td>\n",
       "      <td>2016/17</td>\n",
       "      <td>2017-01-13</td>\n",
       "      <td>Brisbane Cricket Ground, Woolloongabba</td>\n",
       "      <td>1</td>\n",
       "      <td>0.5</td>\n",
       "      <td>Australia</td>\n",
       "      <td>Pakistan</td>\n",
       "      <td>DA Warner</td>\n",
       "      <td>TM Head</td>\n",
       "      <td>...</td>\n",
       "      <td>1</td>\n",
       "      <td>1.0</td>\n",
       "      <td>NaN</td>\n",
       "      <td>NaN</td>\n",
       "      <td>NaN</td>\n",
       "      <td>NaN</td>\n",
       "      <td>NaN</td>\n",
       "      <td>NaN</td>\n",
       "      <td>NaN</td>\n",
       "      <td>NaN</td>\n",
       "    </tr>\n",
       "  </tbody>\n",
       "</table>\n",
       "<p>5 rows × 22 columns</p>\n",
       "</div>"
      ],
      "text/plain": [
       "   match_id   season  start_date                                   venue  \\\n",
       "0   1000887  2016/17  2017-01-13  Brisbane Cricket Ground, Woolloongabba   \n",
       "1   1000887  2016/17  2017-01-13  Brisbane Cricket Ground, Woolloongabba   \n",
       "2   1000887  2016/17  2017-01-13  Brisbane Cricket Ground, Woolloongabba   \n",
       "3   1000887  2016/17  2017-01-13  Brisbane Cricket Ground, Woolloongabba   \n",
       "4   1000887  2016/17  2017-01-13  Brisbane Cricket Ground, Woolloongabba   \n",
       "\n",
       "   innings  ball batting_team bowling_team    striker non_striker  \\\n",
       "0        1   0.1    Australia     Pakistan  DA Warner     TM Head   \n",
       "1        1   0.2    Australia     Pakistan  DA Warner     TM Head   \n",
       "2        1   0.3    Australia     Pakistan  DA Warner     TM Head   \n",
       "3        1   0.4    Australia     Pakistan  DA Warner     TM Head   \n",
       "4        1   0.5    Australia     Pakistan  DA Warner     TM Head   \n",
       "\n",
       "           ...           extras  wides  noballs  byes  legbyes  penalty  \\\n",
       "0          ...                0    NaN      NaN   NaN      NaN      NaN   \n",
       "1          ...                0    NaN      NaN   NaN      NaN      NaN   \n",
       "2          ...                0    NaN      NaN   NaN      NaN      NaN   \n",
       "3          ...                0    NaN      NaN   NaN      NaN      NaN   \n",
       "4          ...                1    1.0      NaN   NaN      NaN      NaN   \n",
       "\n",
       "   wicket_type  player_dismissed other_wicket_type other_player_dismissed  \n",
       "0          NaN               NaN               NaN                    NaN  \n",
       "1          NaN               NaN               NaN                    NaN  \n",
       "2          NaN               NaN               NaN                    NaN  \n",
       "3          NaN               NaN               NaN                    NaN  \n",
       "4          NaN               NaN               NaN                    NaN  \n",
       "\n",
       "[5 rows x 22 columns]"
      ]
     },
     "execution_count": 5,
     "metadata": {},
     "output_type": "execute_result"
    }
   ],
   "source": [
    "df.head()"
   ]
  },
  {
   "cell_type": "code",
   "execution_count": 6,
   "metadata": {
    "collapsed": false
   },
   "outputs": [
    {
     "data": {
      "text/plain": [
       "array(['2016/17', 2016, 2017, '2017/18', 2018, '2018/19', 2019, '2019/20',\n",
       "       2020, '2020/21', 2021, '2021/22', 2005, '2005/06', 2006, '2006/07',\n",
       "       2007, '2007/08', 2008, '2008/09', 2009, '2009/10', 2010, '2010/11',\n",
       "       2011, '2011/12', 2012, '2012/13', 2013, '2013/14', '2003/04', 2004,\n",
       "       '2004/05', '2014/15', 2014, 2015, '2015/16'], dtype=object)"
      ]
     },
     "execution_count": 6,
     "metadata": {},
     "output_type": "execute_result"
    }
   ],
   "source": [
    "df.season.unique()"
   ]
  },
  {
   "cell_type": "code",
   "execution_count": 7,
   "metadata": {
    "collapsed": false
   },
   "outputs": [
    {
     "data": {
      "text/plain": [
       "array(['Australia', 'Pakistan', 'New Zealand', 'Afghanistan', 'Scotland',\n",
       "       'Hong Kong', 'Zimbabwe', 'India', 'Bangladesh', 'South Africa',\n",
       "       'England', 'Sri Lanka', 'Papua New Guinea', 'West Indies',\n",
       "       'Ireland', 'United Arab Emirates', 'Nepal',\n",
       "       'United States of America', 'Namibia', 'Oman', 'Netherlands',\n",
       "       'Africa XI', 'Asia XI', 'ICC World XI', 'Bermuda', 'Canada', 'Kenya'], dtype=object)"
      ]
     },
     "execution_count": 7,
     "metadata": {},
     "output_type": "execute_result"
    }
   ],
   "source": [
    "df.batting_team.unique()"
   ]
  },
  {
   "cell_type": "code",
   "execution_count": 8,
   "metadata": {
    "collapsed": false
   },
   "outputs": [
    {
     "data": {
      "text/plain": [
       "421"
      ]
     },
     "execution_count": 8,
     "metadata": {},
     "output_type": "execute_result"
    }
   ],
   "source": [
    "#matches by country\n",
    "len(df[df.batting_team == 'India'].match_id.unique())"
   ]
  },
  {
   "cell_type": "markdown",
   "metadata": {},
   "source": [
    "## Check for duplicates"
   ]
  },
  {
   "cell_type": "code",
   "execution_count": 9,
   "metadata": {
    "collapsed": false
   },
   "outputs": [
    {
     "data": {
      "text/plain": [
       "9"
      ]
     },
     "execution_count": 9,
     "metadata": {},
     "output_type": "execute_result"
    }
   ],
   "source": [
    "len(df)-len(df.drop_duplicates())"
   ]
  },
  {
   "cell_type": "markdown",
   "metadata": {},
   "source": [
    "## Correcting duplicates"
   ]
  },
  {
   "cell_type": "code",
   "execution_count": 10,
   "metadata": {
    "collapsed": true
   },
   "outputs": [],
   "source": [
    "df = df.drop_duplicates(keep = 'first')"
   ]
  },
  {
   "cell_type": "code",
   "execution_count": 11,
   "metadata": {
    "collapsed": false
   },
   "outputs": [
    {
     "data": {
      "text/plain": [
       "0"
      ]
     },
     "execution_count": 11,
     "metadata": {},
     "output_type": "execute_result"
    }
   ],
   "source": [
    "len(df)-len(df.drop_duplicates())"
   ]
  },
  {
   "cell_type": "markdown",
   "metadata": {},
   "source": [
    "## Sort by dates"
   ]
  },
  {
   "cell_type": "code",
   "execution_count": 12,
   "metadata": {
    "collapsed": true
   },
   "outputs": [],
   "source": [
    "df['start_date'] = pd.to_datetime(df['start_date'])"
   ]
  },
  {
   "cell_type": "code",
   "execution_count": 13,
   "metadata": {
    "collapsed": true
   },
   "outputs": [],
   "source": [
    "df = df.sort_values('start_date', ascending = True)"
   ]
  },
  {
   "cell_type": "markdown",
   "metadata": {},
   "source": [
    "## Check after sorting"
   ]
  },
  {
   "cell_type": "code",
   "execution_count": 14,
   "metadata": {
    "collapsed": false
   },
   "outputs": [
    {
     "data": {
      "text/html": [
       "<div>\n",
       "<table border=\"1\" class=\"dataframe\">\n",
       "  <thead>\n",
       "    <tr style=\"text-align: right;\">\n",
       "      <th></th>\n",
       "      <th>match_id</th>\n",
       "      <th>season</th>\n",
       "      <th>start_date</th>\n",
       "      <th>venue</th>\n",
       "      <th>innings</th>\n",
       "      <th>ball</th>\n",
       "      <th>batting_team</th>\n",
       "      <th>bowling_team</th>\n",
       "      <th>striker</th>\n",
       "      <th>non_striker</th>\n",
       "      <th>...</th>\n",
       "      <th>extras</th>\n",
       "      <th>wides</th>\n",
       "      <th>noballs</th>\n",
       "      <th>byes</th>\n",
       "      <th>legbyes</th>\n",
       "      <th>penalty</th>\n",
       "      <th>wicket_type</th>\n",
       "      <th>player_dismissed</th>\n",
       "      <th>other_wicket_type</th>\n",
       "      <th>other_player_dismissed</th>\n",
       "    </tr>\n",
       "  </thead>\n",
       "  <tbody>\n",
       "    <tr>\n",
       "      <th>279</th>\n",
       "      <td>64857</td>\n",
       "      <td>2003/04</td>\n",
       "      <td>2004-01-03</td>\n",
       "      <td>Eden Park</td>\n",
       "      <td>1</td>\n",
       "      <td>46.1</td>\n",
       "      <td>Pakistan</td>\n",
       "      <td>New Zealand</td>\n",
       "      <td>Abdul Razzaq</td>\n",
       "      <td>Moin Khan</td>\n",
       "      <td>...</td>\n",
       "      <td>0</td>\n",
       "      <td>NaN</td>\n",
       "      <td>NaN</td>\n",
       "      <td>NaN</td>\n",
       "      <td>NaN</td>\n",
       "      <td>NaN</td>\n",
       "      <td>NaN</td>\n",
       "      <td>NaN</td>\n",
       "      <td>NaN</td>\n",
       "      <td>NaN</td>\n",
       "    </tr>\n",
       "    <tr>\n",
       "      <th>29</th>\n",
       "      <td>64857</td>\n",
       "      <td>2003/04</td>\n",
       "      <td>2004-01-03</td>\n",
       "      <td>Eden Park</td>\n",
       "      <td>1</td>\n",
       "      <td>4.6</td>\n",
       "      <td>Pakistan</td>\n",
       "      <td>New Zealand</td>\n",
       "      <td>Yasir Hameed</td>\n",
       "      <td>Imran Farhat</td>\n",
       "      <td>...</td>\n",
       "      <td>0</td>\n",
       "      <td>NaN</td>\n",
       "      <td>NaN</td>\n",
       "      <td>NaN</td>\n",
       "      <td>NaN</td>\n",
       "      <td>NaN</td>\n",
       "      <td>NaN</td>\n",
       "      <td>NaN</td>\n",
       "      <td>NaN</td>\n",
       "      <td>NaN</td>\n",
       "    </tr>\n",
       "    <tr>\n",
       "      <th>30</th>\n",
       "      <td>64857</td>\n",
       "      <td>2003/04</td>\n",
       "      <td>2004-01-03</td>\n",
       "      <td>Eden Park</td>\n",
       "      <td>1</td>\n",
       "      <td>5.1</td>\n",
       "      <td>Pakistan</td>\n",
       "      <td>New Zealand</td>\n",
       "      <td>Imran Farhat</td>\n",
       "      <td>Yasir Hameed</td>\n",
       "      <td>...</td>\n",
       "      <td>0</td>\n",
       "      <td>NaN</td>\n",
       "      <td>NaN</td>\n",
       "      <td>NaN</td>\n",
       "      <td>NaN</td>\n",
       "      <td>NaN</td>\n",
       "      <td>NaN</td>\n",
       "      <td>NaN</td>\n",
       "      <td>NaN</td>\n",
       "      <td>NaN</td>\n",
       "    </tr>\n",
       "    <tr>\n",
       "      <th>31</th>\n",
       "      <td>64857</td>\n",
       "      <td>2003/04</td>\n",
       "      <td>2004-01-03</td>\n",
       "      <td>Eden Park</td>\n",
       "      <td>1</td>\n",
       "      <td>5.2</td>\n",
       "      <td>Pakistan</td>\n",
       "      <td>New Zealand</td>\n",
       "      <td>Imran Farhat</td>\n",
       "      <td>Yasir Hameed</td>\n",
       "      <td>...</td>\n",
       "      <td>0</td>\n",
       "      <td>NaN</td>\n",
       "      <td>NaN</td>\n",
       "      <td>NaN</td>\n",
       "      <td>NaN</td>\n",
       "      <td>NaN</td>\n",
       "      <td>NaN</td>\n",
       "      <td>NaN</td>\n",
       "      <td>NaN</td>\n",
       "      <td>NaN</td>\n",
       "    </tr>\n",
       "    <tr>\n",
       "      <th>32</th>\n",
       "      <td>64857</td>\n",
       "      <td>2003/04</td>\n",
       "      <td>2004-01-03</td>\n",
       "      <td>Eden Park</td>\n",
       "      <td>1</td>\n",
       "      <td>5.3</td>\n",
       "      <td>Pakistan</td>\n",
       "      <td>New Zealand</td>\n",
       "      <td>Imran Farhat</td>\n",
       "      <td>Yasir Hameed</td>\n",
       "      <td>...</td>\n",
       "      <td>0</td>\n",
       "      <td>NaN</td>\n",
       "      <td>NaN</td>\n",
       "      <td>NaN</td>\n",
       "      <td>NaN</td>\n",
       "      <td>NaN</td>\n",
       "      <td>NaN</td>\n",
       "      <td>NaN</td>\n",
       "      <td>NaN</td>\n",
       "      <td>NaN</td>\n",
       "    </tr>\n",
       "  </tbody>\n",
       "</table>\n",
       "<p>5 rows × 22 columns</p>\n",
       "</div>"
      ],
      "text/plain": [
       "     match_id   season start_date      venue  innings  ball batting_team  \\\n",
       "279     64857  2003/04 2004-01-03  Eden Park        1  46.1     Pakistan   \n",
       "29      64857  2003/04 2004-01-03  Eden Park        1   4.6     Pakistan   \n",
       "30      64857  2003/04 2004-01-03  Eden Park        1   5.1     Pakistan   \n",
       "31      64857  2003/04 2004-01-03  Eden Park        1   5.2     Pakistan   \n",
       "32      64857  2003/04 2004-01-03  Eden Park        1   5.3     Pakistan   \n",
       "\n",
       "    bowling_team       striker   non_striker          ...           extras  \\\n",
       "279  New Zealand  Abdul Razzaq     Moin Khan          ...                0   \n",
       "29   New Zealand  Yasir Hameed  Imran Farhat          ...                0   \n",
       "30   New Zealand  Imran Farhat  Yasir Hameed          ...                0   \n",
       "31   New Zealand  Imran Farhat  Yasir Hameed          ...                0   \n",
       "32   New Zealand  Imran Farhat  Yasir Hameed          ...                0   \n",
       "\n",
       "     wides  noballs  byes  legbyes  penalty  wicket_type  player_dismissed  \\\n",
       "279    NaN      NaN   NaN      NaN      NaN          NaN               NaN   \n",
       "29     NaN      NaN   NaN      NaN      NaN          NaN               NaN   \n",
       "30     NaN      NaN   NaN      NaN      NaN          NaN               NaN   \n",
       "31     NaN      NaN   NaN      NaN      NaN          NaN               NaN   \n",
       "32     NaN      NaN   NaN      NaN      NaN          NaN               NaN   \n",
       "\n",
       "    other_wicket_type other_player_dismissed  \n",
       "279               NaN                    NaN  \n",
       "29                NaN                    NaN  \n",
       "30                NaN                    NaN  \n",
       "31                NaN                    NaN  \n",
       "32                NaN                    NaN  \n",
       "\n",
       "[5 rows x 22 columns]"
      ]
     },
     "execution_count": 14,
     "metadata": {},
     "output_type": "execute_result"
    }
   ],
   "source": [
    "df.head()"
   ]
  },
  {
   "cell_type": "code",
   "execution_count": 15,
   "metadata": {
    "collapsed": false
   },
   "outputs": [
    {
     "data": {
      "text/html": [
       "<div>\n",
       "<table border=\"1\" class=\"dataframe\">\n",
       "  <thead>\n",
       "    <tr style=\"text-align: right;\">\n",
       "      <th></th>\n",
       "      <th>match_id</th>\n",
       "      <th>season</th>\n",
       "      <th>start_date</th>\n",
       "      <th>venue</th>\n",
       "      <th>innings</th>\n",
       "      <th>ball</th>\n",
       "      <th>batting_team</th>\n",
       "      <th>bowling_team</th>\n",
       "      <th>striker</th>\n",
       "      <th>non_striker</th>\n",
       "      <th>...</th>\n",
       "      <th>extras</th>\n",
       "      <th>wides</th>\n",
       "      <th>noballs</th>\n",
       "      <th>byes</th>\n",
       "      <th>legbyes</th>\n",
       "      <th>penalty</th>\n",
       "      <th>wicket_type</th>\n",
       "      <th>player_dismissed</th>\n",
       "      <th>other_wicket_type</th>\n",
       "      <th>other_player_dismissed</th>\n",
       "    </tr>\n",
       "  </thead>\n",
       "  <tbody>\n",
       "    <tr>\n",
       "      <th>192</th>\n",
       "      <td>1295183</td>\n",
       "      <td>2021/22</td>\n",
       "      <td>2022-01-25</td>\n",
       "      <td>West End Park International Cricket Stadium, Doha</td>\n",
       "      <td>1</td>\n",
       "      <td>31.1</td>\n",
       "      <td>Afghanistan</td>\n",
       "      <td>Netherlands</td>\n",
       "      <td>Rahmat Shah</td>\n",
       "      <td>Hashmatullah Shahidi</td>\n",
       "      <td>...</td>\n",
       "      <td>0</td>\n",
       "      <td>NaN</td>\n",
       "      <td>NaN</td>\n",
       "      <td>NaN</td>\n",
       "      <td>NaN</td>\n",
       "      <td>NaN</td>\n",
       "      <td>NaN</td>\n",
       "      <td>NaN</td>\n",
       "      <td>NaN</td>\n",
       "      <td>NaN</td>\n",
       "    </tr>\n",
       "    <tr>\n",
       "      <th>193</th>\n",
       "      <td>1295183</td>\n",
       "      <td>2021/22</td>\n",
       "      <td>2022-01-25</td>\n",
       "      <td>West End Park International Cricket Stadium, Doha</td>\n",
       "      <td>1</td>\n",
       "      <td>31.2</td>\n",
       "      <td>Afghanistan</td>\n",
       "      <td>Netherlands</td>\n",
       "      <td>Hashmatullah Shahidi</td>\n",
       "      <td>Rahmat Shah</td>\n",
       "      <td>...</td>\n",
       "      <td>0</td>\n",
       "      <td>NaN</td>\n",
       "      <td>NaN</td>\n",
       "      <td>NaN</td>\n",
       "      <td>NaN</td>\n",
       "      <td>NaN</td>\n",
       "      <td>NaN</td>\n",
       "      <td>NaN</td>\n",
       "      <td>NaN</td>\n",
       "      <td>NaN</td>\n",
       "    </tr>\n",
       "    <tr>\n",
       "      <th>194</th>\n",
       "      <td>1295183</td>\n",
       "      <td>2021/22</td>\n",
       "      <td>2022-01-25</td>\n",
       "      <td>West End Park International Cricket Stadium, Doha</td>\n",
       "      <td>1</td>\n",
       "      <td>31.3</td>\n",
       "      <td>Afghanistan</td>\n",
       "      <td>Netherlands</td>\n",
       "      <td>Rahmat Shah</td>\n",
       "      <td>Hashmatullah Shahidi</td>\n",
       "      <td>...</td>\n",
       "      <td>0</td>\n",
       "      <td>NaN</td>\n",
       "      <td>NaN</td>\n",
       "      <td>NaN</td>\n",
       "      <td>NaN</td>\n",
       "      <td>NaN</td>\n",
       "      <td>NaN</td>\n",
       "      <td>NaN</td>\n",
       "      <td>NaN</td>\n",
       "      <td>NaN</td>\n",
       "    </tr>\n",
       "    <tr>\n",
       "      <th>188</th>\n",
       "      <td>1295183</td>\n",
       "      <td>2021/22</td>\n",
       "      <td>2022-01-25</td>\n",
       "      <td>West End Park International Cricket Stadium, Doha</td>\n",
       "      <td>1</td>\n",
       "      <td>30.3</td>\n",
       "      <td>Afghanistan</td>\n",
       "      <td>Netherlands</td>\n",
       "      <td>Hashmatullah Shahidi</td>\n",
       "      <td>Rahmat Shah</td>\n",
       "      <td>...</td>\n",
       "      <td>0</td>\n",
       "      <td>NaN</td>\n",
       "      <td>NaN</td>\n",
       "      <td>NaN</td>\n",
       "      <td>NaN</td>\n",
       "      <td>NaN</td>\n",
       "      <td>NaN</td>\n",
       "      <td>NaN</td>\n",
       "      <td>NaN</td>\n",
       "      <td>NaN</td>\n",
       "    </tr>\n",
       "    <tr>\n",
       "      <th>572</th>\n",
       "      <td>1295183</td>\n",
       "      <td>2021/22</td>\n",
       "      <td>2022-01-25</td>\n",
       "      <td>West End Park International Cricket Stadium, Doha</td>\n",
       "      <td>2</td>\n",
       "      <td>42.4</td>\n",
       "      <td>Netherlands</td>\n",
       "      <td>Afghanistan</td>\n",
       "      <td>VJ Kingma</td>\n",
       "      <td>BD Glover</td>\n",
       "      <td>...</td>\n",
       "      <td>0</td>\n",
       "      <td>NaN</td>\n",
       "      <td>NaN</td>\n",
       "      <td>NaN</td>\n",
       "      <td>NaN</td>\n",
       "      <td>NaN</td>\n",
       "      <td>lbw</td>\n",
       "      <td>VJ Kingma</td>\n",
       "      <td>NaN</td>\n",
       "      <td>NaN</td>\n",
       "    </tr>\n",
       "  </tbody>\n",
       "</table>\n",
       "<p>5 rows × 22 columns</p>\n",
       "</div>"
      ],
      "text/plain": [
       "     match_id   season start_date  \\\n",
       "192   1295183  2021/22 2022-01-25   \n",
       "193   1295183  2021/22 2022-01-25   \n",
       "194   1295183  2021/22 2022-01-25   \n",
       "188   1295183  2021/22 2022-01-25   \n",
       "572   1295183  2021/22 2022-01-25   \n",
       "\n",
       "                                                 venue  innings  ball  \\\n",
       "192  West End Park International Cricket Stadium, Doha        1  31.1   \n",
       "193  West End Park International Cricket Stadium, Doha        1  31.2   \n",
       "194  West End Park International Cricket Stadium, Doha        1  31.3   \n",
       "188  West End Park International Cricket Stadium, Doha        1  30.3   \n",
       "572  West End Park International Cricket Stadium, Doha        2  42.4   \n",
       "\n",
       "    batting_team bowling_team               striker           non_striker  \\\n",
       "192  Afghanistan  Netherlands           Rahmat Shah  Hashmatullah Shahidi   \n",
       "193  Afghanistan  Netherlands  Hashmatullah Shahidi           Rahmat Shah   \n",
       "194  Afghanistan  Netherlands           Rahmat Shah  Hashmatullah Shahidi   \n",
       "188  Afghanistan  Netherlands  Hashmatullah Shahidi           Rahmat Shah   \n",
       "572  Netherlands  Afghanistan             VJ Kingma             BD Glover   \n",
       "\n",
       "             ...           extras  wides  noballs  byes  legbyes  penalty  \\\n",
       "192          ...                0    NaN      NaN   NaN      NaN      NaN   \n",
       "193          ...                0    NaN      NaN   NaN      NaN      NaN   \n",
       "194          ...                0    NaN      NaN   NaN      NaN      NaN   \n",
       "188          ...                0    NaN      NaN   NaN      NaN      NaN   \n",
       "572          ...                0    NaN      NaN   NaN      NaN      NaN   \n",
       "\n",
       "     wicket_type  player_dismissed other_wicket_type other_player_dismissed  \n",
       "192          NaN               NaN               NaN                    NaN  \n",
       "193          NaN               NaN               NaN                    NaN  \n",
       "194          NaN               NaN               NaN                    NaN  \n",
       "188          NaN               NaN               NaN                    NaN  \n",
       "572          lbw         VJ Kingma               NaN                    NaN  \n",
       "\n",
       "[5 rows x 22 columns]"
      ]
     },
     "execution_count": 15,
     "metadata": {},
     "output_type": "execute_result"
    }
   ],
   "source": [
    "df.tail()"
   ]
  },
  {
   "cell_type": "code",
   "execution_count": 16,
   "metadata": {
    "collapsed": false
   },
   "outputs": [
    {
     "data": {
      "text/plain": [
       "1043681"
      ]
     },
     "execution_count": 16,
     "metadata": {},
     "output_type": "execute_result"
    }
   ],
   "source": [
    "len(df)"
   ]
  },
  {
   "cell_type": "markdown",
   "metadata": {},
   "source": [
    "## Export to single CSV"
   ]
  },
  {
   "cell_type": "code",
   "execution_count": 17,
   "metadata": {
    "collapsed": true
   },
   "outputs": [],
   "source": [
    "df.to_csv('ODIs_ball_by_ball.csv', index = False)"
   ]
  },
  {
   "cell_type": "code",
   "execution_count": null,
   "metadata": {
    "collapsed": true
   },
   "outputs": [],
   "source": []
  }
 ],
 "metadata": {
  "kernelspec": {
   "display_name": "Python [Root]",
   "language": "python",
   "name": "Python [Root]"
  },
  "language_info": {
   "codemirror_mode": {
    "name": "ipython",
    "version": 3
   },
   "file_extension": ".py",
   "mimetype": "text/x-python",
   "name": "python",
   "nbconvert_exporter": "python",
   "pygments_lexer": "ipython3",
   "version": "3.5.2"
  }
 },
 "nbformat": 4,
 "nbformat_minor": 2
}
