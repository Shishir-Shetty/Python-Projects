{
 "cells": [
  {
   "cell_type": "markdown",
   "metadata": {},
   "source": [
    "## Imports"
   ]
  },
  {
   "cell_type": "code",
   "execution_count": 1,
   "metadata": {
    "collapsed": true
   },
   "outputs": [],
   "source": [
    "import pandas as pd\n",
    "import glob"
   ]
  },
  {
   "cell_type": "code",
   "execution_count": 2,
   "metadata": {
    "collapsed": true
   },
   "outputs": [],
   "source": [
    "#importing multiple files in a directory\n",
    "l = [pd.read_csv(filename) for filename in glob.glob(\"bbl_csv2\\*.csv\")]\n",
    "df = pd.concat(l, axis = 0)"
   ]
  },
  {
   "cell_type": "markdown",
   "metadata": {},
   "source": [
    "## Check for duplicates & errors"
   ]
  },
  {
   "cell_type": "code",
   "execution_count": 3,
   "metadata": {
    "collapsed": false
   },
   "outputs": [
    {
     "data": {
      "text/plain": [
       "array(['2016/17', '2017/18', '2018/19', '2019/20', '2020/21', '2011/12',\n",
       "       '2012/13', '2013/14', '2014/15', '2015/16'], dtype=object)"
      ]
     },
     "execution_count": 3,
     "metadata": {},
     "output_type": "execute_result"
    }
   ],
   "source": [
    "df.season.unique()"
   ]
  },
  {
   "cell_type": "code",
   "execution_count": 4,
   "metadata": {
    "collapsed": false
   },
   "outputs": [
    {
     "data": {
      "text/plain": [
       "95869"
      ]
     },
     "execution_count": 4,
     "metadata": {},
     "output_type": "execute_result"
    }
   ],
   "source": [
    "len(df)-len(df.drop_duplicates())"
   ]
  },
  {
   "cell_type": "markdown",
   "metadata": {},
   "source": [
    "## Correcting the errors"
   ]
  },
  {
   "cell_type": "code",
   "execution_count": 5,
   "metadata": {
    "collapsed": false
   },
   "outputs": [
    {
     "data": {
      "text/html": [
       "<div>\n",
       "<style scoped>\n",
       "    .dataframe tbody tr th:only-of-type {\n",
       "        vertical-align: middle;\n",
       "    }\n",
       "\n",
       "    .dataframe tbody tr th {\n",
       "        vertical-align: top;\n",
       "    }\n",
       "\n",
       "    .dataframe thead th {\n",
       "        text-align: right;\n",
       "    }\n",
       "</style>\n",
       "<table border=\"1\" class=\"dataframe\">\n",
       "  <thead>\n",
       "    <tr style=\"text-align: right;\">\n",
       "      <th></th>\n",
       "      <th>match_id</th>\n",
       "      <th>season</th>\n",
       "      <th>start_date</th>\n",
       "      <th>venue</th>\n",
       "      <th>innings</th>\n",
       "      <th>ball</th>\n",
       "      <th>batting_team</th>\n",
       "      <th>bowling_team</th>\n",
       "      <th>striker</th>\n",
       "      <th>non_striker</th>\n",
       "      <th>...</th>\n",
       "      <th>extras</th>\n",
       "      <th>wides</th>\n",
       "      <th>noballs</th>\n",
       "      <th>byes</th>\n",
       "      <th>legbyes</th>\n",
       "      <th>penalty</th>\n",
       "      <th>wicket_type</th>\n",
       "      <th>player_dismissed</th>\n",
       "      <th>other_wicket_type</th>\n",
       "      <th>other_player_dismissed</th>\n",
       "    </tr>\n",
       "  </thead>\n",
       "  <tbody>\n",
       "    <tr>\n",
       "      <th>0</th>\n",
       "      <td>1023581</td>\n",
       "      <td>2016/17</td>\n",
       "      <td>2016-12-20</td>\n",
       "      <td>Sydney Showground Stadium</td>\n",
       "      <td>1</td>\n",
       "      <td>0.1</td>\n",
       "      <td>Sydney Thunder</td>\n",
       "      <td>Sydney Sixers</td>\n",
       "      <td>KR Patterson</td>\n",
       "      <td>RJ Gibson</td>\n",
       "      <td>...</td>\n",
       "      <td>0</td>\n",
       "      <td>NaN</td>\n",
       "      <td>NaN</td>\n",
       "      <td>NaN</td>\n",
       "      <td>NaN</td>\n",
       "      <td>NaN</td>\n",
       "      <td>NaN</td>\n",
       "      <td>NaN</td>\n",
       "      <td>NaN</td>\n",
       "      <td>NaN</td>\n",
       "    </tr>\n",
       "    <tr>\n",
       "      <th>1</th>\n",
       "      <td>1023581</td>\n",
       "      <td>2016/17</td>\n",
       "      <td>2016-12-20</td>\n",
       "      <td>Sydney Showground Stadium</td>\n",
       "      <td>1</td>\n",
       "      <td>0.2</td>\n",
       "      <td>Sydney Thunder</td>\n",
       "      <td>Sydney Sixers</td>\n",
       "      <td>KR Patterson</td>\n",
       "      <td>RJ Gibson</td>\n",
       "      <td>...</td>\n",
       "      <td>0</td>\n",
       "      <td>NaN</td>\n",
       "      <td>NaN</td>\n",
       "      <td>NaN</td>\n",
       "      <td>NaN</td>\n",
       "      <td>NaN</td>\n",
       "      <td>NaN</td>\n",
       "      <td>NaN</td>\n",
       "      <td>NaN</td>\n",
       "      <td>NaN</td>\n",
       "    </tr>\n",
       "    <tr>\n",
       "      <th>2</th>\n",
       "      <td>1023581</td>\n",
       "      <td>2016/17</td>\n",
       "      <td>2016-12-20</td>\n",
       "      <td>Sydney Showground Stadium</td>\n",
       "      <td>1</td>\n",
       "      <td>0.3</td>\n",
       "      <td>Sydney Thunder</td>\n",
       "      <td>Sydney Sixers</td>\n",
       "      <td>KR Patterson</td>\n",
       "      <td>RJ Gibson</td>\n",
       "      <td>...</td>\n",
       "      <td>0</td>\n",
       "      <td>NaN</td>\n",
       "      <td>NaN</td>\n",
       "      <td>NaN</td>\n",
       "      <td>NaN</td>\n",
       "      <td>NaN</td>\n",
       "      <td>NaN</td>\n",
       "      <td>NaN</td>\n",
       "      <td>NaN</td>\n",
       "      <td>NaN</td>\n",
       "    </tr>\n",
       "    <tr>\n",
       "      <th>3</th>\n",
       "      <td>1023581</td>\n",
       "      <td>2016/17</td>\n",
       "      <td>2016-12-20</td>\n",
       "      <td>Sydney Showground Stadium</td>\n",
       "      <td>1</td>\n",
       "      <td>0.4</td>\n",
       "      <td>Sydney Thunder</td>\n",
       "      <td>Sydney Sixers</td>\n",
       "      <td>KR Patterson</td>\n",
       "      <td>RJ Gibson</td>\n",
       "      <td>...</td>\n",
       "      <td>0</td>\n",
       "      <td>NaN</td>\n",
       "      <td>NaN</td>\n",
       "      <td>NaN</td>\n",
       "      <td>NaN</td>\n",
       "      <td>NaN</td>\n",
       "      <td>NaN</td>\n",
       "      <td>NaN</td>\n",
       "      <td>NaN</td>\n",
       "      <td>NaN</td>\n",
       "    </tr>\n",
       "    <tr>\n",
       "      <th>4</th>\n",
       "      <td>1023581</td>\n",
       "      <td>2016/17</td>\n",
       "      <td>2016-12-20</td>\n",
       "      <td>Sydney Showground Stadium</td>\n",
       "      <td>1</td>\n",
       "      <td>0.5</td>\n",
       "      <td>Sydney Thunder</td>\n",
       "      <td>Sydney Sixers</td>\n",
       "      <td>KR Patterson</td>\n",
       "      <td>RJ Gibson</td>\n",
       "      <td>...</td>\n",
       "      <td>0</td>\n",
       "      <td>NaN</td>\n",
       "      <td>NaN</td>\n",
       "      <td>NaN</td>\n",
       "      <td>NaN</td>\n",
       "      <td>NaN</td>\n",
       "      <td>NaN</td>\n",
       "      <td>NaN</td>\n",
       "      <td>NaN</td>\n",
       "      <td>NaN</td>\n",
       "    </tr>\n",
       "  </tbody>\n",
       "</table>\n",
       "<p>5 rows × 22 columns</p>\n",
       "</div>"
      ],
      "text/plain": [
       "   match_id   season  start_date                      venue  innings  ball  \\\n",
       "0   1023581  2016/17  2016-12-20  Sydney Showground Stadium        1   0.1   \n",
       "1   1023581  2016/17  2016-12-20  Sydney Showground Stadium        1   0.2   \n",
       "2   1023581  2016/17  2016-12-20  Sydney Showground Stadium        1   0.3   \n",
       "3   1023581  2016/17  2016-12-20  Sydney Showground Stadium        1   0.4   \n",
       "4   1023581  2016/17  2016-12-20  Sydney Showground Stadium        1   0.5   \n",
       "\n",
       "     batting_team   bowling_team       striker non_striker  ... extras  wides  \\\n",
       "0  Sydney Thunder  Sydney Sixers  KR Patterson   RJ Gibson  ...      0    NaN   \n",
       "1  Sydney Thunder  Sydney Sixers  KR Patterson   RJ Gibson  ...      0    NaN   \n",
       "2  Sydney Thunder  Sydney Sixers  KR Patterson   RJ Gibson  ...      0    NaN   \n",
       "3  Sydney Thunder  Sydney Sixers  KR Patterson   RJ Gibson  ...      0    NaN   \n",
       "4  Sydney Thunder  Sydney Sixers  KR Patterson   RJ Gibson  ...      0    NaN   \n",
       "\n",
       "   noballs  byes  legbyes  penalty  wicket_type  player_dismissed  \\\n",
       "0      NaN   NaN      NaN      NaN          NaN               NaN   \n",
       "1      NaN   NaN      NaN      NaN          NaN               NaN   \n",
       "2      NaN   NaN      NaN      NaN          NaN               NaN   \n",
       "3      NaN   NaN      NaN      NaN          NaN               NaN   \n",
       "4      NaN   NaN      NaN      NaN          NaN               NaN   \n",
       "\n",
       "  other_wicket_type other_player_dismissed  \n",
       "0               NaN                    NaN  \n",
       "1               NaN                    NaN  \n",
       "2               NaN                    NaN  \n",
       "3               NaN                    NaN  \n",
       "4               NaN                    NaN  \n",
       "\n",
       "[5 rows x 22 columns]"
      ]
     },
     "execution_count": 5,
     "metadata": {},
     "output_type": "execute_result"
    }
   ],
   "source": [
    "df.head()"
   ]
  },
  {
   "cell_type": "code",
   "execution_count": 6,
   "metadata": {
    "collapsed": true
   },
   "outputs": [],
   "source": [
    "# df['season'] = df['season'].astype('int')"
   ]
  },
  {
   "cell_type": "code",
   "execution_count": 7,
   "metadata": {
    "collapsed": true
   },
   "outputs": [],
   "source": [
    "df = df.drop_duplicates(keep = 'first')"
   ]
  },
  {
   "cell_type": "code",
   "execution_count": 8,
   "metadata": {
    "collapsed": false
   },
   "outputs": [
    {
     "data": {
      "text/plain": [
       "0"
      ]
     },
     "execution_count": 8,
     "metadata": {},
     "output_type": "execute_result"
    }
   ],
   "source": [
    "len(df)-len(df.drop_duplicates())"
   ]
  },
  {
   "cell_type": "markdown",
   "metadata": {},
   "source": [
    "## Sort by datetime"
   ]
  },
  {
   "cell_type": "code",
   "execution_count": 9,
   "metadata": {
    "collapsed": true
   },
   "outputs": [],
   "source": [
    "df['start_date'] = pd.to_datetime(df['start_date'])"
   ]
  },
  {
   "cell_type": "code",
   "execution_count": 10,
   "metadata": {
    "collapsed": true
   },
   "outputs": [],
   "source": [
    "df = df.sort_values('start_date', ascending = True)"
   ]
  },
  {
   "cell_type": "code",
   "execution_count": 11,
   "metadata": {
    "collapsed": true
   },
   "outputs": [],
   "source": [
    "df.to_csv('BBL_ball_by_ball.csv', index = None)"
   ]
  },
  {
   "cell_type": "code",
   "execution_count": null,
   "metadata": {
    "collapsed": true
   },
   "outputs": [],
   "source": []
  }
 ],
 "metadata": {
  "anaconda-cloud": {},
  "kernelspec": {
   "display_name": "Python [Root]",
   "language": "python",
   "name": "Python [Root]"
  },
  "language_info": {
   "codemirror_mode": {
    "name": "ipython",
    "version": 3
   },
   "file_extension": ".py",
   "mimetype": "text/x-python",
   "name": "python",
   "nbconvert_exporter": "python",
   "pygments_lexer": "ipython3",
   "version": "3.5.2"
  }
 },
 "nbformat": 4,
 "nbformat_minor": 2
}
