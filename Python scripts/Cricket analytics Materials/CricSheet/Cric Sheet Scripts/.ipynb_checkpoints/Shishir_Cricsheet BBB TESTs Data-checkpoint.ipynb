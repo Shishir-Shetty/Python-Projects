{
 "cells": [
  {
   "cell_type": "markdown",
   "metadata": {},
   "source": [
    "## Imports"
   ]
  },
  {
   "cell_type": "code",
   "execution_count": 1,
   "metadata": {
    "collapsed": true
   },
   "outputs": [],
   "source": [
    "import pandas as pd\n",
    "import glob"
   ]
  },
  {
   "cell_type": "markdown",
   "metadata": {},
   "source": [
    "## Check for any errors"
   ]
  },
  {
   "cell_type": "code",
   "execution_count": 2,
   "metadata": {
    "collapsed": true
   },
   "outputs": [],
   "source": [
    "ls1 = glob.glob(\"Shishir_tests_csv2\\*.csv\")\n",
    "ls2 = []\n",
    "\n",
    "for i in ls1:\n",
    "    try:\n",
    "        ls2.append(pd.read_csv(i))\n",
    "    except:\n",
    "        print('error', i)"
   ]
  },
  {
   "cell_type": "markdown",
   "metadata": {},
   "source": [
    "## Combine Match by Match CSV files"
   ]
  },
  {
   "cell_type": "code",
   "execution_count": 3,
   "metadata": {
    "collapsed": true
   },
   "outputs": [],
   "source": [
    "#importing multiple files in a directory\n",
    "l = [pd.read_csv(filename) for filename in glob.glob(\"Shishir_tests_csv2\\*.csv\")]\n",
    "df = pd.concat(l, axis = 0)"
   ]
  },
  {
   "cell_type": "markdown",
   "metadata": {},
   "source": [
    "## Sneak peak"
   ]
  },
  {
   "cell_type": "code",
   "execution_count": 4,
   "metadata": {
    "collapsed": false,
    "scrolled": true
   },
   "outputs": [
    {
     "data": {
      "text/html": [
       "<div>\n",
       "<style scoped>\n",
       "    .dataframe tbody tr th:only-of-type {\n",
       "        vertical-align: middle;\n",
       "    }\n",
       "\n",
       "    .dataframe tbody tr th {\n",
       "        vertical-align: top;\n",
       "    }\n",
       "\n",
       "    .dataframe thead th {\n",
       "        text-align: right;\n",
       "    }\n",
       "</style>\n",
       "<table border=\"1\" class=\"dataframe\">\n",
       "  <thead>\n",
       "    <tr style=\"text-align: right;\">\n",
       "      <th></th>\n",
       "      <th>match_id</th>\n",
       "      <th>season</th>\n",
       "      <th>start_date</th>\n",
       "      <th>venue</th>\n",
       "      <th>innings</th>\n",
       "      <th>ball</th>\n",
       "      <th>batting_team</th>\n",
       "      <th>bowling_team</th>\n",
       "      <th>striker</th>\n",
       "      <th>non_striker</th>\n",
       "      <th>...</th>\n",
       "      <th>extras</th>\n",
       "      <th>wides</th>\n",
       "      <th>noballs</th>\n",
       "      <th>byes</th>\n",
       "      <th>legbyes</th>\n",
       "      <th>penalty</th>\n",
       "      <th>wicket_type</th>\n",
       "      <th>player_dismissed</th>\n",
       "      <th>other_wicket_type</th>\n",
       "      <th>other_player_dismissed</th>\n",
       "    </tr>\n",
       "  </thead>\n",
       "  <tbody>\n",
       "    <tr>\n",
       "      <th>0</th>\n",
       "      <td>1000851</td>\n",
       "      <td>2016/17</td>\n",
       "      <td>2016-11-03</td>\n",
       "      <td>Western Australia Cricket Association Ground</td>\n",
       "      <td>1</td>\n",
       "      <td>0.1</td>\n",
       "      <td>South Africa</td>\n",
       "      <td>Australia</td>\n",
       "      <td>SC Cook</td>\n",
       "      <td>D Elgar</td>\n",
       "      <td>...</td>\n",
       "      <td>0</td>\n",
       "      <td>NaN</td>\n",
       "      <td>NaN</td>\n",
       "      <td>NaN</td>\n",
       "      <td>NaN</td>\n",
       "      <td>NaN</td>\n",
       "      <td>NaN</td>\n",
       "      <td>NaN</td>\n",
       "      <td>NaN</td>\n",
       "      <td>NaN</td>\n",
       "    </tr>\n",
       "    <tr>\n",
       "      <th>1</th>\n",
       "      <td>1000851</td>\n",
       "      <td>2016/17</td>\n",
       "      <td>2016-11-03</td>\n",
       "      <td>Western Australia Cricket Association Ground</td>\n",
       "      <td>1</td>\n",
       "      <td>0.2</td>\n",
       "      <td>South Africa</td>\n",
       "      <td>Australia</td>\n",
       "      <td>SC Cook</td>\n",
       "      <td>D Elgar</td>\n",
       "      <td>...</td>\n",
       "      <td>0</td>\n",
       "      <td>NaN</td>\n",
       "      <td>NaN</td>\n",
       "      <td>NaN</td>\n",
       "      <td>NaN</td>\n",
       "      <td>NaN</td>\n",
       "      <td>NaN</td>\n",
       "      <td>NaN</td>\n",
       "      <td>NaN</td>\n",
       "      <td>NaN</td>\n",
       "    </tr>\n",
       "    <tr>\n",
       "      <th>2</th>\n",
       "      <td>1000851</td>\n",
       "      <td>2016/17</td>\n",
       "      <td>2016-11-03</td>\n",
       "      <td>Western Australia Cricket Association Ground</td>\n",
       "      <td>1</td>\n",
       "      <td>0.3</td>\n",
       "      <td>South Africa</td>\n",
       "      <td>Australia</td>\n",
       "      <td>SC Cook</td>\n",
       "      <td>D Elgar</td>\n",
       "      <td>...</td>\n",
       "      <td>0</td>\n",
       "      <td>NaN</td>\n",
       "      <td>NaN</td>\n",
       "      <td>NaN</td>\n",
       "      <td>NaN</td>\n",
       "      <td>NaN</td>\n",
       "      <td>NaN</td>\n",
       "      <td>NaN</td>\n",
       "      <td>NaN</td>\n",
       "      <td>NaN</td>\n",
       "    </tr>\n",
       "    <tr>\n",
       "      <th>3</th>\n",
       "      <td>1000851</td>\n",
       "      <td>2016/17</td>\n",
       "      <td>2016-11-03</td>\n",
       "      <td>Western Australia Cricket Association Ground</td>\n",
       "      <td>1</td>\n",
       "      <td>0.4</td>\n",
       "      <td>South Africa</td>\n",
       "      <td>Australia</td>\n",
       "      <td>SC Cook</td>\n",
       "      <td>D Elgar</td>\n",
       "      <td>...</td>\n",
       "      <td>0</td>\n",
       "      <td>NaN</td>\n",
       "      <td>NaN</td>\n",
       "      <td>NaN</td>\n",
       "      <td>NaN</td>\n",
       "      <td>NaN</td>\n",
       "      <td>caught</td>\n",
       "      <td>SC Cook</td>\n",
       "      <td>NaN</td>\n",
       "      <td>NaN</td>\n",
       "    </tr>\n",
       "    <tr>\n",
       "      <th>4</th>\n",
       "      <td>1000851</td>\n",
       "      <td>2016/17</td>\n",
       "      <td>2016-11-03</td>\n",
       "      <td>Western Australia Cricket Association Ground</td>\n",
       "      <td>1</td>\n",
       "      <td>0.5</td>\n",
       "      <td>South Africa</td>\n",
       "      <td>Australia</td>\n",
       "      <td>HM Amla</td>\n",
       "      <td>D Elgar</td>\n",
       "      <td>...</td>\n",
       "      <td>0</td>\n",
       "      <td>NaN</td>\n",
       "      <td>NaN</td>\n",
       "      <td>NaN</td>\n",
       "      <td>NaN</td>\n",
       "      <td>NaN</td>\n",
       "      <td>NaN</td>\n",
       "      <td>NaN</td>\n",
       "      <td>NaN</td>\n",
       "      <td>NaN</td>\n",
       "    </tr>\n",
       "  </tbody>\n",
       "</table>\n",
       "<p>5 rows × 22 columns</p>\n",
       "</div>"
      ],
      "text/plain": [
       "   match_id   season  start_date  \\\n",
       "0   1000851  2016/17  2016-11-03   \n",
       "1   1000851  2016/17  2016-11-03   \n",
       "2   1000851  2016/17  2016-11-03   \n",
       "3   1000851  2016/17  2016-11-03   \n",
       "4   1000851  2016/17  2016-11-03   \n",
       "\n",
       "                                          venue  innings  ball  batting_team  \\\n",
       "0  Western Australia Cricket Association Ground        1   0.1  South Africa   \n",
       "1  Western Australia Cricket Association Ground        1   0.2  South Africa   \n",
       "2  Western Australia Cricket Association Ground        1   0.3  South Africa   \n",
       "3  Western Australia Cricket Association Ground        1   0.4  South Africa   \n",
       "4  Western Australia Cricket Association Ground        1   0.5  South Africa   \n",
       "\n",
       "  bowling_team  striker non_striker  ... extras  wides  noballs  byes  \\\n",
       "0    Australia  SC Cook     D Elgar  ...      0    NaN      NaN   NaN   \n",
       "1    Australia  SC Cook     D Elgar  ...      0    NaN      NaN   NaN   \n",
       "2    Australia  SC Cook     D Elgar  ...      0    NaN      NaN   NaN   \n",
       "3    Australia  SC Cook     D Elgar  ...      0    NaN      NaN   NaN   \n",
       "4    Australia  HM Amla     D Elgar  ...      0    NaN      NaN   NaN   \n",
       "\n",
       "   legbyes  penalty  wicket_type  player_dismissed other_wicket_type  \\\n",
       "0      NaN      NaN          NaN               NaN               NaN   \n",
       "1      NaN      NaN          NaN               NaN               NaN   \n",
       "2      NaN      NaN          NaN               NaN               NaN   \n",
       "3      NaN      NaN       caught           SC Cook               NaN   \n",
       "4      NaN      NaN          NaN               NaN               NaN   \n",
       "\n",
       "  other_player_dismissed  \n",
       "0                    NaN  \n",
       "1                    NaN  \n",
       "2                    NaN  \n",
       "3                    NaN  \n",
       "4                    NaN  \n",
       "\n",
       "[5 rows x 22 columns]"
      ]
     },
     "execution_count": 4,
     "metadata": {},
     "output_type": "execute_result"
    }
   ],
   "source": [
    "df.head()"
   ]
  },
  {
   "cell_type": "code",
   "execution_count": 5,
   "metadata": {
    "collapsed": false
   },
   "outputs": [
    {
     "data": {
      "text/plain": [
       "array(['2016/17', 2016, 2017, '2017/18', 2018, '2018/19', 2019, '2019/20',\n",
       "       2020, '2020/21', 2021, 2005, '2005/06', 2006, '2006/07', 2007,\n",
       "       '2007/08', 2008, '2008/09', 2009, '2009/10', 2010, '2010/11', 2011,\n",
       "       '2011/12', 2012, '2012/13', 2013, '2013/14', '2003/04', 2004,\n",
       "       '2004/05', 2014, '2014/15', 2015, '2015/16'], dtype=object)"
      ]
     },
     "execution_count": 5,
     "metadata": {},
     "output_type": "execute_result"
    }
   ],
   "source": [
    "df.season.unique()"
   ]
  },
  {
   "cell_type": "code",
   "execution_count": 1,
   "metadata": {
    "collapsed": false
   },
   "outputs": [
    {
     "ename": "NameError",
     "evalue": "name 'df' is not defined",
     "output_type": "error",
     "traceback": [
      "\u001b[1;31m---------------------------------------------------------------------------\u001b[0m",
      "\u001b[1;31mNameError\u001b[0m                                 Traceback (most recent call last)",
      "\u001b[1;32m<ipython-input-1-787b813da299>\u001b[0m in \u001b[0;36m<module>\u001b[1;34m()\u001b[0m\n\u001b[1;32m----> 1\u001b[1;33m \u001b[0mdf\u001b[0m\u001b[1;33m.\u001b[0m\u001b[0mbatting_team\u001b[0m\u001b[1;33m.\u001b[0m\u001b[0munique\u001b[0m\u001b[1;33m(\u001b[0m\u001b[1;33m)\u001b[0m\u001b[1;33m\u001b[0m\u001b[0m\n\u001b[0m",
      "\u001b[1;31mNameError\u001b[0m: name 'df' is not defined"
     ]
    }
   ],
   "source": [
    "df.batting_team.unique()"
   ]
  },
  {
   "cell_type": "code",
   "execution_count": null,
   "metadata": {
    "collapsed": true
   },
   "outputs": [],
   "source": [
    "#matches by country\n",
    "len(df[df.batting_team == 'India'].match_id.unique())"
   ]
  },
  {
   "cell_type": "markdown",
   "metadata": {},
   "source": [
    "## Check for duplicates"
   ]
  },
  {
   "cell_type": "code",
   "execution_count": null,
   "metadata": {
    "collapsed": true
   },
   "outputs": [],
   "source": [
    "len(df)-len(df.drop_duplicates())"
   ]
  },
  {
   "cell_type": "markdown",
   "metadata": {},
   "source": [
    "## Correcting duplicates"
   ]
  },
  {
   "cell_type": "code",
   "execution_count": null,
   "metadata": {
    "collapsed": true
   },
   "outputs": [],
   "source": [
    "df = df.drop_duplicates(keep = 'first')"
   ]
  },
  {
   "cell_type": "code",
   "execution_count": null,
   "metadata": {
    "collapsed": true
   },
   "outputs": [],
   "source": [
    "len(df)-len(df.drop_duplicates())"
   ]
  },
  {
   "cell_type": "markdown",
   "metadata": {},
   "source": [
    "## Sort by dates"
   ]
  },
  {
   "cell_type": "code",
   "execution_count": null,
   "metadata": {
    "collapsed": true
   },
   "outputs": [],
   "source": [
    "df['start_date'] = pd.to_datetime(df['start_date'])"
   ]
  },
  {
   "cell_type": "code",
   "execution_count": null,
   "metadata": {
    "collapsed": true
   },
   "outputs": [],
   "source": [
    "df = df.sort_values('start_date', ascending = True)"
   ]
  },
  {
   "cell_type": "markdown",
   "metadata": {},
   "source": [
    "## Check after sorting"
   ]
  },
  {
   "cell_type": "code",
   "execution_count": null,
   "metadata": {
    "collapsed": true
   },
   "outputs": [],
   "source": [
    "df.head()"
   ]
  },
  {
   "cell_type": "code",
   "execution_count": null,
   "metadata": {
    "collapsed": true
   },
   "outputs": [],
   "source": [
    "df.tail()"
   ]
  },
  {
   "cell_type": "code",
   "execution_count": null,
   "metadata": {
    "collapsed": true
   },
   "outputs": [],
   "source": [
    "len(df)"
   ]
  },
  {
   "cell_type": "markdown",
   "metadata": {},
   "source": [
    "## Export to single CSV"
   ]
  },
  {
   "cell_type": "code",
   "execution_count": null,
   "metadata": {
    "collapsed": true
   },
   "outputs": [],
   "source": [
    "df.to_csv('TESTS_ball_by_ball.csv', index = False)"
   ]
  }
 ],
 "metadata": {
  "anaconda-cloud": {},
  "kernelspec": {
   "display_name": "Python [Root]",
   "language": "python",
   "name": "Python [Root]"
  },
  "language_info": {
   "codemirror_mode": {
    "name": "ipython",
    "version": 3
   },
   "file_extension": ".py",
   "mimetype": "text/x-python",
   "name": "python",
   "nbconvert_exporter": "python",
   "pygments_lexer": "ipython3",
   "version": "3.5.2"
  }
 },
 "nbformat": 4,
 "nbformat_minor": 2
}
