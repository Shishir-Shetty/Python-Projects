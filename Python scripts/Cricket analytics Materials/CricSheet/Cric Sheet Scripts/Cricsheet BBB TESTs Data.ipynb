{
 "cells": [
  {
   "cell_type": "markdown",
   "metadata": {},
   "source": [
    "## Downloading steps\n",
    "- url: https://cricsheet.org/downloads/\n",
    "- Go to Test matches -> click on New (All section)\n",
    "- Save the zip file in the same folder of this notebook\n",
    "- Extract the zip file keeping the same name"
   ]
  },
  {
   "cell_type": "markdown",
   "metadata": {},
   "source": [
    "## Imports"
   ]
  },
  {
   "cell_type": "code",
   "execution_count": 1,
   "metadata": {},
   "outputs": [],
   "source": [
    "import pandas as pd\n",
    "import glob"
   ]
  },
  {
   "cell_type": "markdown",
   "metadata": {},
   "source": [
    "## Check for any errors"
   ]
  },
  {
   "cell_type": "code",
   "execution_count": 2,
   "metadata": {},
   "outputs": [],
   "source": [
    "ls1 = glob.glob(\"tests_csv2\\*.csv\")\n",
    "ls2 = []\n",
    "\n",
    "for i in ls1:\n",
    "    # ignore info files\n",
    "    if \"_info\" not in i:\n",
    "        try:\n",
    "            ls2.append(pd.read_csv(i))\n",
    "        except:\n",
    "            print('error', i)"
   ]
  },
  {
   "cell_type": "markdown",
   "metadata": {},
   "source": [
    "## Combine Match by Match CSV files"
   ]
  },
  {
   "cell_type": "code",
   "execution_count": 3,
   "metadata": {},
   "outputs": [],
   "source": [
    "#importing multiple files in a directory\n",
    "error_files = []\n",
    "l = [pd.read_csv(filename) if \"_info\" not in filename else error_files.append(filename)  for filename in glob.glob(\"tests_csv2\\*.csv\")]\n",
    "df = pd.concat(l, axis = 0)"
   ]
  },
  {
   "cell_type": "markdown",
   "metadata": {},
   "source": [
    "## Sneak peak"
   ]
  },
  {
   "cell_type": "code",
   "execution_count": 4,
   "metadata": {
    "scrolled": true
   },
   "outputs": [
    {
     "data": {
      "text/html": [
       "<div>\n",
       "<style scoped>\n",
       "    .dataframe tbody tr th:only-of-type {\n",
       "        vertical-align: middle;\n",
       "    }\n",
       "\n",
       "    .dataframe tbody tr th {\n",
       "        vertical-align: top;\n",
       "    }\n",
       "\n",
       "    .dataframe thead th {\n",
       "        text-align: right;\n",
       "    }\n",
       "</style>\n",
       "<table border=\"1\" class=\"dataframe\">\n",
       "  <thead>\n",
       "    <tr style=\"text-align: right;\">\n",
       "      <th></th>\n",
       "      <th>match_id</th>\n",
       "      <th>season</th>\n",
       "      <th>start_date</th>\n",
       "      <th>venue</th>\n",
       "      <th>innings</th>\n",
       "      <th>ball</th>\n",
       "      <th>batting_team</th>\n",
       "      <th>bowling_team</th>\n",
       "      <th>striker</th>\n",
       "      <th>non_striker</th>\n",
       "      <th>...</th>\n",
       "      <th>extras</th>\n",
       "      <th>wides</th>\n",
       "      <th>noballs</th>\n",
       "      <th>byes</th>\n",
       "      <th>legbyes</th>\n",
       "      <th>penalty</th>\n",
       "      <th>wicket_type</th>\n",
       "      <th>player_dismissed</th>\n",
       "      <th>other_wicket_type</th>\n",
       "      <th>other_player_dismissed</th>\n",
       "    </tr>\n",
       "  </thead>\n",
       "  <tbody>\n",
       "    <tr>\n",
       "      <th>0</th>\n",
       "      <td>1000851</td>\n",
       "      <td>2016/17</td>\n",
       "      <td>2016-11-03</td>\n",
       "      <td>Western Australia Cricket Association Ground</td>\n",
       "      <td>1</td>\n",
       "      <td>0.1</td>\n",
       "      <td>South Africa</td>\n",
       "      <td>Australia</td>\n",
       "      <td>SC Cook</td>\n",
       "      <td>D Elgar</td>\n",
       "      <td>...</td>\n",
       "      <td>0</td>\n",
       "      <td>NaN</td>\n",
       "      <td>NaN</td>\n",
       "      <td>NaN</td>\n",
       "      <td>NaN</td>\n",
       "      <td>NaN</td>\n",
       "      <td>NaN</td>\n",
       "      <td>NaN</td>\n",
       "      <td>NaN</td>\n",
       "      <td>NaN</td>\n",
       "    </tr>\n",
       "    <tr>\n",
       "      <th>1</th>\n",
       "      <td>1000851</td>\n",
       "      <td>2016/17</td>\n",
       "      <td>2016-11-03</td>\n",
       "      <td>Western Australia Cricket Association Ground</td>\n",
       "      <td>1</td>\n",
       "      <td>0.2</td>\n",
       "      <td>South Africa</td>\n",
       "      <td>Australia</td>\n",
       "      <td>SC Cook</td>\n",
       "      <td>D Elgar</td>\n",
       "      <td>...</td>\n",
       "      <td>0</td>\n",
       "      <td>NaN</td>\n",
       "      <td>NaN</td>\n",
       "      <td>NaN</td>\n",
       "      <td>NaN</td>\n",
       "      <td>NaN</td>\n",
       "      <td>NaN</td>\n",
       "      <td>NaN</td>\n",
       "      <td>NaN</td>\n",
       "      <td>NaN</td>\n",
       "    </tr>\n",
       "    <tr>\n",
       "      <th>2</th>\n",
       "      <td>1000851</td>\n",
       "      <td>2016/17</td>\n",
       "      <td>2016-11-03</td>\n",
       "      <td>Western Australia Cricket Association Ground</td>\n",
       "      <td>1</td>\n",
       "      <td>0.3</td>\n",
       "      <td>South Africa</td>\n",
       "      <td>Australia</td>\n",
       "      <td>SC Cook</td>\n",
       "      <td>D Elgar</td>\n",
       "      <td>...</td>\n",
       "      <td>0</td>\n",
       "      <td>NaN</td>\n",
       "      <td>NaN</td>\n",
       "      <td>NaN</td>\n",
       "      <td>NaN</td>\n",
       "      <td>NaN</td>\n",
       "      <td>NaN</td>\n",
       "      <td>NaN</td>\n",
       "      <td>NaN</td>\n",
       "      <td>NaN</td>\n",
       "    </tr>\n",
       "    <tr>\n",
       "      <th>3</th>\n",
       "      <td>1000851</td>\n",
       "      <td>2016/17</td>\n",
       "      <td>2016-11-03</td>\n",
       "      <td>Western Australia Cricket Association Ground</td>\n",
       "      <td>1</td>\n",
       "      <td>0.4</td>\n",
       "      <td>South Africa</td>\n",
       "      <td>Australia</td>\n",
       "      <td>SC Cook</td>\n",
       "      <td>D Elgar</td>\n",
       "      <td>...</td>\n",
       "      <td>0</td>\n",
       "      <td>NaN</td>\n",
       "      <td>NaN</td>\n",
       "      <td>NaN</td>\n",
       "      <td>NaN</td>\n",
       "      <td>NaN</td>\n",
       "      <td>caught</td>\n",
       "      <td>SC Cook</td>\n",
       "      <td>NaN</td>\n",
       "      <td>NaN</td>\n",
       "    </tr>\n",
       "    <tr>\n",
       "      <th>4</th>\n",
       "      <td>1000851</td>\n",
       "      <td>2016/17</td>\n",
       "      <td>2016-11-03</td>\n",
       "      <td>Western Australia Cricket Association Ground</td>\n",
       "      <td>1</td>\n",
       "      <td>0.5</td>\n",
       "      <td>South Africa</td>\n",
       "      <td>Australia</td>\n",
       "      <td>HM Amla</td>\n",
       "      <td>D Elgar</td>\n",
       "      <td>...</td>\n",
       "      <td>0</td>\n",
       "      <td>NaN</td>\n",
       "      <td>NaN</td>\n",
       "      <td>NaN</td>\n",
       "      <td>NaN</td>\n",
       "      <td>NaN</td>\n",
       "      <td>NaN</td>\n",
       "      <td>NaN</td>\n",
       "      <td>NaN</td>\n",
       "      <td>NaN</td>\n",
       "    </tr>\n",
       "  </tbody>\n",
       "</table>\n",
       "<p>5 rows × 22 columns</p>\n",
       "</div>"
      ],
      "text/plain": [
       "   match_id   season  start_date  \\\n",
       "0   1000851  2016/17  2016-11-03   \n",
       "1   1000851  2016/17  2016-11-03   \n",
       "2   1000851  2016/17  2016-11-03   \n",
       "3   1000851  2016/17  2016-11-03   \n",
       "4   1000851  2016/17  2016-11-03   \n",
       "\n",
       "                                          venue  innings  ball  batting_team  \\\n",
       "0  Western Australia Cricket Association Ground        1   0.1  South Africa   \n",
       "1  Western Australia Cricket Association Ground        1   0.2  South Africa   \n",
       "2  Western Australia Cricket Association Ground        1   0.3  South Africa   \n",
       "3  Western Australia Cricket Association Ground        1   0.4  South Africa   \n",
       "4  Western Australia Cricket Association Ground        1   0.5  South Africa   \n",
       "\n",
       "  bowling_team  striker non_striker  ... extras  wides  noballs  byes  \\\n",
       "0    Australia  SC Cook     D Elgar  ...      0    NaN      NaN   NaN   \n",
       "1    Australia  SC Cook     D Elgar  ...      0    NaN      NaN   NaN   \n",
       "2    Australia  SC Cook     D Elgar  ...      0    NaN      NaN   NaN   \n",
       "3    Australia  SC Cook     D Elgar  ...      0    NaN      NaN   NaN   \n",
       "4    Australia  HM Amla     D Elgar  ...      0    NaN      NaN   NaN   \n",
       "\n",
       "   legbyes  penalty  wicket_type  player_dismissed other_wicket_type  \\\n",
       "0      NaN      NaN          NaN               NaN               NaN   \n",
       "1      NaN      NaN          NaN               NaN               NaN   \n",
       "2      NaN      NaN          NaN               NaN               NaN   \n",
       "3      NaN      NaN       caught           SC Cook               NaN   \n",
       "4      NaN      NaN          NaN               NaN               NaN   \n",
       "\n",
       "  other_player_dismissed  \n",
       "0                    NaN  \n",
       "1                    NaN  \n",
       "2                    NaN  \n",
       "3                    NaN  \n",
       "4                    NaN  \n",
       "\n",
       "[5 rows x 22 columns]"
      ]
     },
     "execution_count": 4,
     "metadata": {},
     "output_type": "execute_result"
    }
   ],
   "source": [
    "df.head()"
   ]
  },
  {
   "cell_type": "code",
   "execution_count": 5,
   "metadata": {},
   "outputs": [
    {
     "data": {
      "text/plain": [
       "array(['2016/17', 2016, 2017, '2017/18', 2018, '2018/19', 2019, '2019/20',\n",
       "       2020, '2020/21', 2021, 2005, '2005/06', 2006, '2006/07', 2007,\n",
       "       '2007/08', 2008, '2008/09', 2009, '2009/10', 2010, '2010/11', 2011,\n",
       "       '2011/12', 2012, '2012/13', 2013, '2013/14', '2003/04', 2004,\n",
       "       '2004/05', 2014, '2014/15', 2015, '2015/16'], dtype=object)"
      ]
     },
     "execution_count": 5,
     "metadata": {},
     "output_type": "execute_result"
    }
   ],
   "source": [
    "df.season.unique()"
   ]
  },
  {
   "cell_type": "code",
   "execution_count": 6,
   "metadata": {},
   "outputs": [
    {
     "data": {
      "text/plain": [
       "array(['South Africa', 'Australia', 'Pakistan', 'Bangladesh',\n",
       "       'New Zealand', 'India', 'West Indies', 'Zimbabwe', 'England',\n",
       "       'Sri Lanka', 'Ireland', 'Afghanistan', 'ICC World XI'],\n",
       "      dtype=object)"
      ]
     },
     "execution_count": 6,
     "metadata": {},
     "output_type": "execute_result"
    }
   ],
   "source": [
    "df.batting_team.unique()"
   ]
  },
  {
   "cell_type": "code",
   "execution_count": 7,
   "metadata": {},
   "outputs": [
    {
     "data": {
      "text/plain": [
       "171"
      ]
     },
     "execution_count": 7,
     "metadata": {},
     "output_type": "execute_result"
    }
   ],
   "source": [
    "#matches by country\n",
    "len(df[df.batting_team == 'India'].match_id.unique())"
   ]
  },
  {
   "cell_type": "markdown",
   "metadata": {},
   "source": [
    "## Check for duplicates"
   ]
  },
  {
   "cell_type": "code",
   "execution_count": 8,
   "metadata": {},
   "outputs": [
    {
     "data": {
      "text/plain": [
       "1"
      ]
     },
     "execution_count": 8,
     "metadata": {},
     "output_type": "execute_result"
    }
   ],
   "source": [
    "len(df)-len(df.drop_duplicates())"
   ]
  },
  {
   "cell_type": "markdown",
   "metadata": {},
   "source": [
    "## Correcting duplicates"
   ]
  },
  {
   "cell_type": "code",
   "execution_count": 9,
   "metadata": {},
   "outputs": [],
   "source": [
    "df = df.drop_duplicates(keep = 'first')"
   ]
  },
  {
   "cell_type": "code",
   "execution_count": 10,
   "metadata": {},
   "outputs": [
    {
     "data": {
      "text/plain": [
       "0"
      ]
     },
     "execution_count": 10,
     "metadata": {},
     "output_type": "execute_result"
    }
   ],
   "source": [
    "len(df)-len(df.drop_duplicates())"
   ]
  },
  {
   "cell_type": "markdown",
   "metadata": {},
   "source": [
    "## Sort by dates"
   ]
  },
  {
   "cell_type": "code",
   "execution_count": 11,
   "metadata": {},
   "outputs": [],
   "source": [
    "df['start_date'] = pd.to_datetime(df['start_date'])"
   ]
  },
  {
   "cell_type": "code",
   "execution_count": 12,
   "metadata": {},
   "outputs": [],
   "source": [
    "df = df.sort_values('start_date', ascending = True)"
   ]
  },
  {
   "cell_type": "markdown",
   "metadata": {},
   "source": [
    "## Check after sorting"
   ]
  },
  {
   "cell_type": "code",
   "execution_count": 13,
   "metadata": {},
   "outputs": [
    {
     "data": {
      "text/html": [
       "<div>\n",
       "<style scoped>\n",
       "    .dataframe tbody tr th:only-of-type {\n",
       "        vertical-align: middle;\n",
       "    }\n",
       "\n",
       "    .dataframe tbody tr th {\n",
       "        vertical-align: top;\n",
       "    }\n",
       "\n",
       "    .dataframe thead th {\n",
       "        text-align: right;\n",
       "    }\n",
       "</style>\n",
       "<table border=\"1\" class=\"dataframe\">\n",
       "  <thead>\n",
       "    <tr style=\"text-align: right;\">\n",
       "      <th></th>\n",
       "      <th>match_id</th>\n",
       "      <th>season</th>\n",
       "      <th>start_date</th>\n",
       "      <th>venue</th>\n",
       "      <th>innings</th>\n",
       "      <th>ball</th>\n",
       "      <th>batting_team</th>\n",
       "      <th>bowling_team</th>\n",
       "      <th>striker</th>\n",
       "      <th>non_striker</th>\n",
       "      <th>...</th>\n",
       "      <th>extras</th>\n",
       "      <th>wides</th>\n",
       "      <th>noballs</th>\n",
       "      <th>byes</th>\n",
       "      <th>legbyes</th>\n",
       "      <th>penalty</th>\n",
       "      <th>wicket_type</th>\n",
       "      <th>player_dismissed</th>\n",
       "      <th>other_wicket_type</th>\n",
       "      <th>other_player_dismissed</th>\n",
       "    </tr>\n",
       "  </thead>\n",
       "  <tbody>\n",
       "    <tr>\n",
       "      <th>2411</th>\n",
       "      <td>64071</td>\n",
       "      <td>2003/04</td>\n",
       "      <td>2004-03-08</td>\n",
       "      <td>Galle International Stadium</td>\n",
       "      <td>4</td>\n",
       "      <td>43.6</td>\n",
       "      <td>Sri Lanka</td>\n",
       "      <td>Australia</td>\n",
       "      <td>UDU Chandana</td>\n",
       "      <td>WPUJC Vaas</td>\n",
       "      <td>...</td>\n",
       "      <td>0</td>\n",
       "      <td>NaN</td>\n",
       "      <td>NaN</td>\n",
       "      <td>NaN</td>\n",
       "      <td>NaN</td>\n",
       "      <td>NaN</td>\n",
       "      <td>caught</td>\n",
       "      <td>UDU Chandana</td>\n",
       "      <td>NaN</td>\n",
       "      <td>NaN</td>\n",
       "    </tr>\n",
       "    <tr>\n",
       "      <th>827</th>\n",
       "      <td>64071</td>\n",
       "      <td>2003/04</td>\n",
       "      <td>2004-03-08</td>\n",
       "      <td>Galle International Stadium</td>\n",
       "      <td>2</td>\n",
       "      <td>69.3</td>\n",
       "      <td>Sri Lanka</td>\n",
       "      <td>Australia</td>\n",
       "      <td>TM Dilshan</td>\n",
       "      <td>HP Tillakaratne</td>\n",
       "      <td>...</td>\n",
       "      <td>0</td>\n",
       "      <td>NaN</td>\n",
       "      <td>NaN</td>\n",
       "      <td>NaN</td>\n",
       "      <td>NaN</td>\n",
       "      <td>NaN</td>\n",
       "      <td>NaN</td>\n",
       "      <td>NaN</td>\n",
       "      <td>NaN</td>\n",
       "      <td>NaN</td>\n",
       "    </tr>\n",
       "    <tr>\n",
       "      <th>826</th>\n",
       "      <td>64071</td>\n",
       "      <td>2003/04</td>\n",
       "      <td>2004-03-08</td>\n",
       "      <td>Galle International Stadium</td>\n",
       "      <td>2</td>\n",
       "      <td>69.2</td>\n",
       "      <td>Sri Lanka</td>\n",
       "      <td>Australia</td>\n",
       "      <td>TM Dilshan</td>\n",
       "      <td>HP Tillakaratne</td>\n",
       "      <td>...</td>\n",
       "      <td>0</td>\n",
       "      <td>NaN</td>\n",
       "      <td>NaN</td>\n",
       "      <td>NaN</td>\n",
       "      <td>NaN</td>\n",
       "      <td>NaN</td>\n",
       "      <td>NaN</td>\n",
       "      <td>NaN</td>\n",
       "      <td>NaN</td>\n",
       "      <td>NaN</td>\n",
       "    </tr>\n",
       "    <tr>\n",
       "      <th>825</th>\n",
       "      <td>64071</td>\n",
       "      <td>2003/04</td>\n",
       "      <td>2004-03-08</td>\n",
       "      <td>Galle International Stadium</td>\n",
       "      <td>2</td>\n",
       "      <td>69.1</td>\n",
       "      <td>Sri Lanka</td>\n",
       "      <td>Australia</td>\n",
       "      <td>TM Dilshan</td>\n",
       "      <td>HP Tillakaratne</td>\n",
       "      <td>...</td>\n",
       "      <td>0</td>\n",
       "      <td>NaN</td>\n",
       "      <td>NaN</td>\n",
       "      <td>NaN</td>\n",
       "      <td>NaN</td>\n",
       "      <td>NaN</td>\n",
       "      <td>NaN</td>\n",
       "      <td>NaN</td>\n",
       "      <td>NaN</td>\n",
       "      <td>NaN</td>\n",
       "    </tr>\n",
       "    <tr>\n",
       "      <th>824</th>\n",
       "      <td>64071</td>\n",
       "      <td>2003/04</td>\n",
       "      <td>2004-03-08</td>\n",
       "      <td>Galle International Stadium</td>\n",
       "      <td>2</td>\n",
       "      <td>68.6</td>\n",
       "      <td>Sri Lanka</td>\n",
       "      <td>Australia</td>\n",
       "      <td>HP Tillakaratne</td>\n",
       "      <td>TM Dilshan</td>\n",
       "      <td>...</td>\n",
       "      <td>0</td>\n",
       "      <td>NaN</td>\n",
       "      <td>NaN</td>\n",
       "      <td>NaN</td>\n",
       "      <td>NaN</td>\n",
       "      <td>NaN</td>\n",
       "      <td>NaN</td>\n",
       "      <td>NaN</td>\n",
       "      <td>NaN</td>\n",
       "      <td>NaN</td>\n",
       "    </tr>\n",
       "  </tbody>\n",
       "</table>\n",
       "<p>5 rows × 22 columns</p>\n",
       "</div>"
      ],
      "text/plain": [
       "      match_id   season start_date                        venue  innings  \\\n",
       "2411     64071  2003/04 2004-03-08  Galle International Stadium        4   \n",
       "827      64071  2003/04 2004-03-08  Galle International Stadium        2   \n",
       "826      64071  2003/04 2004-03-08  Galle International Stadium        2   \n",
       "825      64071  2003/04 2004-03-08  Galle International Stadium        2   \n",
       "824      64071  2003/04 2004-03-08  Galle International Stadium        2   \n",
       "\n",
       "      ball batting_team bowling_team          striker      non_striker  ...  \\\n",
       "2411  43.6    Sri Lanka    Australia     UDU Chandana       WPUJC Vaas  ...   \n",
       "827   69.3    Sri Lanka    Australia       TM Dilshan  HP Tillakaratne  ...   \n",
       "826   69.2    Sri Lanka    Australia       TM Dilshan  HP Tillakaratne  ...   \n",
       "825   69.1    Sri Lanka    Australia       TM Dilshan  HP Tillakaratne  ...   \n",
       "824   68.6    Sri Lanka    Australia  HP Tillakaratne       TM Dilshan  ...   \n",
       "\n",
       "     extras  wides  noballs  byes  legbyes  penalty  wicket_type  \\\n",
       "2411      0    NaN      NaN   NaN      NaN      NaN       caught   \n",
       "827       0    NaN      NaN   NaN      NaN      NaN          NaN   \n",
       "826       0    NaN      NaN   NaN      NaN      NaN          NaN   \n",
       "825       0    NaN      NaN   NaN      NaN      NaN          NaN   \n",
       "824       0    NaN      NaN   NaN      NaN      NaN          NaN   \n",
       "\n",
       "      player_dismissed other_wicket_type other_player_dismissed  \n",
       "2411      UDU Chandana               NaN                    NaN  \n",
       "827                NaN               NaN                    NaN  \n",
       "826                NaN               NaN                    NaN  \n",
       "825                NaN               NaN                    NaN  \n",
       "824                NaN               NaN                    NaN  \n",
       "\n",
       "[5 rows x 22 columns]"
      ]
     },
     "execution_count": 13,
     "metadata": {},
     "output_type": "execute_result"
    }
   ],
   "source": [
    "df.head()"
   ]
  },
  {
   "cell_type": "code",
   "execution_count": 14,
   "metadata": {},
   "outputs": [
    {
     "data": {
      "text/html": [
       "<div>\n",
       "<style scoped>\n",
       "    .dataframe tbody tr th:only-of-type {\n",
       "        vertical-align: middle;\n",
       "    }\n",
       "\n",
       "    .dataframe tbody tr th {\n",
       "        vertical-align: top;\n",
       "    }\n",
       "\n",
       "    .dataframe thead th {\n",
       "        text-align: right;\n",
       "    }\n",
       "</style>\n",
       "<table border=\"1\" class=\"dataframe\">\n",
       "  <thead>\n",
       "    <tr style=\"text-align: right;\">\n",
       "      <th></th>\n",
       "      <th>match_id</th>\n",
       "      <th>season</th>\n",
       "      <th>start_date</th>\n",
       "      <th>venue</th>\n",
       "      <th>innings</th>\n",
       "      <th>ball</th>\n",
       "      <th>batting_team</th>\n",
       "      <th>bowling_team</th>\n",
       "      <th>striker</th>\n",
       "      <th>non_striker</th>\n",
       "      <th>...</th>\n",
       "      <th>extras</th>\n",
       "      <th>wides</th>\n",
       "      <th>noballs</th>\n",
       "      <th>byes</th>\n",
       "      <th>legbyes</th>\n",
       "      <th>penalty</th>\n",
       "      <th>wicket_type</th>\n",
       "      <th>player_dismissed</th>\n",
       "      <th>other_wicket_type</th>\n",
       "      <th>other_player_dismissed</th>\n",
       "    </tr>\n",
       "  </thead>\n",
       "  <tbody>\n",
       "    <tr>\n",
       "      <th>546</th>\n",
       "      <td>1239545</td>\n",
       "      <td>2021</td>\n",
       "      <td>2021-08-25</td>\n",
       "      <td>Headingley, Leeds</td>\n",
       "      <td>2</td>\n",
       "      <td>48.6</td>\n",
       "      <td>England</td>\n",
       "      <td>India</td>\n",
       "      <td>H Hameed</td>\n",
       "      <td>RJ Burns</td>\n",
       "      <td>...</td>\n",
       "      <td>0</td>\n",
       "      <td>NaN</td>\n",
       "      <td>NaN</td>\n",
       "      <td>NaN</td>\n",
       "      <td>NaN</td>\n",
       "      <td>NaN</td>\n",
       "      <td>NaN</td>\n",
       "      <td>NaN</td>\n",
       "      <td>NaN</td>\n",
       "      <td>NaN</td>\n",
       "    </tr>\n",
       "    <tr>\n",
       "      <th>545</th>\n",
       "      <td>1239545</td>\n",
       "      <td>2021</td>\n",
       "      <td>2021-08-25</td>\n",
       "      <td>Headingley, Leeds</td>\n",
       "      <td>2</td>\n",
       "      <td>48.5</td>\n",
       "      <td>England</td>\n",
       "      <td>India</td>\n",
       "      <td>H Hameed</td>\n",
       "      <td>RJ Burns</td>\n",
       "      <td>...</td>\n",
       "      <td>0</td>\n",
       "      <td>NaN</td>\n",
       "      <td>NaN</td>\n",
       "      <td>NaN</td>\n",
       "      <td>NaN</td>\n",
       "      <td>NaN</td>\n",
       "      <td>NaN</td>\n",
       "      <td>NaN</td>\n",
       "      <td>NaN</td>\n",
       "      <td>NaN</td>\n",
       "    </tr>\n",
       "    <tr>\n",
       "      <th>544</th>\n",
       "      <td>1239545</td>\n",
       "      <td>2021</td>\n",
       "      <td>2021-08-25</td>\n",
       "      <td>Headingley, Leeds</td>\n",
       "      <td>2</td>\n",
       "      <td>48.4</td>\n",
       "      <td>England</td>\n",
       "      <td>India</td>\n",
       "      <td>RJ Burns</td>\n",
       "      <td>H Hameed</td>\n",
       "      <td>...</td>\n",
       "      <td>0</td>\n",
       "      <td>NaN</td>\n",
       "      <td>NaN</td>\n",
       "      <td>NaN</td>\n",
       "      <td>NaN</td>\n",
       "      <td>NaN</td>\n",
       "      <td>NaN</td>\n",
       "      <td>NaN</td>\n",
       "      <td>NaN</td>\n",
       "      <td>NaN</td>\n",
       "    </tr>\n",
       "    <tr>\n",
       "      <th>554</th>\n",
       "      <td>1239545</td>\n",
       "      <td>2021</td>\n",
       "      <td>2021-08-25</td>\n",
       "      <td>Headingley, Leeds</td>\n",
       "      <td>2</td>\n",
       "      <td>50.2</td>\n",
       "      <td>England</td>\n",
       "      <td>India</td>\n",
       "      <td>H Hameed</td>\n",
       "      <td>DJ Malan</td>\n",
       "      <td>...</td>\n",
       "      <td>0</td>\n",
       "      <td>NaN</td>\n",
       "      <td>NaN</td>\n",
       "      <td>NaN</td>\n",
       "      <td>NaN</td>\n",
       "      <td>NaN</td>\n",
       "      <td>NaN</td>\n",
       "      <td>NaN</td>\n",
       "      <td>NaN</td>\n",
       "      <td>NaN</td>\n",
       "    </tr>\n",
       "    <tr>\n",
       "      <th>1653</th>\n",
       "      <td>1239545</td>\n",
       "      <td>2021</td>\n",
       "      <td>2021-08-25</td>\n",
       "      <td>Headingley, Leeds</td>\n",
       "      <td>3</td>\n",
       "      <td>99.2</td>\n",
       "      <td>India</td>\n",
       "      <td>England</td>\n",
       "      <td>Mohammed Siraj</td>\n",
       "      <td>JJ Bumrah</td>\n",
       "      <td>...</td>\n",
       "      <td>0</td>\n",
       "      <td>NaN</td>\n",
       "      <td>NaN</td>\n",
       "      <td>NaN</td>\n",
       "      <td>NaN</td>\n",
       "      <td>NaN</td>\n",
       "      <td>NaN</td>\n",
       "      <td>NaN</td>\n",
       "      <td>NaN</td>\n",
       "      <td>NaN</td>\n",
       "    </tr>\n",
       "  </tbody>\n",
       "</table>\n",
       "<p>5 rows × 22 columns</p>\n",
       "</div>"
      ],
      "text/plain": [
       "      match_id season start_date              venue  innings  ball  \\\n",
       "546    1239545   2021 2021-08-25  Headingley, Leeds        2  48.6   \n",
       "545    1239545   2021 2021-08-25  Headingley, Leeds        2  48.5   \n",
       "544    1239545   2021 2021-08-25  Headingley, Leeds        2  48.4   \n",
       "554    1239545   2021 2021-08-25  Headingley, Leeds        2  50.2   \n",
       "1653   1239545   2021 2021-08-25  Headingley, Leeds        3  99.2   \n",
       "\n",
       "     batting_team bowling_team         striker non_striker  ... extras  wides  \\\n",
       "546       England        India        H Hameed    RJ Burns  ...      0    NaN   \n",
       "545       England        India        H Hameed    RJ Burns  ...      0    NaN   \n",
       "544       England        India        RJ Burns    H Hameed  ...      0    NaN   \n",
       "554       England        India        H Hameed    DJ Malan  ...      0    NaN   \n",
       "1653        India      England  Mohammed Siraj   JJ Bumrah  ...      0    NaN   \n",
       "\n",
       "      noballs  byes  legbyes  penalty  wicket_type  player_dismissed  \\\n",
       "546       NaN   NaN      NaN      NaN          NaN               NaN   \n",
       "545       NaN   NaN      NaN      NaN          NaN               NaN   \n",
       "544       NaN   NaN      NaN      NaN          NaN               NaN   \n",
       "554       NaN   NaN      NaN      NaN          NaN               NaN   \n",
       "1653      NaN   NaN      NaN      NaN          NaN               NaN   \n",
       "\n",
       "     other_wicket_type other_player_dismissed  \n",
       "546                NaN                    NaN  \n",
       "545                NaN                    NaN  \n",
       "544                NaN                    NaN  \n",
       "554                NaN                    NaN  \n",
       "1653               NaN                    NaN  \n",
       "\n",
       "[5 rows x 22 columns]"
      ]
     },
     "execution_count": 14,
     "metadata": {},
     "output_type": "execute_result"
    }
   ],
   "source": [
    "df.tail()"
   ]
  },
  {
   "cell_type": "code",
   "execution_count": 15,
   "metadata": {},
   "outputs": [
    {
     "data": {
      "text/plain": [
       "1343973"
      ]
     },
     "execution_count": 15,
     "metadata": {},
     "output_type": "execute_result"
    }
   ],
   "source": [
    "len(df)"
   ]
  },
  {
   "cell_type": "markdown",
   "metadata": {},
   "source": [
    "## Export to single CSV"
   ]
  },
  {
   "cell_type": "code",
   "execution_count": 16,
   "metadata": {},
   "outputs": [],
   "source": [
    "df.to_csv('TESTS_ball_by_ball.csv', index = False)"
   ]
  },
  {
   "cell_type": "code",
   "execution_count": null,
   "metadata": {},
   "outputs": [],
   "source": []
  }
 ],
 "metadata": {
  "kernelspec": {
   "display_name": "Python 3",
   "language": "python",
   "name": "python3"
  },
  "language_info": {
   "codemirror_mode": {
    "name": "ipython",
    "version": 3
   },
   "file_extension": ".py",
   "mimetype": "text/x-python",
   "name": "python",
   "nbconvert_exporter": "python",
   "pygments_lexer": "ipython3",
   "version": "3.8.8"
  }
 },
 "nbformat": 4,
 "nbformat_minor": 2
}
