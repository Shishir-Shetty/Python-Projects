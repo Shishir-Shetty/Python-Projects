{
 "cells": [
  {
   "cell_type": "markdown",
   "metadata": {},
   "source": [
    "## Imports"
   ]
  },
  {
   "cell_type": "code",
   "execution_count": 12,
   "metadata": {},
   "outputs": [],
   "source": [
    "import pandas as pd\n",
    "import glob"
   ]
  },
  {
   "cell_type": "code",
   "execution_count": 14,
   "metadata": {},
   "outputs": [],
   "source": [
    "#importing multiple files in a directory\n",
    "l = [pd.read_csv(filename) for filename in glob.glob(\"wbb_csv2\\*.csv\")]\n",
    "df = pd.concat(l, axis = 0)"
   ]
  },
  {
   "cell_type": "markdown",
   "metadata": {},
   "source": [
    "## Check for duplicates & errors"
   ]
  },
  {
   "cell_type": "code",
   "execution_count": 15,
   "metadata": {},
   "outputs": [
    {
     "data": {
      "text/plain": [
       "array(['2016/17', '2017/18', '2018/19', '2019/20', '2020/21', '2015/16'],\n",
       "      dtype=object)"
      ]
     },
     "execution_count": 15,
     "metadata": {},
     "output_type": "execute_result"
    }
   ],
   "source": [
    "df.season.unique()"
   ]
  },
  {
   "cell_type": "code",
   "execution_count": 16,
   "metadata": {},
   "outputs": [
    {
     "data": {
      "text/plain": [
       "60883"
      ]
     },
     "execution_count": 16,
     "metadata": {},
     "output_type": "execute_result"
    }
   ],
   "source": [
    "len(df)-len(df.drop_duplicates())"
   ]
  },
  {
   "cell_type": "markdown",
   "metadata": {},
   "source": [
    "## Correcting the errors"
   ]
  },
  {
   "cell_type": "code",
   "execution_count": 17,
   "metadata": {},
   "outputs": [
    {
     "data": {
      "text/html": [
       "<div>\n",
       "<style scoped>\n",
       "    .dataframe tbody tr th:only-of-type {\n",
       "        vertical-align: middle;\n",
       "    }\n",
       "\n",
       "    .dataframe tbody tr th {\n",
       "        vertical-align: top;\n",
       "    }\n",
       "\n",
       "    .dataframe thead th {\n",
       "        text-align: right;\n",
       "    }\n",
       "</style>\n",
       "<table border=\"1\" class=\"dataframe\">\n",
       "  <thead>\n",
       "    <tr style=\"text-align: right;\">\n",
       "      <th></th>\n",
       "      <th>match_id</th>\n",
       "      <th>season</th>\n",
       "      <th>start_date</th>\n",
       "      <th>venue</th>\n",
       "      <th>innings</th>\n",
       "      <th>ball</th>\n",
       "      <th>batting_team</th>\n",
       "      <th>bowling_team</th>\n",
       "      <th>striker</th>\n",
       "      <th>non_striker</th>\n",
       "      <th>...</th>\n",
       "      <th>extras</th>\n",
       "      <th>wides</th>\n",
       "      <th>noballs</th>\n",
       "      <th>byes</th>\n",
       "      <th>legbyes</th>\n",
       "      <th>penalty</th>\n",
       "      <th>wicket_type</th>\n",
       "      <th>player_dismissed</th>\n",
       "      <th>other_wicket_type</th>\n",
       "      <th>other_player_dismissed</th>\n",
       "    </tr>\n",
       "  </thead>\n",
       "  <tbody>\n",
       "    <tr>\n",
       "      <th>0</th>\n",
       "      <td>1023655</td>\n",
       "      <td>2016/17</td>\n",
       "      <td>2016-12-10</td>\n",
       "      <td>North Sydney Oval</td>\n",
       "      <td>1</td>\n",
       "      <td>0.1</td>\n",
       "      <td>Adelaide Strikers</td>\n",
       "      <td>Melbourne Renegades</td>\n",
       "      <td>BE Patterson</td>\n",
       "      <td>TT Beaumont</td>\n",
       "      <td>...</td>\n",
       "      <td>0</td>\n",
       "      <td>NaN</td>\n",
       "      <td>NaN</td>\n",
       "      <td>NaN</td>\n",
       "      <td>NaN</td>\n",
       "      <td>NaN</td>\n",
       "      <td>NaN</td>\n",
       "      <td>NaN</td>\n",
       "      <td>NaN</td>\n",
       "      <td>NaN</td>\n",
       "    </tr>\n",
       "    <tr>\n",
       "      <th>1</th>\n",
       "      <td>1023655</td>\n",
       "      <td>2016/17</td>\n",
       "      <td>2016-12-10</td>\n",
       "      <td>North Sydney Oval</td>\n",
       "      <td>1</td>\n",
       "      <td>0.2</td>\n",
       "      <td>Adelaide Strikers</td>\n",
       "      <td>Melbourne Renegades</td>\n",
       "      <td>BE Patterson</td>\n",
       "      <td>TT Beaumont</td>\n",
       "      <td>...</td>\n",
       "      <td>0</td>\n",
       "      <td>NaN</td>\n",
       "      <td>NaN</td>\n",
       "      <td>NaN</td>\n",
       "      <td>NaN</td>\n",
       "      <td>NaN</td>\n",
       "      <td>NaN</td>\n",
       "      <td>NaN</td>\n",
       "      <td>NaN</td>\n",
       "      <td>NaN</td>\n",
       "    </tr>\n",
       "    <tr>\n",
       "      <th>2</th>\n",
       "      <td>1023655</td>\n",
       "      <td>2016/17</td>\n",
       "      <td>2016-12-10</td>\n",
       "      <td>North Sydney Oval</td>\n",
       "      <td>1</td>\n",
       "      <td>0.3</td>\n",
       "      <td>Adelaide Strikers</td>\n",
       "      <td>Melbourne Renegades</td>\n",
       "      <td>TT Beaumont</td>\n",
       "      <td>BE Patterson</td>\n",
       "      <td>...</td>\n",
       "      <td>0</td>\n",
       "      <td>NaN</td>\n",
       "      <td>NaN</td>\n",
       "      <td>NaN</td>\n",
       "      <td>NaN</td>\n",
       "      <td>NaN</td>\n",
       "      <td>NaN</td>\n",
       "      <td>NaN</td>\n",
       "      <td>NaN</td>\n",
       "      <td>NaN</td>\n",
       "    </tr>\n",
       "    <tr>\n",
       "      <th>3</th>\n",
       "      <td>1023655</td>\n",
       "      <td>2016/17</td>\n",
       "      <td>2016-12-10</td>\n",
       "      <td>North Sydney Oval</td>\n",
       "      <td>1</td>\n",
       "      <td>0.4</td>\n",
       "      <td>Adelaide Strikers</td>\n",
       "      <td>Melbourne Renegades</td>\n",
       "      <td>BE Patterson</td>\n",
       "      <td>TT Beaumont</td>\n",
       "      <td>...</td>\n",
       "      <td>0</td>\n",
       "      <td>NaN</td>\n",
       "      <td>NaN</td>\n",
       "      <td>NaN</td>\n",
       "      <td>NaN</td>\n",
       "      <td>NaN</td>\n",
       "      <td>NaN</td>\n",
       "      <td>NaN</td>\n",
       "      <td>NaN</td>\n",
       "      <td>NaN</td>\n",
       "    </tr>\n",
       "    <tr>\n",
       "      <th>4</th>\n",
       "      <td>1023655</td>\n",
       "      <td>2016/17</td>\n",
       "      <td>2016-12-10</td>\n",
       "      <td>North Sydney Oval</td>\n",
       "      <td>1</td>\n",
       "      <td>0.5</td>\n",
       "      <td>Adelaide Strikers</td>\n",
       "      <td>Melbourne Renegades</td>\n",
       "      <td>BE Patterson</td>\n",
       "      <td>TT Beaumont</td>\n",
       "      <td>...</td>\n",
       "      <td>1</td>\n",
       "      <td>1.0</td>\n",
       "      <td>NaN</td>\n",
       "      <td>NaN</td>\n",
       "      <td>NaN</td>\n",
       "      <td>NaN</td>\n",
       "      <td>NaN</td>\n",
       "      <td>NaN</td>\n",
       "      <td>NaN</td>\n",
       "      <td>NaN</td>\n",
       "    </tr>\n",
       "  </tbody>\n",
       "</table>\n",
       "<p>5 rows × 22 columns</p>\n",
       "</div>"
      ],
      "text/plain": [
       "   match_id   season  start_date              venue  innings  ball  \\\n",
       "0   1023655  2016/17  2016-12-10  North Sydney Oval        1   0.1   \n",
       "1   1023655  2016/17  2016-12-10  North Sydney Oval        1   0.2   \n",
       "2   1023655  2016/17  2016-12-10  North Sydney Oval        1   0.3   \n",
       "3   1023655  2016/17  2016-12-10  North Sydney Oval        1   0.4   \n",
       "4   1023655  2016/17  2016-12-10  North Sydney Oval        1   0.5   \n",
       "\n",
       "        batting_team         bowling_team       striker   non_striker  ...  \\\n",
       "0  Adelaide Strikers  Melbourne Renegades  BE Patterson   TT Beaumont  ...   \n",
       "1  Adelaide Strikers  Melbourne Renegades  BE Patterson   TT Beaumont  ...   \n",
       "2  Adelaide Strikers  Melbourne Renegades   TT Beaumont  BE Patterson  ...   \n",
       "3  Adelaide Strikers  Melbourne Renegades  BE Patterson   TT Beaumont  ...   \n",
       "4  Adelaide Strikers  Melbourne Renegades  BE Patterson   TT Beaumont  ...   \n",
       "\n",
       "  extras  wides  noballs  byes  legbyes  penalty  wicket_type  \\\n",
       "0      0    NaN      NaN   NaN      NaN      NaN          NaN   \n",
       "1      0    NaN      NaN   NaN      NaN      NaN          NaN   \n",
       "2      0    NaN      NaN   NaN      NaN      NaN          NaN   \n",
       "3      0    NaN      NaN   NaN      NaN      NaN          NaN   \n",
       "4      1    1.0      NaN   NaN      NaN      NaN          NaN   \n",
       "\n",
       "   player_dismissed other_wicket_type other_player_dismissed  \n",
       "0               NaN               NaN                    NaN  \n",
       "1               NaN               NaN                    NaN  \n",
       "2               NaN               NaN                    NaN  \n",
       "3               NaN               NaN                    NaN  \n",
       "4               NaN               NaN                    NaN  \n",
       "\n",
       "[5 rows x 22 columns]"
      ]
     },
     "execution_count": 17,
     "metadata": {},
     "output_type": "execute_result"
    }
   ],
   "source": [
    "df.head()"
   ]
  },
  {
   "cell_type": "code",
   "execution_count": 18,
   "metadata": {},
   "outputs": [],
   "source": [
    "# df['season'] = df['season'].astype('int')"
   ]
  },
  {
   "cell_type": "code",
   "execution_count": 19,
   "metadata": {},
   "outputs": [],
   "source": [
    "df = df.drop_duplicates(keep = 'first')"
   ]
  },
  {
   "cell_type": "code",
   "execution_count": 20,
   "metadata": {},
   "outputs": [
    {
     "data": {
      "text/plain": [
       "0"
      ]
     },
     "execution_count": 20,
     "metadata": {},
     "output_type": "execute_result"
    }
   ],
   "source": [
    "len(df)-len(df.drop_duplicates())"
   ]
  },
  {
   "cell_type": "markdown",
   "metadata": {},
   "source": [
    "## Sort by datetime"
   ]
  },
  {
   "cell_type": "code",
   "execution_count": 21,
   "metadata": {},
   "outputs": [],
   "source": [
    "df['start_date'] = pd.to_datetime(df['start_date'])"
   ]
  },
  {
   "cell_type": "code",
   "execution_count": 22,
   "metadata": {},
   "outputs": [],
   "source": [
    "df = df.sort_values('start_date', ascending = True)"
   ]
  },
  {
   "cell_type": "code",
   "execution_count": 23,
   "metadata": {},
   "outputs": [
    {
     "data": {
      "text/html": [
       "<div>\n",
       "<style scoped>\n",
       "    .dataframe tbody tr th:only-of-type {\n",
       "        vertical-align: middle;\n",
       "    }\n",
       "\n",
       "    .dataframe tbody tr th {\n",
       "        vertical-align: top;\n",
       "    }\n",
       "\n",
       "    .dataframe thead th {\n",
       "        text-align: right;\n",
       "    }\n",
       "</style>\n",
       "<table border=\"1\" class=\"dataframe\">\n",
       "  <thead>\n",
       "    <tr style=\"text-align: right;\">\n",
       "      <th></th>\n",
       "      <th>match_id</th>\n",
       "      <th>season</th>\n",
       "      <th>start_date</th>\n",
       "      <th>venue</th>\n",
       "      <th>innings</th>\n",
       "      <th>ball</th>\n",
       "      <th>batting_team</th>\n",
       "      <th>bowling_team</th>\n",
       "      <th>striker</th>\n",
       "      <th>non_striker</th>\n",
       "      <th>...</th>\n",
       "      <th>extras</th>\n",
       "      <th>wides</th>\n",
       "      <th>noballs</th>\n",
       "      <th>byes</th>\n",
       "      <th>legbyes</th>\n",
       "      <th>penalty</th>\n",
       "      <th>wicket_type</th>\n",
       "      <th>player_dismissed</th>\n",
       "      <th>other_wicket_type</th>\n",
       "      <th>other_player_dismissed</th>\n",
       "    </tr>\n",
       "  </thead>\n",
       "  <tbody>\n",
       "    <tr>\n",
       "      <th>123</th>\n",
       "      <td>896463</td>\n",
       "      <td>2015/16</td>\n",
       "      <td>2015-12-18</td>\n",
       "      <td>Drummoyne Oval</td>\n",
       "      <td>2</td>\n",
       "      <td>0.2</td>\n",
       "      <td>Melbourne Stars</td>\n",
       "      <td>Sydney Sixers</td>\n",
       "      <td>MM Lanning</td>\n",
       "      <td>KM Mack</td>\n",
       "      <td>...</td>\n",
       "      <td>0</td>\n",
       "      <td>NaN</td>\n",
       "      <td>NaN</td>\n",
       "      <td>NaN</td>\n",
       "      <td>NaN</td>\n",
       "      <td>NaN</td>\n",
       "      <td>NaN</td>\n",
       "      <td>NaN</td>\n",
       "      <td>NaN</td>\n",
       "      <td>NaN</td>\n",
       "    </tr>\n",
       "  </tbody>\n",
       "</table>\n",
       "<p>1 rows × 22 columns</p>\n",
       "</div>"
      ],
      "text/plain": [
       "     match_id   season start_date           venue  innings  ball  \\\n",
       "123    896463  2015/16 2015-12-18  Drummoyne Oval        2   0.2   \n",
       "\n",
       "        batting_team   bowling_team     striker non_striker  ... extras  \\\n",
       "123  Melbourne Stars  Sydney Sixers  MM Lanning     KM Mack  ...      0   \n",
       "\n",
       "     wides  noballs  byes  legbyes  penalty  wicket_type  player_dismissed  \\\n",
       "123    NaN      NaN   NaN      NaN      NaN          NaN               NaN   \n",
       "\n",
       "    other_wicket_type other_player_dismissed  \n",
       "123               NaN                    NaN  \n",
       "\n",
       "[1 rows x 22 columns]"
      ]
     },
     "execution_count": 23,
     "metadata": {},
     "output_type": "execute_result"
    }
   ],
   "source": [
    "df.head(1)"
   ]
  },
  {
   "cell_type": "code",
   "execution_count": 24,
   "metadata": {},
   "outputs": [
    {
     "data": {
      "text/html": [
       "<div>\n",
       "<style scoped>\n",
       "    .dataframe tbody tr th:only-of-type {\n",
       "        vertical-align: middle;\n",
       "    }\n",
       "\n",
       "    .dataframe tbody tr th {\n",
       "        vertical-align: top;\n",
       "    }\n",
       "\n",
       "    .dataframe thead th {\n",
       "        text-align: right;\n",
       "    }\n",
       "</style>\n",
       "<table border=\"1\" class=\"dataframe\">\n",
       "  <thead>\n",
       "    <tr style=\"text-align: right;\">\n",
       "      <th></th>\n",
       "      <th>match_id</th>\n",
       "      <th>season</th>\n",
       "      <th>start_date</th>\n",
       "      <th>venue</th>\n",
       "      <th>innings</th>\n",
       "      <th>ball</th>\n",
       "      <th>batting_team</th>\n",
       "      <th>bowling_team</th>\n",
       "      <th>striker</th>\n",
       "      <th>non_striker</th>\n",
       "      <th>...</th>\n",
       "      <th>extras</th>\n",
       "      <th>wides</th>\n",
       "      <th>noballs</th>\n",
       "      <th>byes</th>\n",
       "      <th>legbyes</th>\n",
       "      <th>penalty</th>\n",
       "      <th>wicket_type</th>\n",
       "      <th>player_dismissed</th>\n",
       "      <th>other_wicket_type</th>\n",
       "      <th>other_player_dismissed</th>\n",
       "    </tr>\n",
       "  </thead>\n",
       "  <tbody>\n",
       "    <tr>\n",
       "      <th>168</th>\n",
       "      <td>1226963</td>\n",
       "      <td>2020/21</td>\n",
       "      <td>2020-11-29</td>\n",
       "      <td>North Sydney Oval</td>\n",
       "      <td>2</td>\n",
       "      <td>7.5</td>\n",
       "      <td>Sydney Thunder</td>\n",
       "      <td>Melbourne Stars</td>\n",
       "      <td>R Trenaman</td>\n",
       "      <td>HC Knight</td>\n",
       "      <td>...</td>\n",
       "      <td>0</td>\n",
       "      <td>NaN</td>\n",
       "      <td>NaN</td>\n",
       "      <td>NaN</td>\n",
       "      <td>NaN</td>\n",
       "      <td>NaN</td>\n",
       "      <td>NaN</td>\n",
       "      <td>NaN</td>\n",
       "      <td>NaN</td>\n",
       "      <td>NaN</td>\n",
       "    </tr>\n",
       "  </tbody>\n",
       "</table>\n",
       "<p>1 rows × 22 columns</p>\n",
       "</div>"
      ],
      "text/plain": [
       "     match_id   season start_date              venue  innings  ball  \\\n",
       "168   1226963  2020/21 2020-11-29  North Sydney Oval        2   7.5   \n",
       "\n",
       "       batting_team     bowling_team     striker non_striker  ... extras  \\\n",
       "168  Sydney Thunder  Melbourne Stars  R Trenaman   HC Knight  ...      0   \n",
       "\n",
       "     wides  noballs  byes  legbyes  penalty  wicket_type  player_dismissed  \\\n",
       "168    NaN      NaN   NaN      NaN      NaN          NaN               NaN   \n",
       "\n",
       "    other_wicket_type other_player_dismissed  \n",
       "168               NaN                    NaN  \n",
       "\n",
       "[1 rows x 22 columns]"
      ]
     },
     "execution_count": 24,
     "metadata": {},
     "output_type": "execute_result"
    }
   ],
   "source": [
    "df.tail(1)"
   ]
  },
  {
   "cell_type": "code",
   "execution_count": 25,
   "metadata": {},
   "outputs": [],
   "source": [
    "df.to_csv('WBBL_ball_by_ball.csv', index = None)"
   ]
  },
  {
   "cell_type": "code",
   "execution_count": null,
   "metadata": {},
   "outputs": [],
   "source": []
  }
 ],
 "metadata": {
  "kernelspec": {
   "display_name": "Python 3",
   "language": "python",
   "name": "python3"
  },
  "language_info": {
   "codemirror_mode": {
    "name": "ipython",
    "version": 3
   },
   "file_extension": ".py",
   "mimetype": "text/x-python",
   "name": "python",
   "nbconvert_exporter": "python",
   "pygments_lexer": "ipython3",
   "version": "3.7.6"
  }
 },
 "nbformat": 4,
 "nbformat_minor": 2
}
